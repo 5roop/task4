{
 "cells": [
  {
   "cell_type": "code",
   "execution_count": 20,
   "metadata": {},
   "outputs": [],
   "source": [
    "import os\n",
    "import parse\n",
    "import fasttext\n",
    "import pandas as pd\n",
    "import matplotlib.pyplot as plt\n",
    "from sklearn.metrics import accuracy_score, f1_score\n",
    "# plt.style.use([\"science\", \"ieee\"])\n"
   ]
  },
  {
   "cell_type": "code",
   "execution_count": 3,
   "metadata": {},
   "outputs": [
    {
     "name": "stderr",
     "output_type": "stream",
     "text": [
      "Warning : `load_model` does not return WordVectorModel or SupervisedModel any more, but a `FastText` object which is very similar.\n"
     ]
    }
   ],
   "source": [
    "model_file = \"/home/peterr/macocu/taskB/data/models/ftmodel_3.bin\"\n",
    "\n",
    "model = fasttext.load_model(model_file)"
   ]
  },
  {
   "cell_type": "code",
   "execution_count": 41,
   "metadata": {},
   "outputs": [],
   "source": [
    "setimes_test_path = \"/home/peterr/macocu/taskB/data/interim/test.fasttxt\"\n",
    "setimes_train_path = \"/home/peterr/macocu/taskB/data/interim/train.fasttxt\"\n",
    "twitter_path = \"/home/peterr/macocu/taskB/data/interim/twitter.json\"\n",
    "\n",
    "def get_setimes_labels_text(path):\n",
    "    labels, texts = list(), list()\n",
    "    with open(path,\"r\") as f:\n",
    "        pattern = \"__label__{language} {text}\"\n",
    "        p = parse.compile(pattern)\n",
    "        for line in f.readlines():\n",
    "            rez = p.parse(line)\n",
    "            labels.append(rez[\"language\"])\n",
    "            texts.append(rez[\"text\"].replace(\"\\n\", \" \"))\n",
    "    return labels, texts\n",
    "\n",
    "def get_twitter_labels_text(path):\n",
    "    labels, texts = list(), list()\n",
    "    import json\n",
    "    with open(path, \"r\") as f:\n",
    "        content = json.load(f)\n",
    "    for user, data in content.items():\n",
    "        language = data[\"language\"]\n",
    "        for tweet in data[\"tweets\"]:\n",
    "            labels.append(language)\n",
    "            texts.append(tweet.replace(\"\\n\", \" \"))\n",
    "    return labels, texts"
   ]
  },
  {
   "cell_type": "code",
   "execution_count": 19,
   "metadata": {},
   "outputs": [
    {
     "data": {
      "image/png": "[encoded data removed]",
      "text/plain": [
       "<Figure size 432x288 with 1 Axes>"
      ]
     },
     "metadata": {
      "needs_background": "light"
     },
     "output_type": "display_data"
    }
   ],
   "source": [
    "l,t = get_twitter_labels_text(twitter_path)\n",
    "plt.hist(l)\n",
    "plt.title(\"Twitter data\")\n",
    "plt.savefig(\"images/twitter.png\")\n",
    "plt.show()"
   ]
  },
  {
   "cell_type": "markdown",
   "metadata": {},
   "source": [
    "## Evaluating the model on SETIMES dataset:"
   ]
  },
  {
   "cell_type": "code",
   "execution_count": 39,
   "metadata": {},
   "outputs": [
    {
     "name": "stdout",
     "output_type": "stream",
     "text": [
      "Accuracy: 0.997\n",
      "F1 score: 0.996\n"
     ]
    }
   ],
   "source": [
    "y_true, texts = get_setimes_labels_text(setimes_test_path)\n",
    "y_pred =  [i[0].replace(\"__label__\", \"\") for i in model.predict(texts)[0]]\n",
    "\n",
    "\n",
    "accuracy = accuracy_score(y_true, y_pred)\n",
    "print(f\"Accuracy: {accuracy:0.3}\")\n",
    "f1 = f1_score(y_true, y_pred, labels=list(set(y_true)), average=\"macro\")\n",
    "print(f\"F1 score: {f1:0.3}\")"
   ]
  },
  {
   "cell_type": "markdown",
   "metadata": {},
   "source": [
    "## Evaluating the model on twitter data"
   ]
  },
  {
   "cell_type": "code",
   "execution_count": 42,
   "metadata": {},
   "outputs": [
    {
     "name": "stdout",
     "output_type": "stream",
     "text": [
      "Accuracy: 0.375\n",
      "F1 score: 0.246\n"
     ]
    }
   ],
   "source": [
    "y_true, texts = get_twitter_labels_text(twitter_path)\n",
    "y_pred =  [i[0].replace(\"__label__\", \"\") for i in model.predict(texts)[0]]\n",
    "\n",
    "\n",
    "accuracy = accuracy_score(y_true, y_pred)\n",
    "print(f\"Accuracy: {accuracy:0.3}\")\n",
    "f1 = f1_score(y_true, y_pred, labels=list(set(y_true)), average=\"macro\")\n",
    "print(f\"F1 score: {f1:0.3}\")"
   ]
  },
  {
   "cell_type": "code",
   "execution_count": 45,
   "metadata": {},
   "outputs": [
    {
     "data": {
      "text/plain": [
       "([['__label__sr', '__label__hr', '__label__bs'],\n",
       "  ['__label__bs', '__label__sr', '__label__hr']],\n",
       " [array([0.8810873 , 0.09140356, 0.02753914], dtype=float32),\n",
       "  array([0.68419594, 0.17656893, 0.13926509], dtype=float32)])"
      ]
     },
     "execution_count": 45,
     "metadata": {},
     "output_type": "execute_result"
    }
   ],
   "source": [
    "model.predict([\"Čovek\", \"Čovjek\"], k=3)"
   ]
  },
  {
   "cell_type": "code",
   "execution_count": null,
   "metadata": {},
   "outputs": [],
   "source": []
  }
 ],
 "metadata": {
  "interpreter": {
   "hash": "7f6f5766036ee03d059e365a942add07f79c17033585e9357ee8157d52fe6bb9"
  },
  "kernelspec": {
   "display_name": "Python 3.8.3 64-bit ('base': conda)",
   "name": "python3"
  },
  "language_info": {
   "codemirror_mode": {
    "name": "ipython",
    "version": 3
   },
   "file_extension": ".py",
   "mimetype": "text/x-python",
   "name": "python",
   "nbconvert_exporter": "python",
   "pygments_lexer": "ipython3",
   "version": "3.8.3"
  },
  "orig_nbformat": 4
 },
 "nbformat": 4,
 "nbformat_minor": 2
}
