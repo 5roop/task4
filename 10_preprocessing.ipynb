{
 "cells": [
  {
   "cell_type": "markdown",
   "metadata": {},
   "source": [
    "The purpose of this notebook is to preprocess the corpus.\n",
    "\n",
    "What we want to do:\n",
    "* Transliterate cyrillic into latin\n",
    "* Remove punctuation (`,)(.:;` plus exotic quotation marks)"
   ]
  },
  {
   "cell_type": "code",
   "execution_count": 1,
   "metadata": {},
   "outputs": [],
   "source": [
    "import os\n",
    "import logging\n",
    "\n",
    "logging.basicConfig(format='%(asctime)s - %(message)s', level=logging.INFO)\n",
    "\n",
    "\n",
    "raw_dir = \"/home/peterr/macocu/taskB/data/raw\"\n",
    "interim_dir = \"/home/peterr/macocu/taskB/data/interim\"\n",
    "final_dir = \"/home/peterr/macocu/taskB/data/final\"\n",
    "\n",
    "\n",
    "files = [\"bswac\",\"cnrwac\",\"hrwac\",\"srwac\"]"
   ]
  },
  {
   "cell_type": "markdown",
   "metadata": {},
   "source": [
    "## Creating a toy dataset for testing purposes:"
   ]
  },
  {
   "cell_type": "code",
   "execution_count": 2,
   "metadata": {},
   "outputs": [],
   "source": [
    "%%bash\n",
    "for file in {bswac,cnrwac,hrwac,srwac}\n",
    "do\n",
    "head -n 1000000 \"/home/peterr/macocu/taskB/data/raw/$file\" > \"/home/peterr/macocu/taskB/data/interim/$file\"_head\n",
    "tail -n 1000000 \"/home/peterr/macocu/taskB/data/raw/$file\" > \"/home/peterr/macocu/taskB/data/interim/$file\"_tail\n",
    "done\n"
   ]
  },
  {
   "cell_type": "code",
   "execution_count": 3,
   "metadata": {},
   "outputs": [],
   "source": [
    "cnr_path = os.path.join(interim_dir, \"cnrwac_head\")\n",
    "with open(cnr_path, \"r\") as f:\n",
    "    chars = set(f.read())"
   ]
  },
  {
   "cell_type": "code",
   "execution_count": 4,
   "metadata": {},
   "outputs": [],
   "source": [
    "# chars was inspected and a collection of unwanted characters was chosen.\n",
    "# See chars_to_remove"
   ]
  },
  {
   "cell_type": "code",
   "execution_count": 3,
   "metadata": {},
   "outputs": [
    {
     "name": "stderr",
     "output_type": "stream",
     "text": [
      "2021-12-31 10:30:16,883 - Started preprocessing file bswac_head.\n",
      "2021-12-31 10:30:37,832 - Started preprocessing file cnrwac_head.\n",
      "2021-12-31 10:31:53,938 - Started preprocessing file hrwac_head.\n",
      "2021-12-31 10:32:14,434 - Started preprocessing file srwac_head.\n",
      "2021-12-31 10:32:35,015 - Started preprocessing file bswac_tail.\n",
      "2021-12-31 10:32:55,134 - Started preprocessing file cnrwac_tail.\n",
      "2021-12-31 10:34:09,381 - Started preprocessing file hrwac_tail.\n",
      "2021-12-31 10:34:28,404 - Started preprocessing file srwac_tail.\n",
      "2021-12-31 10:34:48,182 - Started preprocessing file bswac.\n",
      "2021-12-31 10:39:36,245 - Started preprocessing file cnrwac.\n",
      "2021-12-31 10:42:25,695 - Started preprocessing file hrwac.\n"
     ]
    }
   ],
   "source": [
    "chars_to_remove = {\n",
    "    '!',\n",
    "    '\"',\n",
    "    '#',\n",
    "    '%',\n",
    "    '&',\n",
    "    \"'\",\n",
    "    '(',\n",
    "    ')',\n",
    "    '*',\n",
    "    '+',\n",
    "    ',',\n",
    "    '-',\n",
    "    '.',\n",
    "    '/',\n",
    "    ':',\n",
    "    ';',\n",
    "    '<',\n",
    "    '=',\n",
    "    '>',\n",
    "    '?',\n",
    "    '[',\n",
    "    ']',\n",
    "    '_',\n",
    "    '`',\n",
    "    '«',\n",
    "    '°',\n",
    "    '²',\n",
    "    '³',\n",
    "    'µ',\n",
    "    '·',\n",
    "    '»',\n",
    "    '½',\n",
    "    '‑',\n",
    "    '–',\n",
    "    '‘',\n",
    "    '’',\n",
    "    '“',\n",
    "    '”',\n",
    "    '„',\n",
    "    '•',\n",
    "    '…',\n",
    "    '‰',\n",
    "    '″',\n",
    "    '₂',\n",
    "    '₃',\n",
    "    '€',\n",
    "    '™',\n",
    "    '→',\n",
    "    '−',\n",
    "    '∕',\n",
    "    '😀',\n",
    "    '😉',\n",
    "    '🙁',\n",
    "    '🙂'\n",
    "\n",
    "}\n",
    "\n",
    "\n",
    "from typing import Set\n",
    "def remove_chars(input_text: str, chars_to_remove: Set[str]) -> str:\n",
    "    for c in chars_to_remove:\n",
    "        input_text = input_text.replace(c, \"\")\n",
    "    return input_text\n",
    "\n",
    "def transliterate(input_text: str) -> str:\n",
    "    from transliterate import translit\n",
    "    return translit(input_text, \"sr\", reversed=True)\n",
    "\n",
    "# Sort out the subsets:\n",
    "for file in files:\n",
    "    file = file + \"_head\"\n",
    "    logging.info(f\"Started preprocessing file {file}.\")\n",
    "    input_path = os.path.join(interim_dir, file)\n",
    "    with open(input_path, \"r\") as f:\n",
    "        text = f.read()\n",
    "    text = remove_chars(text, chars_to_remove)\n",
    "    text = transliterate(text)\n",
    "    output_path = os.path.join(interim_dir, file+\"_pp\")\n",
    "    with open(output_path, \"w\") as f:\n",
    "        f.write(text)\n",
    "\n",
    "for file in files:\n",
    "    file = file + \"_tail\"\n",
    "    logging.info(f\"Started preprocessing file {file}.\")\n",
    "    input_path = os.path.join(interim_dir, file)\n",
    "    with open(input_path, \"r\") as f:\n",
    "        text = f.read()\n",
    "    text = remove_chars(text, chars_to_remove)\n",
    "    text = transliterate(text)\n",
    "    output_path = os.path.join(interim_dir, file+\"_pp\")\n",
    "    with open(output_path, \"w\") as f:\n",
    "        f.write(text)\n",
    "\n",
    "# Sort out the whole files:\n",
    "for file in files:\n",
    "    logging.info(f\"Started preprocessing file {file}.\")\n",
    "    input_path = os.path.join(raw_dir, file)\n",
    "    with open(input_path, \"r\") as f:\n",
    "        text = f.read()\n",
    "    text = remove_chars(text, chars_to_remove)\n",
    "    text = transliterate(text)\n",
    "    output_path = os.path.join(interim_dir, file+\"_pp\")\n",
    "    with open(output_path, \"w\") as f:\n",
    "        f.write(text)"
   ]
  },
  {
   "cell_type": "code",
   "execution_count": null,
   "metadata": {},
   "outputs": [],
   "source": []
  }
 ],
 "metadata": {
  "interpreter": {
   "hash": "7f6f5766036ee03d059e365a942add07f79c17033585e9357ee8157d52fe6bb9"
  },
  "kernelspec": {
   "display_name": "Python 3.8.3 64-bit ('base': conda)",
   "language": "python",
   "name": "python3"
  },
  "language_info": {
   "codemirror_mode": {
    "name": "ipython",
    "version": 3
   },
   "file_extension": ".py",
   "mimetype": "text/x-python",
   "name": "python",
   "nbconvert_exporter": "python",
   "pygments_lexer": "ipython3",
   "version": "3.8.3"
  },
  "orig_nbformat": 4
 },
 "nbformat": 4,
 "nbformat_minor": 2
}
