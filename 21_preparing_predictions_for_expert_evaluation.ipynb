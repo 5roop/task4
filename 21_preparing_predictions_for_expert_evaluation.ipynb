{
 "cells": [
  {
   "cell_type": "markdown",
   "metadata": {},
   "source": [
    "In this dataset a classifier will be trained on N=800, evaluated in-domain, and text, labels and predictions will be saved for domain expert examination."
   ]
  },
  {
   "cell_type": "code",
   "execution_count": 1,
   "metadata": {},
   "outputs": [
    {
     "name": "stderr",
     "output_type": "stream",
     "text": [
      "2022-01-14 16:01:49,806 - NumExpr defaulting to 8 threads.\n",
      "<ipython-input-1-32396805b000>:51: SettingWithCopyWarning: \n",
      "A value is trying to be set on a copy of a slice from a DataFrame.\n",
      "Try using .loc[row_indexer,col_indexer] = value instead\n",
      "\n",
      "See the caveats in the documentation: https://pandas.pydata.org/pandas-docs/stable/user_guide/indexing.html#returning-a-view-versus-a-copy\n",
      "  eval_df[\"predicted\"] = y_pred\n"
     ]
    }
   ],
   "source": [
    "from sklearn.feature_extraction.text import CountVectorizer\n",
    "from sklearn.naive_bayes import GaussianNB\n",
    "from sklearn.model_selection import train_test_split\n",
    "import os\n",
    "import gc\n",
    "import parse\n",
    "import logging\n",
    "import numpy as np\n",
    "import pandas as pd\n",
    "\n",
    "from utils import get_N_tokens, read_and_split_file, raw_dir, interim_dir, final_dir, load_SET_dataset, LABELS\n",
    "\n",
    "logging.basicConfig(format=\"%(asctime)s - %(message)s\", level=logging.INFO)\n",
    "\n",
    "\n",
    "texts, labels = list(), list()\n",
    "\n",
    "files = [\"bswac_tail_pp\", \"cnrwac_tail_pp_corrected_2\",\n",
    "         \"hrwac_tail_pp\", \"srwac_tail_pp\"]\n",
    "\n",
    "langs = [\"bs\", \"me\", \"hr\", \"sr\"]\n",
    "\n",
    "for file, lang in zip(files, langs):\n",
    "    full_path = os.path.join(interim_dir, file)\n",
    "    current_texts = read_and_split_file(full_path)\n",
    "    len_cur_texts = len(current_texts)\n",
    "    texts.extend(current_texts)\n",
    "    labels.extend([lang] * len_cur_texts)\n",
    "\n",
    "dataset = pd.DataFrame(data={\"text\": texts, \"labels\": labels})\n",
    "train, eval_df = train_test_split(dataset, test_size=0.1, stratify=dataset.labels)\n",
    "\n",
    "\n",
    "clf = GaussianNB()\n",
    "\n",
    "# Create tokenizer:\n",
    "N = 800\n",
    "vocabulary = get_N_tokens(N)\n",
    "vectorizer = CountVectorizer(\n",
    "    vocabulary=vocabulary, lowercase=True, binary=True)\n",
    "\n",
    "train_vectors = vectorizer.fit_transform(train.text)\n",
    "train_labels = train.labels\n",
    "test_vectors = vectorizer.fit_transform(eval_df.text)\n",
    "y_true = eval_df.labels\n",
    "\n",
    "\n",
    "clf.fit(train_vectors.toarray(), train_labels)\n",
    "y_pred = clf.predict(test_vectors.toarray())\n",
    "\n",
    "eval_df[\"predicted\"] = y_pred\n"
   ]
  },
  {
   "cell_type": "code",
   "execution_count": 2,
   "metadata": {},
   "outputs": [
    {
     "name": "stderr",
     "output_type": "stream",
     "text": [
      "<ipython-input-2-ced641e97915>:4: SettingWithCopyWarning: \n",
      "A value is trying to be set on a copy of a slice from a DataFrame.\n",
      "Try using .loc[row_indexer,col_indexer] = value instead\n",
      "\n",
      "See the caveats in the documentation: https://pandas.pydata.org/pandas-docs/stable/user_guide/indexing.html#returning-a-view-versus-a-copy\n",
      "  eval_df[\"text\"] = eval_df.text.apply(clean_whitespace)\n",
      "/home/peterr/anaconda3/lib/python3.8/site-packages/pandas/core/frame.py:4125: SettingWithCopyWarning: \n",
      "A value is trying to be set on a copy of a slice from a DataFrame\n",
      "\n",
      "See the caveats in the documentation: https://pandas.pydata.org/pandas-docs/stable/user_guide/indexing.html#returning-a-view-versus-a-copy\n",
      "  return super().rename(\n"
     ]
    }
   ],
   "source": [
    "def clean_whitespace(s: str) -> str:\n",
    "    return \" \".join(s.split())\n",
    "\n",
    "eval_df[\"text\"] = eval_df.text.apply(clean_whitespace)\n",
    "eval_df.rename(columns={\"labels\": \"gold\"}, inplace=True)"
   ]
  },
  {
   "cell_type": "code",
   "execution_count": null,
   "metadata": {},
   "outputs": [],
   "source": [
    "eval_df.loc[:, [\"gold\", \"predicted\", \"text\"]].to_csv(\"21_text_labels_predictions.csv\", sep=\"\\t\", index=False)"
   ]
  }
 ],
 "metadata": {
  "interpreter": {
   "hash": "7f6f5766036ee03d059e365a942add07f79c17033585e9357ee8157d52fe6bb9"
  },
  "kernelspec": {
   "display_name": "Python 3.8.3 64-bit ('base': conda)",
   "language": "python",
   "name": "python3"
  },
  "language_info": {
   "codemirror_mode": {
    "name": "ipython",
    "version": 3
   },
   "file_extension": ".py",
   "mimetype": "text/x-python",
   "name": "python",
   "nbconvert_exporter": "python",
   "pygments_lexer": "ipython3",
   "version": "3.8.3"
  },
  "orig_nbformat": 4
 },
 "nbformat": 4,
 "nbformat_minor": 2
}
