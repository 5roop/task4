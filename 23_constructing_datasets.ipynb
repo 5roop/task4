{
 "cells": [
  {
   "cell_type": "code",
   "execution_count": 25,
   "metadata": {},
   "outputs": [],
   "source": [
    "import pandas as pd\n",
    "import matplotlib.pyplot as plt\n",
    "import os\n",
    "import parse\n",
    "\n",
    "plt.style.use([\"science\", \"no-latex\"])\n",
    "LABELS = [\"hr\", \"bs\", \"sr\", \"me\"]\n",
    "raw_dir = \"/home/peterr/macocu/taskB/data/raw\"\n",
    "interim_dir = \"/home/peterr/macocu/taskB/data/interim\"\n",
    "final_dir = \"/home/peterr/macocu/taskB/data/final\"\n",
    "\n",
    "\n",
    "def load_SET_dataset():\n",
    "    SETimes = list()\n",
    "    splits = list()\n",
    "    for split in [\"train\", \"test\", \"dev\"]:\n",
    "        with open(os.path.join(final_dir, f\"{split}.fasttxt\"), \"r\") as f:\n",
    "            lines = f.readlines()\n",
    "            SETimes.extend(lines)\n",
    "            splits.extend([split]*len(lines))\n",
    "    p = parse.compile(\"__label__{lang} {text}\")\n",
    "    langs = list()\n",
    "    texts = list()\n",
    "\n",
    "    for line in SETimes:\n",
    "        results = p.parse(line)\n",
    "        if not results:\n",
    "            logging.error(f\"Error parsing line {line}\")\n",
    "            continue\n",
    "        langs.append(results[\"lang\"])\n",
    "        texts.append(results[\"text\"])\n",
    "    eval_df = pd.DataFrame(data={\"text\": texts, \"labels\": langs, \"split\": splits })\n",
    "    return eval_df"
   ]
  },
  {
   "cell_type": "code",
   "execution_count": 26,
   "metadata": {},
   "outputs": [],
   "source": [
    "df = load_SET_dataset()"
   ]
  },
  {
   "cell_type": "code",
   "execution_count": 27,
   "metadata": {},
   "outputs": [
    {
     "data": {
      "text/html": [
       "<div>\n",
       "<style scoped>\n",
       "    .dataframe tbody tr th:only-of-type {\n",
       "        vertical-align: middle;\n",
       "    }\n",
       "\n",
       "    .dataframe tbody tr th {\n",
       "        vertical-align: top;\n",
       "    }\n",
       "\n",
       "    .dataframe thead th {\n",
       "        text-align: right;\n",
       "    }\n",
       "</style>\n",
       "<table border=\"1\" class=\"dataframe\">\n",
       "  <thead>\n",
       "    <tr style=\"text-align: right;\">\n",
       "      <th></th>\n",
       "      <th>text</th>\n",
       "      <th>labels</th>\n",
       "      <th>split</th>\n",
       "    </tr>\n",
       "  </thead>\n",
       "  <tbody>\n",
       "    <tr>\n",
       "      <th>2558</th>\n",
       "      <td>Kultura i sport: Makedonski pravoslavci prosla...</td>\n",
       "      <td>hr</td>\n",
       "      <td>train</td>\n",
       "    </tr>\n",
       "    <tr>\n",
       "      <th>2559</th>\n",
       "      <td>Arsim Bajrami je predsjedavajući Odbora skupšt...</td>\n",
       "      <td>hr</td>\n",
       "      <td>train</td>\n",
       "    </tr>\n",
       "    <tr>\n",
       "      <th>2560</th>\n",
       "      <td>U Srbiji se obavljaju samo presađivanje bubreg...</td>\n",
       "      <td>hr</td>\n",
       "      <td>train</td>\n",
       "    </tr>\n",
       "    <tr>\n",
       "      <th>2561</th>\n",
       "      <td>Useljenik nosi kašetu rajčica na glavnoj tržni...</td>\n",
       "      <td>hr</td>\n",
       "      <td>train</td>\n",
       "    </tr>\n",
       "    <tr>\n",
       "      <th>2562</th>\n",
       "      <td>Oko petina stanovništva BiH posjeduje neregist...</td>\n",
       "      <td>hr</td>\n",
       "      <td>train</td>\n",
       "    </tr>\n",
       "    <tr>\n",
       "      <th>...</th>\n",
       "      <td>...</td>\n",
       "      <td>...</td>\n",
       "      <td>...</td>\n",
       "    </tr>\n",
       "    <tr>\n",
       "      <th>8944</th>\n",
       "      <td>Ministar prosvjete Pero Stojanovski izjavio je...</td>\n",
       "      <td>hr</td>\n",
       "      <td>dev</td>\n",
       "    </tr>\n",
       "    <tr>\n",
       "      <th>8945</th>\n",
       "      <td>Obnovljena bolnica pruža pacijentima veću udob...</td>\n",
       "      <td>hr</td>\n",
       "      <td>dev</td>\n",
       "    </tr>\n",
       "    <tr>\n",
       "      <th>8946</th>\n",
       "      <td>Predsjednik Srbije Boris Tadić smije se uoči p...</td>\n",
       "      <td>hr</td>\n",
       "      <td>dev</td>\n",
       "    </tr>\n",
       "    <tr>\n",
       "      <th>8947</th>\n",
       "      <td>Predsjednik kompanije Zarubezhnefta Vladimir I...</td>\n",
       "      <td>hr</td>\n",
       "      <td>dev</td>\n",
       "    </tr>\n",
       "    <tr>\n",
       "      <th>8948</th>\n",
       "      <td>Većina novca iskoristit će se za potporu društ...</td>\n",
       "      <td>hr</td>\n",
       "      <td>dev</td>\n",
       "    </tr>\n",
       "  </tbody>\n",
       "</table>\n",
       "<p>3196 rows × 3 columns</p>\n",
       "</div>"
      ],
      "text/plain": [
       "                                                   text labels  split\n",
       "2558  Kultura i sport: Makedonski pravoslavci prosla...     hr  train\n",
       "2559  Arsim Bajrami je predsjedavajući Odbora skupšt...     hr  train\n",
       "2560  U Srbiji se obavljaju samo presađivanje bubreg...     hr  train\n",
       "2561  Useljenik nosi kašetu rajčica na glavnoj tržni...     hr  train\n",
       "2562  Oko petina stanovništva BiH posjeduje neregist...     hr  train\n",
       "...                                                 ...    ...    ...\n",
       "8944  Ministar prosvjete Pero Stojanovski izjavio je...     hr    dev\n",
       "8945  Obnovljena bolnica pruža pacijentima veću udob...     hr    dev\n",
       "8946  Predsjednik Srbije Boris Tadić smije se uoči p...     hr    dev\n",
       "8947  Predsjednik kompanije Zarubezhnefta Vladimir I...     hr    dev\n",
       "8948  Većina novca iskoristit će se za potporu društ...     hr    dev\n",
       "\n",
       "[3196 rows x 3 columns]"
      ]
     },
     "execution_count": 27,
     "metadata": {},
     "output_type": "execute_result"
    }
   ],
   "source": [
    "df.loc[df.labels==\"hr\", :]"
   ]
  },
  {
   "cell_type": "code",
   "execution_count": 28,
   "metadata": {},
   "outputs": [
    {
     "data": {
      "text/plain": [
       "hr    3196\n",
       "bs    3195\n",
       "sr    2867\n",
       "Name: labels, dtype: int64"
      ]
     },
     "execution_count": 28,
     "metadata": {},
     "output_type": "execute_result"
    }
   ],
   "source": [
    "df.labels.value_counts()"
   ]
  },
  {
   "cell_type": "code",
   "execution_count": 37,
   "metadata": {},
   "outputs": [
    {
     "data": {
      "image/png": "[encoded data removed]",
      "text/plain": [
       "<Figure size 504x288 with 1 Axes>"
      ]
     },
     "metadata": {
      "needs_background": "light"
     },
     "output_type": "display_data"
    }
   ],
   "source": [
    "plt.figure(figsize=(7, 4))\n",
    "df.labels.value_counts().plot(kind=\"bar\")\n",
    "plt.title(\"Instances per language\")\n",
    "plt.gca().tick_params(axis=\"x\", rotation=0)\n",
    "\n",
    "plt.savefig(\"/home/peterr/macocu/taskB/task4/setimes_dataset/images/instances_per_language.png\")"
   ]
  },
  {
   "cell_type": "code",
   "execution_count": 63,
   "metadata": {},
   "outputs": [],
   "source": [
    "df[\"length\"] = df.text.apply(len)"
   ]
  },
  {
   "cell_type": "code",
   "execution_count": 64,
   "metadata": {},
   "outputs": [
    {
     "data": {
      "image/png": "[encoded data removed]",
      "text/plain": [
       "<Figure size 504x288 with 1 Axes>"
      ]
     },
     "metadata": {
      "needs_background": "light"
     },
     "output_type": "display_data"
    }
   ],
   "source": [
    "plt.figure(figsize=(7, 4))\n",
    "for lang in df.labels.unique():\n",
    "    plt.hist(df.loc[df.labels == lang, \"length\"].values, histtype=\"step\", label=lang, lw=3, bins=30 )\n",
    "plt.xlabel(\"Character count\")\n",
    "plt.legend()\n",
    "plt.title(\"Instance lengths distribution\")\n",
    "plt.savefig(\"/home/peterr/macocu/taskB/task4/setimes_dataset/images/distributions.png\")"
   ]
  },
  {
   "cell_type": "code",
   "execution_count": 50,
   "metadata": {},
   "outputs": [
    {
     "data": {
      "text/plain": [
       "(9258, 4)"
      ]
     },
     "execution_count": 50,
     "metadata": {},
     "output_type": "execute_result"
    }
   ],
   "source": [
    "df.shape"
   ]
  },
  {
   "cell_type": "code",
   "execution_count": 62,
   "metadata": {},
   "outputs": [],
   "source": [
    "\n",
    "df.drop(columns=\"length\"\n",
    "    ).rename(columns={\"labels\":\"language\"}\n",
    "    ).to_json(\"/home/peterr/macocu/taskB/task4/setimes_dataset/SETimes.json\",\n",
    "orient=\"index\", indent=4,\n",
    "\n",
    ")"
   ]
  },
  {
   "cell_type": "markdown",
   "metadata": {},
   "source": [
    "# Twitter dataset:"
   ]
  },
  {
   "cell_type": "code",
   "execution_count": 96,
   "metadata": {},
   "outputs": [],
   "source": [
    "import pickle\n",
    "import matplotlib.pyplot as plt\n",
    "plt.style.use(\"science,no-latex\".split(\",\"))\n",
    "import pandas as pd\n",
    "with open(\"../data/final/twitter_full_ds.pickle\", \"rb\") as f:\n",
    "    ds = pickle.load(f)"
   ]
  },
  {
   "cell_type": "code",
   "execution_count": 110,
   "metadata": {},
   "outputs": [
    {
     "data": {
      "text/html": [
       "<div>\n",
       "<style scoped>\n",
       "    .dataframe tbody tr th:only-of-type {\n",
       "        vertical-align: middle;\n",
       "    }\n",
       "\n",
       "    .dataframe tbody tr th {\n",
       "        vertical-align: top;\n",
       "    }\n",
       "\n",
       "    .dataframe thead th {\n",
       "        text-align: right;\n",
       "    }\n",
       "</style>\n",
       "<table border=\"1\" class=\"dataframe\">\n",
       "  <thead>\n",
       "    <tr style=\"text-align: right;\">\n",
       "      <th></th>\n",
       "      <th>user</th>\n",
       "      <th>language</th>\n",
       "      <th>tweets</th>\n",
       "    </tr>\n",
       "  </thead>\n",
       "  <tbody>\n",
       "    <tr>\n",
       "      <th>0</th>\n",
       "      <td>LeoVinkovic</td>\n",
       "      <td>hr</td>\n",
       "      <td>[ Hahahaha! i ja iz pera Sjajno! , Kruha &amp; Iga...</td>\n",
       "    </tr>\n",
       "    <tr>\n",
       "      <th>1</th>\n",
       "      <td>Vanjuus</td>\n",
       "      <td>sr</td>\n",
       "      <td>[Like it. Jureći ljubav. Novi singl Goribora. ...</td>\n",
       "    </tr>\n",
       "    <tr>\n",
       "      <th>2</th>\n",
       "      <td>Mracness</td>\n",
       "      <td>sr</td>\n",
       "      <td>[Ali nije mi ... Hvala , Mrzim kad mi neko kaž...</td>\n",
       "    </tr>\n",
       "    <tr>\n",
       "      <th>3</th>\n",
       "      <td>MilenaMina1</td>\n",
       "      <td>sr</td>\n",
       "      <td>[Today stats: 36 followers, 2 unfollowers and ...</td>\n",
       "    </tr>\n",
       "    <tr>\n",
       "      <th>4</th>\n",
       "      <td>JeremicJeremic</td>\n",
       "      <td>sr</td>\n",
       "      <td>[4 leka koja treba da koristim za uho,ah,  a j...</td>\n",
       "    </tr>\n",
       "  </tbody>\n",
       "</table>\n",
       "</div>"
      ],
      "text/plain": [
       "             user language                                             tweets\n",
       "0     LeoVinkovic       hr  [ Hahahaha! i ja iz pera Sjajno! , Kruha & Iga...\n",
       "1         Vanjuus       sr  [Like it. Jureći ljubav. Novi singl Goribora. ...\n",
       "2        Mracness       sr  [Ali nije mi ... Hvala , Mrzim kad mi neko kaž...\n",
       "3     MilenaMina1       sr  [Today stats: 36 followers, 2 unfollowers and ...\n",
       "4  JeremicJeremic       sr  [4 leka koja treba da koristim za uho,ah,  a j..."
      ]
     },
     "execution_count": 110,
     "metadata": {},
     "output_type": "execute_result"
    }
   ],
   "source": [
    "data = list()\n",
    "for user in ds.keys():\n",
    "    lang = ds[user][\"language\"]\n",
    "    data.append(\n",
    "        {\n",
    "            \"user\": user,\n",
    "            \"language\": lang,\n",
    "            \"tweets\": [i for i in ds.get(user).get(\"tweets\")]\n",
    "        }\n",
    "    )\n",
    "import re\n",
    "df = pd.DataFrame(data=data)\n",
    "df[\"tweets\"] = df.tweets.apply(lambda l: [re.sub('\\s+', ' ', s) for s in l]).apply(lambda l: [s for s in l if s != \" \"])\n",
    "\n",
    "df.head()"
   ]
  },
  {
   "cell_type": "code",
   "execution_count": 108,
   "metadata": {},
   "outputs": [
    {
     "data": {
      "text/plain": [
       "\"'Kruha & Igara' « via \""
      ]
     },
     "execution_count": 108,
     "metadata": {},
     "output_type": "execute_result"
    }
   ],
   "source": [
    "re.sub('\\s+', ' ', \"'Kruha & Igara' «     via \",)"
   ]
  },
  {
   "cell_type": "code",
   "execution_count": 107,
   "metadata": {},
   "outputs": [
    {
     "data": {
      "text/plain": [
       "[' Hahahaha!  i ja iz pera  Sjajno!  ',\n",
       " 'Kruha & Igara, plakat koji sam dizajnirao za portal   ',\n",
       " \"'Kruha & Igara' «     via \",\n",
       " '\"Habitat Pet Kindergarden Visual Identity\", a project on  ::   ',\n",
       " 'Novi vizualni identitet je u portfoliju. \"Habitat Pet Kindergarden Visual Identity\", a project on  ::   ',\n",
       " '\"Inchoo Visual Identity Redesign\", a project on  ::   ',\n",
       " '  hvala ti Luka :)',\n",
       " '  thx Boris :)',\n",
       " 'Portal Dizajn svaki dan napravio je intervju samnom. Hvala Mihaelu i ekipi na tome.  ',\n",
       " 'Leo Vinković: dobar dizajn je inovativan, zanimljiv i funkcionalan | Dizajn svaki dan:  ',\n",
       " ' Awesome package design for Honey products by    ',\n",
       " '  hvala Tomislave :)',\n",
       " 'Nakon Notcota, TheDielinea i mnogih drugih, Radosevic med objavljen je i na Student Show-u   ',\n",
       " 'Check out my entry to \\'s competition \"Wacom Talent Audition\":  ',\n",
       " ' Danas jedan osječki   za   i ',\n",
       " 'Check out new work on my  portfolio: \"Špela-Sub\"  ',\n",
       " '  publish my Honey Package design for Radosevic.     ',\n",
       " '\"Daria & Ivan Wedding identity and invitations\", a project on  ::   ',\n",
       " '  hvala brate :)',\n",
       " 'kolekcija nekih logotipova koje sam dizajnirao u posljednjih nekoliko godina  ',\n",
       " '\"Logo Collection 1\", a project on AIGA Member Gallery ::    via ',\n",
       " '  hvala :)',\n",
       " '\"Logo Collection 1\", a project on Student Show ::    via ',\n",
       " '\"Logo Collection 1\", a project on  ::   ',\n",
       " '\"Radosevic Honey Package\", a project on AIGA Member Gallery ::    via ',\n",
       " '\"Volunteer Center Osijek - Branding Identity System\", a project on Student Show ::    via ',\n",
       " '\"Radosevic Family Beekeeping - Identity\", a project on Student Show ::    via ',\n",
       " 'i  objavio pakiranje za  :)  ',\n",
       " ' Leo Vinković -  ',\n",
       " ' 28.6. Save the date! PechaKucha Night Osijek vol.3',\n",
       " 'Check out my portfolio on  and please like projects if you like them.          ',\n",
       " 'Ovo mi se ne cini kao ona usluga koju placam?  Check out my result from  !  ',\n",
       " '\"Radosevic Family Beekeeping - Identity\", a project on Student Show ::    via ',\n",
       " ' Beautiful honey package design by  on             ',\n",
       " 'TheDieline je objavio moj dizajn ambalaze za Med O.P. Radosevic :)  ',\n",
       " ' : Labels with a slight retro flair!     My package design for  on TheDieline',\n",
       " '  publish my honey package design for  :)      ',\n",
       " ' Honeycomb-inspired packaging for OP Radosevic honeys by Mit Design Studio.  ',\n",
       " \"  by    Tulip O'Hare says it best: Well, dip me in honey and throw me to the lesb\",\n",
       " ' Portal  o našem novom dizajnu by  :)  ',\n",
       " ' Srijedom predstavljamo projekte iz sfere oblikovanja ambalaže i vizualnih identiteta proizvoda. Radošević med  ',\n",
       " 'Portal  objavio je moj dizajn za   ',\n",
       " '\"Radosevic Honey Package\", a project on AIGA Member Gallery ::    via ',\n",
       " '  snima novi kratki film Puske i Barbike. Pogledajte prvi trailer   ',\n",
       " 'Novi domaci portal za jacanje vizualne kulture      ',\n",
       " ' Jeste li vidjeli naš novi dizajn? Dojmovi? :)  Check out new package design \"Radosevic Honey Package\" htt',\n",
       " ' Spremamo se za  konferenciju na kojoj će i naš  11.5. imati predavanje. Vidimo se :)  ',\n",
       " '   Hvala Vice :)',\n",
       " 'Check out new package design  portfolio: \"Radosevic Honey Package\"  ',\n",
       " '  Honey Package Design. Check it out!   ',\n",
       " 'Dizajn ambalaze Meda i Medunce za Radosevic obiteljsko pcelarstvo. :)  ',\n",
       " 'Check out new work on my  portfolio: \"Radosevic Honey Package\"  ',\n",
       " '  i  giveaway. Dijelimo majicu po izboru :)   ',\n",
       " ' Osvojite  t-shirt        ',\n",
       " ' Red Bull Editions - ista krila, novi okus - brusnica, borovnica, limeta      ',\n",
       " '   da! :) evo i pastetu od tune sam napravio uz vino pa ti nemoj opet doc',\n",
       " '   ja uvijek imam spremnog vina, zvao sam te nekoliko puta i uvijek si eskiviro dolazak :p',\n",
       " '   mah, po bontonu bi nekat trebo i zvat kod sebe, s obzirom da nisi, sam sam se pozvo. U tom slucaju vino ti rjesi ;)',\n",
       " '   ohladi neku ledenu berbu, doci cu ti pomoc ;)',\n",
       " '   vec si ga dobio? :)',\n",
       " '  hvala :)',\n",
       " '\"Radosevic Family Beekeeping - Identity\", a project on AIGA Member Gallery ::    via ',\n",
       " 'Radosevic vizualni identitet uvrsten je u AIGA member gallery :)  ',\n",
       " ' New books at our office...  ',\n",
       " '    Jep. The Serif :)',\n",
       " '   gotovina ili na rate? :)',\n",
       " 'Dizajn novog vizualnog identiteta     ,  ,  ,  ,    ',\n",
       " ' Novi vizualni identitet stigao na stol :) cc   ',\n",
       " '\"LOGIQ Tower\", a project on  ::   My friend  designed new logic game for kids.  ',\n",
       " '   ',\n",
       " 'Identitetski sustav i brendiranje Volonterskog centra Osijek, te programa Salter i Demo akademija.  ',\n",
       " '\"Volunteer Center Osijek - Branding Identity System\", a project on Adweek Talent Gallery ::    via ',\n",
       " '\"Volunteer Center Osijek - Branding Identity System\", a project on  ::   ',\n",
       " 'Radosevic family beekeeping Branding   ',\n",
       " '  PechaKuchaNight osijek vol.2 video rezime.   ',\n",
       " 'Black Mirror, odlicna mini serija, tko nije gledao obavezno pogledati  ',\n",
       " '   koji si ti lik :)',\n",
       " '   Hvala, spremamo mi jos puno super stvari :)',\n",
       " '  hehe, moze',\n",
       " '  prvo biljar batice 1:1 je :)',\n",
       " '  rjesili smo afto :)',\n",
       " '  ajde stisni zube, sutra casca :p',\n",
       " '  pa onda ti ovo sad nije nista :D a zasto ne ostavis u lega-lega shopu pa pokupis kasnije? Sigurno niste parkirali u dubravi :)',\n",
       " '  ajde, pretpostavljam da jucer nisi trco pa malo treniraj ;)',\n",
       " 'Radosevic obiteljsko pcelarstvo, vizualni identitet i ambalaza  ',\n",
       " 'New work  portfolio: \"Radosevic Family Beekeeping - Identity\"  ',\n",
       " '  Hvala :)',\n",
       " '  elegantno. također mi se sviđaju boje.',\n",
       " '  ;) potpisat cu te jednom ajde :p',\n",
       " '  ma i jedno i drugo, nisam jos sve objavio sta sam zamislio ovaj tjedan. bit ce jos :p',\n",
       " 'Volonterski centar Osijek, dizajn identitetskog sustava. Novi rad u portfoliju, bacite pogled. Dizajn: Leo Vinkovic, I ',\n",
       " 'Volonterski centar Osijek, dizajn identitetskog sustava. Novi rad na mojem portfoliju  ::   ',\n",
       " '\"Volunteer Center Osijek - Branding Identity System\", a project on  ::   ',\n",
       " '   shareing :)',\n",
       " ' PechaKucha Night Osijek vol.2 poster   ,  ,  ,     http://t.c ...',\n",
       " ' PechaKucha Night Osijek vol.2 / 22.2.2013 / PLAN B / 21h. Event i popis prezentatora:  ',\n",
       " ' lega-lega Newspapers',\n",
       " ' Vidimo se za točno 186dana20sati57minuta20sekundi!  :)  ',\n",
       " 'My new project on my  portfolio,lega-lega newspapers promo material for our new shop in    ',\n",
       " 'lega-lega brand promo  ',\n",
       " 'Check out new work on my  portfolio: \"lega-lega Newspapers\"  ',\n",
       " '  i ja Suradnici godine na  2012. Na  blogu mozete pogledati nas nagradjeni rad.  ',\n",
       " \"  da da, trazi jezero i veliku branu tamo smo ove zime - Tignes i Val d' Isere :)\",\n",
       " 'U petak u vinoteci Vinita degustacija vina. jamii :)',\n",
       " 'Visual identity for my friends wedding. Check it out.  ',\n",
       " 'Klinika Bike Service Identity awarded Goran Sosa and Leo Vinkovic, with Sudnji dan medal for Associates of the year  ',\n",
       " 'Leo vinkovic i Goran Sosa -suradnici godine na  s vizualnim identitetom Klinika bike service. Hvala svima :)  ',\n",
       " '  a ti i Plac nominacija u finalu. To je veliki uspjeh, bravo mi :)',\n",
       " ' Ok. Svima se izgleda jako sviđa novi  shop :) Naletite svakako vidit uživo.   http: ...',\n",
       " 'U srijedu 12.12.2012. u 12:12h otvara se  shop u Zagrebu, Masarykova 19. Dođite svi :)   ',\n",
       " ' U srijedu otvorenje  shopa u  .           ...',\n",
       " ' Mase lajkova na naše nove majice :)        ',\n",
       " 'Check out new work on my  portfolio: \"lega-lega T-shirts\"  ',\n",
       " 'Balaic i ja odrzali predavanje na Studiju dizajna u Zagrebu o brendu lega-lega. Bilo je odlicno, jvala svima  ',\n",
       " 'U četvrtak 15.11. u Frankopanskoj 12, Zg,   i ja objasnit ćemo kako živjeti od dizajna bez pakla klijenata:)',\n",
       " 'Casting u Osijeku, subota i nedjelja od 10-18h, hotel Central, veseli ljudi od 7 do 77 godina za print materijal jednog teleoperatera',\n",
       " ' Veceras SIZIF na punkpartyju! Vidimo se...',\n",
       " ' Dobro jutro :) Dan počinjemo s gledanjem novog  filma: True Fang      ',\n",
       " '\"Klinika Bike Service Branding\", a project on  ::   ',\n",
       " '\"Daria & Ivan Wedding identity and invitations\", a project on  ::   ',\n",
       " 'Check out new work on my  portfolio: \"Wedding invitations\"  ',\n",
       " 'Jarun wakeboarding  ',\n",
       " '  is giving away a new Contour+2 camera every day for two weeks.  ',\n",
       " 'Kako nas drzava krade? Zanimljiv clanak :)    cekamo odgovore :)',\n",
       " ' Family farm Rosa, nice eco, hand made products from Croatia.   ',\n",
       " '  vol.1 prezenteri: Nikola Bojic, Akos Huttera, Damir Prizmic, Petra Cicvaric, Marko Djeska',\n",
       " '  vol.1 prezenteri: Lisnati Odred, Marko Pavlovic, Filip Bojovic, Zeljko Riha, Matija Drozdek',\n",
       " 'OPG Rosa branding and package design. Check it out on   ',\n",
       " 'I just published a new project to my  portfolio:  ',\n",
       " '  Osijek uskoro u gradu. Lajkajte facebook a uskoro stizu informacije o prvoj PechaKucha Night Osijek  ',\n",
       " '   u  ! Pokrenuli ljudi fejs:   Go lajk!',\n",
       " 'Nove ploce gradskih cetvrti Osijeka. Uzas i katastrofa. Ovo je sfera kojom se bave dizajneri, shvatite to vec jednom!!!  ',\n",
       " 'Godina dana radnog staza :)',\n",
       " 'Check new short fantasy video of  . Great One!  ',\n",
       " 'Novo na  blogu: Predstavljamo radove Sare Blake poznate kao   iz New York-a. Must see!  ',\n",
       " ' PhotoCards in EXIT festival mobile app are really fun! Try in ;)  ',\n",
       " 'Jos malo vise od 20ak dana je ostalo do  cekirajte atmosferu s proslogodisnjeg izdanja. Jedva cekamoo :)  ',\n",
       " '   in the partnership with  Check out our new page!  ',\n",
       " '1000 kilometara za bezbroj zivota. Podrzite akciju! File i Kruno su jutros krenuli.  ',\n",
       " 'Lega-lega stand je spreman. Dan D moze poceti  ',\n",
       " 'Jos malo do  a tamo cemo imat prilike poslusat i legende punk/rocka   ',\n",
       " \" Konkurs za promotere i PR lice počinjeeeeeeee : s'd!    \",\n",
       " '  treba jos 4 lajka za jubilarni 10.000. fana. ajmooo :)  ',\n",
       " 'Super fora za predstavljanje bendova i muzike po pojedinim stageovima   ',\n",
       " '  na  Main Stageu  ',\n",
       " '   objavio još izvođača koji će svirati na ovogodišnjem izdanju festivala  ',\n",
       " 'Dolazak u Novi sad, smjestaj te informacije o  mozete pronaci na ovom linku  ',\n",
       " '  new single out. soon at   ',\n",
       " ' Bok, suboto, kako si, što nam lijepog spremaš danas? :) Gdje god da idete, mi vas častimo jednom poslasticom u... http ...',\n",
       " ' Pete Dux  2012 chart >   cc/   ',\n",
       " 'Natjecaj za volontere   ',\n",
       " ' Najkreativnije osječke lege i legice; Intervjuirali smo ekipu koja se krije iza imena Lega-lega    ...',\n",
       " 'Prodaja ulaznica za   u hrvatskoj. Osigurajte svoju!  ',\n",
       " 'Tko jos nije cuo za kompletan Line up  obavezno cekirati.  ',\n",
       " ' Nastavljamo vas i dalje nagrađivati putem naše promo turnjeje! Svi koji ovaj vikend dođu na partije u Osijeku,... http ...',\n",
       " 'Ocekujem od ekipe  da svi dodju s biciklima. Ako uspijemo napravit parkirni kaos mozda to netko iz grada uoci :)',\n",
       " 'Sve spremno. Sutra naletite na   poslije  promo party u Tufni s DJ Rahmanee, Pips i ekipa iz UK Traina',\n",
       " '    Hajp Hajp bit ce super :)',\n",
       " '  promo tour se nastavlja u Osijeku. Sutra u Tufni sviraju Rahmanee, Pips i UK Train.  ',\n",
       " 'Voznjica  ',\n",
       " '   Promo video  ',\n",
       " '    Promo Tour se nastavlja. :)  ',\n",
       " ' One week left until your Play @   application deadline !  ',\n",
       " ' &status i   headlineri  novi singl i video  ',\n",
       " ' Prijevoz busevima od Zrća do mjesta po otoku Pagu organiziran je posebno za posjetitelje festivala samo uz... http://t ...',\n",
       " \" Hideout headliners Chase & Status' Flashing Lights Remix bundle is now available on Beatport worldwide.... ht ...\",\n",
       " 'Pojedinci i bendovi koji zele svirati an  ove godine imaju jos vremena za prijavu  ',\n",
       " ' Dobar dan svima, kako ste nam danas? :) Evo stigao nam je i popis svih naših partnera u \"ex-Yu\" sa direktnim... http:/ ...',\n",
       " ' Najbolji remikseri iz svake zemlje svirat će na Exit festivalu na Urban Bug stageu. Imat će pokrivene putne... http: ...',\n",
       " '   L I N E    U P  ',\n",
       " '  Hideout Festival Promo tour   ',\n",
       " ' Za 101 dan počinje show!!! Da li ste se pribilježili? :)    ',\n",
       " '     hehe ajmo :)',\n",
       " 'Klinika bike service identity design by  &   ',\n",
       " 'izasao je line up za  obavezno cekirati kad sviraju vasi omiljeni DJi :)  ',\n",
       " '  Ahmaad i Pips sviraju u subotu na ',\n",
       " '  za pocetak ljeta bi mogli samnom na   poslije naravno  :)',\n",
       " '   karte za ex-Yu > Eventim > 415kn > 57',\n",
       " ' Subota, Beograd, KC Grad, RMNG show dijeli besplatnu ulaznicu za    ',\n",
       " ' Ostalo je nešto manje od dva mjeseca prije nego se najišekivaniji glazbeni događaj ovog ljeta, Hideout Festival... htt ...',\n",
       " '  pano with handmade typography  ',\n",
       " '  promo video 2012.  ',\n",
       " ' Novi video i singl za Simian Mobile Disco, i ove godine na Hideout Festival ex-Yu!!!  ',\n",
       " ' Promocija lega-lega D-BOX-a u Profilu u Bogovićevoj u Zagrebu!      ',\n",
       " '  predstavlja D.BOX u Profilu - cetvrtak 10.5. u 18h  ',\n",
       " ' NEW ALBUM HERE:  ',\n",
       " '  dokumentarac izlazi 15.5. bit ce zanimljivo :)  ',\n",
       " '  PROMO TOUR. Pogledajte dali party dolazi u vas grad.  ',\n",
       " 'I just published a new project to my  portfolio:  ',\n",
       " 'Simian mobile disco na    ',\n",
       " ' Debeli Precjednik predstavlja novi album u Ksetu      ',\n",
       " '   žele-domaću-publiku-i-izvođače-na-hideout-festivalu-07052012',\n",
       " ' [VAŽNO, VAŽNO!] Krenuli smo sa Hideout Festival ex-Yu promo turnejom!!! Pogledajte da li dolazimo u vaš grad i... http ...',\n",
       " ' New track from Benga for some bank holiday listening - Icon feat Bebe Black...  ',\n",
       " '  :(((   R.I.P',\n",
       " '  otvorio shop u Dubrovniku. Cekirajte kako smo uredili dizajn shop :)  ',\n",
       " \" For people still sorting travel and accommodation, don't forget our travel blog that has most info you will need... ...\",\n",
       " ' ,  ,  , cekirajte opis lokacije na kojoj se odrzava drugi po redu   ',\n",
       " ' Besplatna ulaznica za  ove subote u Rijeci:  ',\n",
       " '  ej lega, kako ide u Purgeraju. Kaki su novi studenti? Jel jos spica cetvrtkom tamo? :)',\n",
       " 'Sub Focus i ove godine na    ',\n",
       " ' We have been looking back through Hideout 2011 clips this morning, check out Jamie Jones at Aquarius on the last... ...',\n",
       " '  yup yup week b4 fresh island.',\n",
       " ' Caribou b2b2 Four Tet (Official) @ Hideout Festival ex-Yu  ',\n",
       " '   hehehe. Ma ovi u Djakovu su valjda mali pa rade male brojeve :)',\n",
       " 'Nice Free Muchacho font by   ']"
      ]
     },
     "execution_count": 107,
     "metadata": {},
     "output_type": "execute_result"
    }
   ],
   "source": [
    "df.iloc[0, 2]"
   ]
  },
  {
   "cell_type": "code",
   "execution_count": 111,
   "metadata": {},
   "outputs": [
    {
     "name": "stderr",
     "output_type": "stream",
     "text": [
      "<ipython-input-111-101f519f1ce4>:7: SettingWithCopyWarning: \n",
      "A value is trying to be set on a copy of a slice from a DataFrame.\n",
      "Try using .loc[row_indexer,col_indexer] = value instead\n",
      "\n",
      "See the caveats in the documentation: https://pandas.pydata.org/pandas-docs/stable/user_guide/indexing.html#returning-a-view-versus-a-copy\n",
      "  subset[\"count\"] = subset.tweets.apply(lambda l: sum([len(i) for i in l]))\n"
     ]
    }
   ],
   "source": [
    "from sklearn.model_selection import train_test_split\n",
    "\n",
    "train, devtest = train_test_split(df, stratify = df.language, random_state=42, train_size=0.6)\n",
    "dev, test = train_test_split(devtest, stratify=devtest.language, random_state=42, train_size=0.5)\n",
    "\n",
    "for subset in [dev, train, test, df]:\n",
    "    subset[\"count\"] = subset.tweets.apply(lambda l: sum([len(i) for i in l]))"
   ]
  },
  {
   "cell_type": "code",
   "execution_count": 121,
   "metadata": {},
   "outputs": [
    {
     "data": {
      "image/png": "[encoded data removed]",
      "text/plain": [
       "<Figure size 504x288 with 1 Axes>"
      ]
     },
     "metadata": {
      "needs_background": "light"
     },
     "output_type": "display_data"
    }
   ],
   "source": [
    "plt.figure(figsize=(7,4))\n",
    "\n",
    "for name, subset in zip([\"train\", \"dev\", \"test\"],[train, dev, test]):\n",
    "    plt.hist(subset[\"count\"],\n",
    "            label=f\"{name}\", histtype=\"step\", density=True)\n",
    "\n",
    "plt.title(\"Distribution of users' total character count\")\n",
    "plt.legend()\n",
    "plt.savefig(\"twitter_dataset/images/users_length_distribution.png\")"
   ]
  },
  {
   "cell_type": "code",
   "execution_count": 120,
   "metadata": {},
   "outputs": [
    {
     "data": {
      "image/png": "[encoded data removed]",
      "text/plain": [
       "<Figure size 504x288 with 1 Axes>"
      ]
     },
     "metadata": {
      "needs_background": "light"
     },
     "output_type": "display_data"
    }
   ],
   "source": [
    "plt.figure(figsize=(7,4))\n",
    "\n",
    "for lang in df.language.unique():\n",
    "    subset = df.loc[df.language==lang, \"count\"]\n",
    "    plt.hist(subset, label=f\"{lang}\", density=True, histtype=\"step\", bins=9)\n",
    "\n",
    "plt.title(\"Distribution of users' character count by language\")\n",
    "plt.legend()\n",
    "plt.savefig(\"twitter_dataset/images/language_length_distribution.png\")"
   ]
  },
  {
   "cell_type": "code",
   "execution_count": 114,
   "metadata": {},
   "outputs": [
    {
     "name": "stderr",
     "output_type": "stream",
     "text": [
      "<ipython-input-114-58645e1fb4f1>:2: SettingWithCopyWarning: \n",
      "A value is trying to be set on a copy of a slice from a DataFrame.\n",
      "Try using .loc[row_indexer,col_indexer] = value instead\n",
      "\n",
      "See the caveats in the documentation: https://pandas.pydata.org/pandas-docs/stable/user_guide/indexing.html#returning-a-view-versus-a-copy\n",
      "  subset[\"split\"] = name\n"
     ]
    }
   ],
   "source": [
    "for name, subset in zip([\"train\", \"dev\", \"test\"],[train, dev, test]):\n",
    "    subset[\"split\"] = name"
   ]
  },
  {
   "cell_type": "code",
   "execution_count": 115,
   "metadata": {},
   "outputs": [
    {
     "data": {
      "text/html": [
       "<div>\n",
       "<style scoped>\n",
       "    .dataframe tbody tr th:only-of-type {\n",
       "        vertical-align: middle;\n",
       "    }\n",
       "\n",
       "    .dataframe tbody tr th {\n",
       "        vertical-align: top;\n",
       "    }\n",
       "\n",
       "    .dataframe thead th {\n",
       "        text-align: right;\n",
       "    }\n",
       "</style>\n",
       "<table border=\"1\" class=\"dataframe\">\n",
       "  <thead>\n",
       "    <tr style=\"text-align: right;\">\n",
       "      <th></th>\n",
       "      <th>user</th>\n",
       "      <th>language</th>\n",
       "      <th>tweets</th>\n",
       "      <th>count</th>\n",
       "      <th>split</th>\n",
       "    </tr>\n",
       "  </thead>\n",
       "  <tbody>\n",
       "    <tr>\n",
       "      <th>0</th>\n",
       "      <td>danijelzv</td>\n",
       "      <td>bs</td>\n",
       "      <td>[ Isto srce kao '95! ,  ne otkrivaj nam položa...</td>\n",
       "      <td>59097</td>\n",
       "      <td>train</td>\n",
       "    </tr>\n",
       "    <tr>\n",
       "      <th>1</th>\n",
       "      <td>SavkaGazivoda</td>\n",
       "      <td>me</td>\n",
       "      <td>[ hahhahahahahahaha mogao si danas i iza nije ...</td>\n",
       "      <td>49024</td>\n",
       "      <td>train</td>\n",
       "    </tr>\n",
       "    <tr>\n",
       "      <th>2</th>\n",
       "      <td>psiha_je_cudo</td>\n",
       "      <td>sr</td>\n",
       "      <td>[ moguce i to,  ne znam, samo predpostavljan, ...</td>\n",
       "      <td>60548</td>\n",
       "      <td>train</td>\n",
       "    </tr>\n",
       "    <tr>\n",
       "      <th>3</th>\n",
       "      <td>ubuntu_hr</td>\n",
       "      <td>hr</td>\n",
       "      <td>[Objavljen je 13.04 ( Ringtail) ,  Linux za Sv...</td>\n",
       "      <td>11454</td>\n",
       "      <td>train</td>\n",
       "    </tr>\n",
       "    <tr>\n",
       "      <th>4</th>\n",
       "      <td>mladisuzakon</td>\n",
       "      <td>sr</td>\n",
       "      <td>[Konkurs za volontera/volonterku | Fondacija A...</td>\n",
       "      <td>28879</td>\n",
       "      <td>train</td>\n",
       "    </tr>\n",
       "  </tbody>\n",
       "</table>\n",
       "</div>"
      ],
      "text/plain": [
       "            user language                                             tweets  \\\n",
       "0      danijelzv       bs  [ Isto srce kao '95! ,  ne otkrivaj nam položa...   \n",
       "1  SavkaGazivoda       me  [ hahhahahahahahaha mogao si danas i iza nije ...   \n",
       "2  psiha_je_cudo       sr  [ moguce i to,  ne znam, samo predpostavljan, ...   \n",
       "3      ubuntu_hr       hr  [Objavljen je 13.04 ( Ringtail) ,  Linux za Sv...   \n",
       "4   mladisuzakon       sr  [Konkurs za volontera/volonterku | Fondacija A...   \n",
       "\n",
       "   count  split  \n",
       "0  59097  train  \n",
       "1  49024  train  \n",
       "2  60548  train  \n",
       "3  11454  train  \n",
       "4  28879  train  "
      ]
     },
     "execution_count": 115,
     "metadata": {},
     "output_type": "execute_result"
    }
   ],
   "source": [
    "df_out = pd.concat([train, dev, test], ignore_index=True)\n",
    "\n",
    "df_out.head()"
   ]
  },
  {
   "cell_type": "code",
   "execution_count": 118,
   "metadata": {},
   "outputs": [],
   "source": [
    "df_out.loc[:, [\"user\", \"language\", \"split\", \"tweets\"]].to_json(\"twitter_dataset/twitter.json\", orient=\"index\", indent=4,)"
   ]
  },
  {
   "cell_type": "code",
   "execution_count": null,
   "metadata": {},
   "outputs": [],
   "source": []
  },
  {
   "cell_type": "code",
   "execution_count": null,
   "metadata": {},
   "outputs": [],
   "source": []
  }
 ],
 "metadata": {
  "interpreter": {
   "hash": "7f6f5766036ee03d059e365a942add07f79c17033585e9357ee8157d52fe6bb9"
  },
  "kernelspec": {
   "display_name": "Python 3.8.3 64-bit ('base': conda)",
   "language": "python",
   "name": "python3"
  },
  "language_info": {
   "codemirror_mode": {
    "name": "ipython",
    "version": 3
   },
   "file_extension": ".py",
   "mimetype": "text/x-python",
   "name": "python",
   "nbconvert_exporter": "python",
   "pygments_lexer": "ipython3",
   "version": "3.8.3"
  },
  "orig_nbformat": 4
 },
 "nbformat": 4,
 "nbformat_minor": 2
}
