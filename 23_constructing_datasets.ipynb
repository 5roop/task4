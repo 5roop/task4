{
 "cells": [
  {
   "cell_type": "code",
   "execution_count": 25,
   "metadata": {},
   "outputs": [],
   "source": [
    "import pandas as pd\n",
    "import matplotlib.pyplot as plt\n",
    "import os\n",
    "import parse\n",
    "\n",
    "plt.style.use([\"science\", \"no-latex\"])\n",
    "LABELS = [\"hr\", \"bs\", \"sr\", \"me\"]\n",
    "raw_dir = \"/home/peterr/macocu/taskB/data/raw\"\n",
    "interim_dir = \"/home/peterr/macocu/taskB/data/interim\"\n",
    "final_dir = \"/home/peterr/macocu/taskB/data/final\"\n",
    "\n",
    "\n",
    "def load_SET_dataset():\n",
    "    SETimes = list()\n",
    "    splits = list()\n",
    "    for split in [\"train\", \"test\", \"dev\"]:\n",
    "        with open(os.path.join(final_dir, f\"{split}.fasttxt\"), \"r\") as f:\n",
    "            lines = f.readlines()\n",
    "            SETimes.extend(lines)\n",
    "            splits.extend([split]*len(lines))\n",
    "    p = parse.compile(\"__label__{lang} {text}\")\n",
    "    langs = list()\n",
    "    texts = list()\n",
    "\n",
    "    for line in SETimes:\n",
    "        results = p.parse(line)\n",
    "        if not results:\n",
    "            logging.error(f\"Error parsing line {line}\")\n",
    "            continue\n",
    "        langs.append(results[\"lang\"])\n",
    "        texts.append(results[\"text\"])\n",
    "    eval_df = pd.DataFrame(data={\"text\": texts, \"labels\": langs, \"split\": splits })\n",
    "    return eval_df"
   ]
  },
  {
   "cell_type": "code",
   "execution_count": 26,
   "metadata": {},
   "outputs": [],
   "source": [
    "df = load_SET_dataset()"
   ]
  },
  {
   "cell_type": "code",
   "execution_count": 27,
   "metadata": {},
   "outputs": [
    {
     "data": {
      "text/html": [
       "<div>\n",
       "<style scoped>\n",
       "    .dataframe tbody tr th:only-of-type {\n",
       "        vertical-align: middle;\n",
       "    }\n",
       "\n",
       "    .dataframe tbody tr th {\n",
       "        vertical-align: top;\n",
       "    }\n",
       "\n",
       "    .dataframe thead th {\n",
       "        text-align: right;\n",
       "    }\n",
       "</style>\n",
       "<table border=\"1\" class=\"dataframe\">\n",
       "  <thead>\n",
       "    <tr style=\"text-align: right;\">\n",
       "      <th></th>\n",
       "      <th>text</th>\n",
       "      <th>labels</th>\n",
       "      <th>split</th>\n",
       "    </tr>\n",
       "  </thead>\n",
       "  <tbody>\n",
       "    <tr>\n",
       "      <th>2558</th>\n",
       "      <td>Kultura i sport: Makedonski pravoslavci prosla...</td>\n",
       "      <td>hr</td>\n",
       "      <td>train</td>\n",
       "    </tr>\n",
       "    <tr>\n",
       "      <th>2559</th>\n",
       "      <td>Arsim Bajrami je predsjedavajući Odbora skupšt...</td>\n",
       "      <td>hr</td>\n",
       "      <td>train</td>\n",
       "    </tr>\n",
       "    <tr>\n",
       "      <th>2560</th>\n",
       "      <td>U Srbiji se obavljaju samo presađivanje bubreg...</td>\n",
       "      <td>hr</td>\n",
       "      <td>train</td>\n",
       "    </tr>\n",
       "    <tr>\n",
       "      <th>2561</th>\n",
       "      <td>Useljenik nosi kašetu rajčica na glavnoj tržni...</td>\n",
       "      <td>hr</td>\n",
       "      <td>train</td>\n",
       "    </tr>\n",
       "    <tr>\n",
       "      <th>2562</th>\n",
       "      <td>Oko petina stanovništva BiH posjeduje neregist...</td>\n",
       "      <td>hr</td>\n",
       "      <td>train</td>\n",
       "    </tr>\n",
       "    <tr>\n",
       "      <th>...</th>\n",
       "      <td>...</td>\n",
       "      <td>...</td>\n",
       "      <td>...</td>\n",
       "    </tr>\n",
       "    <tr>\n",
       "      <th>8944</th>\n",
       "      <td>Ministar prosvjete Pero Stojanovski izjavio je...</td>\n",
       "      <td>hr</td>\n",
       "      <td>dev</td>\n",
       "    </tr>\n",
       "    <tr>\n",
       "      <th>8945</th>\n",
       "      <td>Obnovljena bolnica pruža pacijentima veću udob...</td>\n",
       "      <td>hr</td>\n",
       "      <td>dev</td>\n",
       "    </tr>\n",
       "    <tr>\n",
       "      <th>8946</th>\n",
       "      <td>Predsjednik Srbije Boris Tadić smije se uoči p...</td>\n",
       "      <td>hr</td>\n",
       "      <td>dev</td>\n",
       "    </tr>\n",
       "    <tr>\n",
       "      <th>8947</th>\n",
       "      <td>Predsjednik kompanije Zarubezhnefta Vladimir I...</td>\n",
       "      <td>hr</td>\n",
       "      <td>dev</td>\n",
       "    </tr>\n",
       "    <tr>\n",
       "      <th>8948</th>\n",
       "      <td>Većina novca iskoristit će se za potporu društ...</td>\n",
       "      <td>hr</td>\n",
       "      <td>dev</td>\n",
       "    </tr>\n",
       "  </tbody>\n",
       "</table>\n",
       "<p>3196 rows × 3 columns</p>\n",
       "</div>"
      ],
      "text/plain": [
       "                                                   text labels  split\n",
       "2558  Kultura i sport: Makedonski pravoslavci prosla...     hr  train\n",
       "2559  Arsim Bajrami je predsjedavajući Odbora skupšt...     hr  train\n",
       "2560  U Srbiji se obavljaju samo presađivanje bubreg...     hr  train\n",
       "2561  Useljenik nosi kašetu rajčica na glavnoj tržni...     hr  train\n",
       "2562  Oko petina stanovništva BiH posjeduje neregist...     hr  train\n",
       "...                                                 ...    ...    ...\n",
       "8944  Ministar prosvjete Pero Stojanovski izjavio je...     hr    dev\n",
       "8945  Obnovljena bolnica pruža pacijentima veću udob...     hr    dev\n",
       "8946  Predsjednik Srbije Boris Tadić smije se uoči p...     hr    dev\n",
       "8947  Predsjednik kompanije Zarubezhnefta Vladimir I...     hr    dev\n",
       "8948  Većina novca iskoristit će se za potporu društ...     hr    dev\n",
       "\n",
       "[3196 rows x 3 columns]"
      ]
     },
     "execution_count": 27,
     "metadata": {},
     "output_type": "execute_result"
    }
   ],
   "source": [
    "df.loc[df.labels==\"hr\", :]"
   ]
  },
  {
   "cell_type": "code",
   "execution_count": 28,
   "metadata": {},
   "outputs": [
    {
     "data": {
      "text/plain": [
       "hr    3196\n",
       "bs    3195\n",
       "sr    2867\n",
       "Name: labels, dtype: int64"
      ]
     },
     "execution_count": 28,
     "metadata": {},
     "output_type": "execute_result"
    }
   ],
   "source": [
    "df.labels.value_counts()"
   ]
  },
  {
   "cell_type": "code",
   "execution_count": 37,
   "metadata": {},
   "outputs": [
    {
     "data": {
      "image/png": "[encoded data removed]",
      "text/plain": [
       "<Figure size 504x288 with 1 Axes>"
      ]
     },
     "metadata": {
      "needs_background": "light"
     },
     "output_type": "display_data"
    }
   ],
   "source": [
    "plt.figure(figsize=(7, 4))\n",
    "df.labels.value_counts().plot(kind=\"bar\")\n",
    "plt.title(\"Instances per language\")\n",
    "plt.gca().tick_params(axis=\"x\", rotation=0)\n",
    "\n",
    "plt.savefig(\"/home/peterr/macocu/taskB/task4/setimes_dataset/images/instances_per_language.png\")"
   ]
  },
  {
   "cell_type": "code",
   "execution_count": 63,
   "metadata": {},
   "outputs": [],
   "source": [
    "df[\"length\"] = df.text.apply(len)"
   ]
  },
  {
   "cell_type": "code",
   "execution_count": 64,
   "metadata": {},
   "outputs": [
    {
     "data": {
      "image/png": "[encoded data removed]",
      "text/plain": [
       "<Figure size 504x288 with 1 Axes>"
      ]
     },
     "metadata": {
      "needs_background": "light"
     },
     "output_type": "display_data"
    }
   ],
   "source": [
    "plt.figure(figsize=(7, 4))\n",
    "for lang in df.labels.unique():\n",
    "    plt.hist(df.loc[df.labels == lang, \"length\"].values, histtype=\"step\", label=lang, lw=3, bins=30 )\n",
    "plt.xlabel(\"Character count\")\n",
    "plt.legend()\n",
    "plt.title(\"Instance lengths distribution\")\n",
    "plt.savefig(\"/home/peterr/macocu/taskB/task4/setimes_dataset/images/distributions.png\")"
   ]
  },
  {
   "cell_type": "code",
   "execution_count": 50,
   "metadata": {},
   "outputs": [
    {
     "data": {
      "text/plain": [
       "(9258, 4)"
      ]
     },
     "execution_count": 50,
     "metadata": {},
     "output_type": "execute_result"
    }
   ],
   "source": [
    "df.shape"
   ]
  },
  {
   "cell_type": "code",
   "execution_count": 62,
   "metadata": {},
   "outputs": [],
   "source": [
    "\n",
    "df.drop(columns=\"length\"\n",
    "    ).rename(columns={\"labels\":\"language\"}\n",
    "    ).to_json(\"/home/peterr/macocu/taskB/task4/setimes_dataset/SETimes.json\",\n",
    "orient=\"index\", indent=4,\n",
    "\n",
    ")"
   ]
  },
  {
   "cell_type": "code",
   "execution_count": null,
   "metadata": {},
   "outputs": [],
   "source": []
  }
 ],
 "metadata": {
  "interpreter": {
   "hash": "7f6f5766036ee03d059e365a942add07f79c17033585e9357ee8157d52fe6bb9"
  },
  "kernelspec": {
   "display_name": "Python 3.8.3 64-bit ('base': conda)",
   "language": "python",
   "name": "python3"
  },
  "language_info": {
   "codemirror_mode": {
    "name": "ipython",
    "version": 3
   },
   "file_extension": ".py",
   "mimetype": "text/x-python",
   "name": "python",
   "nbconvert_exporter": "python",
   "pygments_lexer": "ipython3",
   "version": "3.8.3"
  },
  "orig_nbformat": 4
 },
 "nbformat": 4,
 "nbformat_minor": 2
}
