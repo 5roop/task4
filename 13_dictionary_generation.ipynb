{
 "cells": [
  {
   "cell_type": "code",
   "execution_count": 6,
   "metadata": {},
   "outputs": [],
   "source": [
    "import os\n",
    "import logging\n",
    "import pandas as pd\n",
    "import numpy as np\n",
    "\n",
    "logging.basicConfig(format='%(asctime)s - %(message)s', level=logging.INFO)\n",
    "\n",
    "\n",
    "raw_dir = \"/home/peterr/macocu/taskB/data/raw\"\n",
    "interim_dir = \"/home/peterr/macocu/taskB/data/interim\"\n",
    "final_dir = \"/home/peterr/macocu/taskB/data/final\""
   ]
  },
  {
   "cell_type": "markdown",
   "metadata": {},
   "source": [
    "In this notebook we shall repeat the keyness score calculation and identify top N lexems in every language."
   ]
  },
  {
   "cell_type": "code",
   "execution_count": 2,
   "metadata": {},
   "outputs": [],
   "source": [
    "def get_N_tokens(N=5000, path=\"/home/peterr/macocu/taskB/task4/toy_tokens.csv\") -> set:\n",
    "    import pandas as pd\n",
    "    import numpy as np\n",
    "    df = pd.read_csv(\"toy_tokens.csv\", index_col=0)\n",
    "    NUM_FEATS = N\n",
    "\n",
    "    for column in df.columns:\n",
    "        new_column_name = column + \"_f\"\n",
    "        corpus_size = df[column].sum()\n",
    "        df[new_column_name] = df[column] * 1e6 / corpus_size\n",
    "\n",
    "    N = 1\n",
    "\n",
    "    df[\"HR_SR\"] = (df[\"hrwac_head_pp_f\"] + N ) / (df[\"srwac_head_pp_f\"] + N)\n",
    "    df[\"SR_HR\"] = (df[\"srwac_head_pp_f\"] + N ) / (df[\"hrwac_head_pp_f\"] + N)\n",
    "\n",
    "    df[\"HR_CNR\"] = (df[\"hrwac_head_pp_f\"] + N ) / (df[\"cnrwac_head_pp_f\"] + N)\n",
    "    df[\"CNR_HR\"] = (df[\"cnrwac_head_pp_f\"] + N ) / (df[\"hrwac_head_pp_f\"] + N)\n",
    "\n",
    "    df[\"HR_BS\"] = (df[\"hrwac_head_pp_f\"] + N ) / (df[\"bswac_head_pp_f\"] + N)\n",
    "    df[\"BS_HR\"] = (df[\"bswac_head_pp_f\"] + N ) / (df[\"hrwac_head_pp_f\"] + N)\n",
    "\n",
    "    df[\"BS_SR\"] = (df[\"bswac_head_pp_f\"] + N ) / (df[\"srwac_head_pp_f\"] + N)\n",
    "    df[\"SR_BS\"] = (df[\"srwac_head_pp_f\"] + N ) / (df[\"bswac_head_pp_f\"] + N)\n",
    "\n",
    "    df[\"BS_CNR\"] = (df[\"bswac_head_pp_f\"] + N ) / (df[\"cnrwac_head_pp_f\"] + N)\n",
    "    df[\"CNR_BS\"] = (df[\"cnrwac_head_pp_f\"] + N ) / (df[\"bswac_head_pp_f\"] + N)\n",
    "\n",
    "    df[\"CNR_SR\"] = (df[\"cnrwac_head_pp_f\"] + N ) / (df[\"srwac_head_pp_f\"] + N)\n",
    "    df[\"SR_CNR\"] = (df[\"srwac_head_pp_f\"] + N ) / (df[\"cnrwac_head_pp_f\"] + N)\n",
    "\n",
    "    combos = ['HR_SR', 'SR_HR', 'HR_CNR', 'CNR_HR', 'HR_BS', 'BS_HR', 'BS_SR', 'SR_BS', 'BS_CNR', 'CNR_BS', 'CNR_SR', 'SR_CNR']\n",
    "\n",
    "    important_features = set()\n",
    "\n",
    "    for lang_comb in combos:\n",
    "        s = df.sort_values(lang_comb, ascending=False)[lang_comb]\n",
    "        current_features = s.index[:NUM_FEATS].values\n",
    "        important_features = important_features.union(set(current_features))\n",
    "    important_features.remove(np.nan)\n",
    "    return important_features"
   ]
  },
  {
   "cell_type": "code",
   "execution_count": 3,
   "metadata": {},
   "outputs": [
    {
     "name": "stderr",
     "output_type": "stream",
     "text": [
      "2022-01-03 10:16:26,645 - NumExpr defaulting to 8 threads.\n"
     ]
    }
   ],
   "source": [
    "feats = get_N_tokens()"
   ]
  },
  {
   "cell_type": "markdown",
   "metadata": {},
   "source": [
    "Now we are ready for training dataset preparation\n",
    "\n",
    "The tail dataset will be used to construct the training set for differenc classifiers. Documents shall be split on blank lines. Afterwards the dataset will have to be compiled also from Twitter dataset and SETimes dataset."
   ]
  },
  {
   "cell_type": "code",
   "execution_count": 4,
   "metadata": {},
   "outputs": [],
   "source": [
    "\n",
    "from typing import List\n",
    "def read_and_split_file(path: str) -> List[str]:\n",
    "    texts = list()\n",
    "    chunk = \"\"\n",
    "    with open(path, \"r\") as f:\n",
    "        content = f.readlines()\n",
    "    for line in content:\n",
    "        # Handle splits\n",
    "        if line == \"\\n\":\n",
    "            texts.append(chunk)\n",
    "            chunk = \"\"\n",
    "        # Filter only lowercase alphabetical words:\n",
    "        from utils import is_alpha\n",
    "        line = line.replace(\"\\n\", \" \")\n",
    "        words = [w if is_alpha(w) else \" \" for w in line.split(\" \")]\n",
    "        chunk += \" \".join(words)\n",
    "    return texts\n",
    "\n",
    "texts, labels = list(), list()\n",
    "\n",
    "files = [\n",
    "\"bswac_tail_pp\",\n",
    "\"cnrwac_tail_pp\",\n",
    "\"hrwac_tail_pp\",\n",
    "\"srwac_tail_pp\"]\n",
    "\n",
    "langs = [\"bs\", \"me\", \"hr\", \"sr\"]\n",
    "\n",
    "for file, lang in zip(files, langs):\n",
    "    full_path = os.path.join(interim_dir, file)\n",
    "    current_texts = read_and_split_file(full_path)\n",
    "    len_cur_texts = len(current_texts)\n",
    "    texts.extend(current_texts)\n",
    "    labels.extend([lang]*len_cur_texts)\n"
   ]
  },
  {
   "cell_type": "code",
   "execution_count": 7,
   "metadata": {},
   "outputs": [],
   "source": [
    "train = pd.DataFrame(data={\"text\": texts, \"labels\": labels})\n"
   ]
  },
  {
   "cell_type": "code",
   "execution_count": 8,
   "metadata": {},
   "outputs": [
    {
     "data": {
      "text/plain": [
       "'     se profesionalno ili rekreativno bavite biciklizmom ili jednostavno imate želju voziti se biciklom u netaknutoj prirodi pozivamo   da dođete na   u istoimeni hotel i etno selo      vam nudi mnogobrojne staze kako za obični tako i za brdski biciklizam    vlastiti bicikl ili ga pak ne želite vuči sa sobom na odmor    brinite mi mislimo na   te   osiguravamo najam bicikla po vrlo povoljnim cijenama    najma bicika smještaja u hotelu ili pak u jedno od kučica u etno selu i odlične hrane nodimo   raznovrsne masaže korištenje saune jacuzzija i hotelske fitness sale  '"
      ]
     },
     "execution_count": 8,
     "metadata": {},
     "output_type": "execute_result"
    }
   ],
   "source": [
    "train.text[1]"
   ]
  },
  {
   "cell_type": "markdown",
   "metadata": {},
   "source": [
    "Let's prepare the evaluation dataset:"
   ]
  },
  {
   "cell_type": "code",
   "execution_count": 9,
   "metadata": {},
   "outputs": [],
   "source": [
    "import pickle\n",
    "\n",
    "with open(\"/home/peterr/macocu/taskB/data/final/twitter_full_ds.pickle\", \"rb\") as f:\n",
    "    twitter_ds = pickle.load(f)"
   ]
  },
  {
   "cell_type": "code",
   "execution_count": 10,
   "metadata": {},
   "outputs": [],
   "source": [
    "users = twitter_ds.keys()\n",
    "languages = [twitter_ds[user][\"language\"] for user in users]\n",
    "tweets = [\" \".join(twitter_ds[user][\"tweets\"]) for user in users]\n",
    "\n",
    "eval_df = pd.DataFrame(data={\"text\": tweets, \"labels\": languages})"
   ]
  },
  {
   "cell_type": "markdown",
   "metadata": {},
   "source": [
    "Ok, on to classifier training."
   ]
  },
  {
   "cell_type": "code",
   "execution_count": 11,
   "metadata": {},
   "outputs": [],
   "source": [
    "from sklearn.feature_extraction.text import CountVectorizer\n",
    "vectorizer = CountVectorizer(vocabulary=get_N_tokens(), lowercase=True)"
   ]
  },
  {
   "cell_type": "code",
   "execution_count": 13,
   "metadata": {},
   "outputs": [],
   "source": [
    "train_vectors = vectorizer.fit_transform(train.text)\n",
    "train_labels = train.labels\n",
    "\n",
    "test_vectors = vectorizer.fit_transform(eval_df.text)\n",
    "y_true = eval_df.labels"
   ]
  },
  {
   "cell_type": "code",
   "execution_count": 15,
   "metadata": {},
   "outputs": [],
   "source": [
    "from sklearn.naive_bayes import GaussianNB\n",
    "\n",
    "clf = GaussianNB()\n",
    "\n",
    "clf.fit(train_vectors.toarray(), train_labels)\n",
    "y_pred = clf.predict(test_vectors.toarray())"
   ]
  },
  {
   "cell_type": "code",
   "execution_count": 17,
   "metadata": {},
   "outputs": [
    {
     "name": "stdout",
     "output_type": "stream",
     "text": [
      "Macro f1: 0.561\n",
      "Micro f1: 0.785\n",
      "Accuracy: 0.785\n"
     ]
    },
    {
     "data": {
      "image/png": "[encoded data removed]",
      "text/plain": [
       "<Figure size 432x288 with 2 Axes>"
      ]
     },
     "metadata": {
      "needs_background": "light"
     },
     "output_type": "display_data"
    }
   ],
   "source": [
    "from sklearn.metrics import f1_score, ConfusionMatrixDisplay, confusion_matrix, accuracy_score\n",
    "import matplotlib.pyplot as plt\n",
    "\n",
    "macro = f1_score(y_true, y_pred, labels=[\n",
    "                 \"hr\", \"sr\", \"bs\", \"me\"], average=\"macro\")\n",
    "micro = f1_score(y_true, y_pred, labels=[\n",
    "                 \"hr\", \"sr\", \"bs\", \"me\"],  average=\"micro\")\n",
    "acc = accuracy_score(y_true, y_pred)\n",
    "print(f\"Macro f1: {macro:0.3}\\nMicro f1: {micro:0.3}\\nAccuracy: {acc:0.3}\")\n",
    "\n",
    "cm = confusion_matrix(y_true, y_pred, labels=[\n",
    "                 \"hr\",  \"bs\",\"sr\", \"me\"])\n",
    "disp = ConfusionMatrixDisplay(confusion_matrix=cm,\n",
    "                              display_labels=[\n",
    "                 \"hr\", \"bs\", \"sr\",  \"me\"])\n",
    "disp.plot()\n",
    "plt.title(\"Naive Bayes, 5k lexems per language\")\n",
    "plt.savefig(\"images/13_Naive_Bayes_on_Twitter.png\")\n",
    "plt.show()"
   ]
  },
  {
   "cell_type": "code",
   "execution_count": 19,
   "metadata": {},
   "outputs": [
    {
     "name": "stdout",
     "output_type": "stream",
     "text": [
      "Macro f1: 0.608\n",
      "Micro f1: 0.816\n",
      "Accuracy: 0.816\n"
     ]
    },
    {
     "data": {
      "image/png": "[encoded data removed]",
      "text/plain": [
       "<Figure size 432x288 with 2 Axes>"
      ]
     },
     "metadata": {
      "needs_background": "light"
     },
     "output_type": "display_data"
    }
   ],
   "source": [
    "from sklearn.feature_extraction.text import CountVectorizer\n",
    "vectorizer = CountVectorizer(vocabulary=get_N_tokens(), lowercase=True, binary=True)\n",
    "\n",
    "train_vectors = vectorizer.fit_transform(train.text)\n",
    "train_labels = train.labels\n",
    "\n",
    "test_vectors = vectorizer.fit_transform(eval_df.text)\n",
    "y_true = eval_df.labels\n",
    "\n",
    "from sklearn.naive_bayes import GaussianNB\n",
    "\n",
    "clf = GaussianNB()\n",
    "\n",
    "clf.fit(train_vectors.toarray(), train_labels)\n",
    "y_pred = clf.predict(test_vectors.toarray())\n",
    "\n",
    "from sklearn.metrics import f1_score, ConfusionMatrixDisplay, confusion_matrix, accuracy_score\n",
    "import matplotlib.pyplot as plt\n",
    "LABELS = [\"hr\", \"bs\", \"sr\",  \"me\"]\n",
    "macro = f1_score(y_true, y_pred, labels=LABELS,  average=\"micro\")\n",
    "acc = accuracy_score(y_true, y_pred)\n",
    "print(f\"Macro f1: {macro:0.3}\\nMicro f1: {micro:0.3}\\nAccuracy: {acc:0.3}\")\n",
    "\n",
    "cm = confusion_matrix(y_true, y_pred, labels=LABELS)\n",
    "disp = ConfusionMatrixDisplay(confusion_matrix=cm,\n",
    "                              display_labels=LABELS)\n",
    "disp.plot()\n",
    "plt.title(\"Naive Bayes, 5k lexems per language, binary vectorizer\")\n",
    "plt.savefig(\"images/13_Naive_Bayes_on_Twitter_binary_vectorizer.png\")\n",
    "plt.show()"
   ]
  },
  {
   "cell_type": "code",
   "execution_count": null,
   "metadata": {},
   "outputs": [],
   "source": []
  }
 ],
 "metadata": {
  "interpreter": {
   "hash": "7f6f5766036ee03d059e365a942add07f79c17033585e9357ee8157d52fe6bb9"
  },
  "kernelspec": {
   "display_name": "Python 3.8.3 64-bit ('base': conda)",
   "language": "python",
   "name": "python3"
  },
  "language_info": {
   "codemirror_mode": {
    "name": "ipython",
    "version": 3
   },
   "file_extension": ".py",
   "mimetype": "text/x-python",
   "name": "python",
   "nbconvert_exporter": "python",
   "pygments_lexer": "ipython3",
   "version": "3.8.3"
  },
  "orig_nbformat": 4
 },
 "nbformat": 4,
 "nbformat_minor": 2
}
