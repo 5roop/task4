{
 "cells": [
  {
   "cell_type": "markdown",
   "metadata": {},
   "source": [
    "The purpose of this notebook is to extract the distributions of tokens from the toy corpora (limited to 1M lines)"
   ]
  },
  {
   "cell_type": "code",
   "execution_count": 1,
   "metadata": {},
   "outputs": [],
   "source": [
    "import os\n",
    "import logging\n",
    "\n",
    "logging.basicConfig(format='%(asctime)s - %(message)s', level=logging.INFO)\n",
    "\n",
    "\n",
    "raw_dir = \"/home/peterr/macocu/taskB/data/raw\"\n",
    "interim_dir = \"/home/peterr/macocu/taskB/data/interim\"\n",
    "final_dir = \"/home/peterr/macocu/taskB/data/final\"\n",
    "\n",
    "\n",
    "files = [\"bswac_head_pp\",\"cnrwac_head_pp\",\"hrwac_head_pp\",\"srwac_head_pp\"]"
   ]
  },
  {
   "cell_type": "code",
   "execution_count": 29,
   "metadata": {},
   "outputs": [
    {
     "name": "stderr",
     "output_type": "stream",
     "text": [
      "2021-12-29 16:42:53,657 - Saved results from file /home/peterr/macocu/taskB/data/interim/bswac_head_pp to /home/peterr/macocu/taskB/data/interim/bswac_head_pp_tokens.json\n",
      "2021-12-29 16:43:15,120 - Saved results from file /home/peterr/macocu/taskB/data/interim/cnrwac_head_pp to /home/peterr/macocu/taskB/data/interim/cnrwac_head_pp_tokens.json\n",
      "2021-12-29 16:43:25,938 - Saved results from file /home/peterr/macocu/taskB/data/interim/hrwac_head_pp to /home/peterr/macocu/taskB/data/interim/hrwac_head_pp_tokens.json\n",
      "2021-12-29 16:43:36,832 - Saved results from file /home/peterr/macocu/taskB/data/interim/srwac_head_pp to /home/peterr/macocu/taskB/data/interim/srwac_head_pp_tokens.json\n"
     ]
    }
   ],
   "source": [
    "def gen_token_count_dict(input_path: str, save_path: str =None) -> dict:\n",
    "    with open(input_path) as f:\n",
    "        lines = f.readlines()\n",
    "    results = dict()\n",
    "    for line in lines:\n",
    "        if line == \"\":\n",
    "            continue\n",
    "        line = line.replace(\"\\n\", \"\")\n",
    "        for token in line.split(\" \"):\n",
    "            if token in results.keys():\n",
    "                results[token] = results.get(token, 0) + 1\n",
    "                continue\n",
    "            if is_alpha(token):\n",
    "                results[token] = 1\n",
    "                continue\n",
    "    if save_path != None:\n",
    "        with open(save_path, \"w\") as f:\n",
    "            import json\n",
    "            json.dump(results, f)\n",
    "        logging.info(f\"Saved results from file {input_path} to {save_path}\")\n",
    "\n",
    "    return results\n",
    "\n",
    "def is_alpha(token:str) -> bool:\n",
    "    import re\n",
    "    pattern = \"^[a-zšđčćž]+$\"\n",
    "    compiled_pattern = re.compile(pattern)\n",
    "    return bool(compiled_pattern.match(token))\n",
    "all_tokens = dict()\n",
    "for file in files:\n",
    "    path = os.path.join(interim_dir, file)\n",
    "    d = gen_token_count_dict(path, save_path=path+\"_tokens.json\")\n",
    "    all_tokens[file] = d"
   ]
  },
  {
   "cell_type": "code",
   "execution_count": 30,
   "metadata": {},
   "outputs": [],
   "source": [
    "import pandas as pd"
   ]
  },
  {
   "cell_type": "code",
   "execution_count": 36,
   "metadata": {},
   "outputs": [],
   "source": [
    "df = pd.DataFrame(data=all_tokens, dtype=int)\n",
    "df = df.fillna(0)\n",
    "df.to_csv(\"toy_tokens.csv\")"
   ]
  },
  {
   "cell_type": "code",
   "execution_count": 34,
   "metadata": {},
   "outputs": [
    {
     "name": "stdout",
     "output_type": "stream",
     "text": [
      "/home/peterr/macocu/taskB/task4\n"
     ]
    }
   ],
   "source": [
    "!pwd"
   ]
  },
  {
   "cell_type": "code",
   "execution_count": null,
   "metadata": {},
   "outputs": [],
   "source": []
  }
 ],
 "metadata": {
  "interpreter": {
   "hash": "7f6f5766036ee03d059e365a942add07f79c17033585e9357ee8157d52fe6bb9"
  },
  "kernelspec": {
   "display_name": "Python 3.8.3 64-bit ('base': conda)",
   "language": "python",
   "name": "python3"
  },
  "language_info": {
   "codemirror_mode": {
    "name": "ipython",
    "version": 3
   },
   "file_extension": ".py",
   "mimetype": "text/x-python",
   "name": "python",
   "nbconvert_exporter": "python",
   "pygments_lexer": "ipython3",
   "version": "3.8.3"
  },
  "orig_nbformat": 4
 },
 "nbformat": 4,
 "nbformat_minor": 2
}
