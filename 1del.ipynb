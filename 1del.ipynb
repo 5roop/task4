{
 "cells": [
  {
   "cell_type": "markdown",
   "metadata": {},
   "source": [
    "# Exploratory analysis\n",
    "\n",
    "Let's see if the structure of the documents can be reconstructed:"
   ]
  },
  {
   "cell_type": "code",
   "execution_count": 15,
   "metadata": {},
   "outputs": [],
   "source": [
    "raw_data_dir = \"/home/peterr/macocu/Varieties/BCMS\"\n",
    "import os\n",
    "import parse"
   ]
  },
  {
   "cell_type": "code",
   "execution_count": 46,
   "metadata": {},
   "outputs": [
    {
     "data": {
      "text/plain": [
       "['setimes.bs-hr.bs.txt',\n",
       " 'setimes.bs-hr.hr.txt',\n",
       " 'setimes.bs-sr.bs.txt',\n",
       " 'setimes.bs-sr.sr.txt',\n",
       " 'setimes.hr-sr.hr.txt',\n",
       " 'setimes.hr-sr.sr.txt']"
      ]
     },
     "execution_count": 46,
     "metadata": {},
     "output_type": "execute_result"
    }
   ],
   "source": [
    "all_files = os.listdir(raw_data_dir)\n",
    "p = parse.compile(\"setimes.{lang1}-{lang2}.{lang}.txt\")\n",
    "\n",
    "all_relevant_files = sorted([i for i in all_files if p.parse(i) is not None])\n",
    "all_relevant_files"
   ]
  },
  {
   "cell_type": "code",
   "execution_count": 70,
   "metadata": {},
   "outputs": [
    {
     "name": "stdout",
     "output_type": "stream",
     "text": [
      "|Searched for `{beginning} Southeast European Times {end}\n",
      "` | count |\n",
      "| --- | --- |\n",
      "| setimes.bs-hr.bs.txt |  3230 |\n",
      "| setimes.bs-hr.hr.txt |  3217 |\n",
      "| setimes.bs-sr.bs.txt |  2900 |\n",
      "| setimes.bs-sr.sr.txt |  2891 |\n",
      "| setimes.hr-sr.hr.txt |  4505 |\n",
      "| setimes.hr-sr.sr.txt |  4510 |\n"
     ]
    }
   ],
   "source": [
    "searched_string = \"{beginning} Southeast European Times {end}\\n\"\n",
    "additional_string = \"{beginning} za Southeast European Times {end}\\n\"\n",
    "ss = parse.compile(searched_string)\n",
    "ss2 = parse.compile(additional_string)\n",
    "print(f\"|Searched for `{searched_string}` |\", \"count\", \"|\")\n",
    "print(\"| --- | --- |\")\n",
    "for file in all_relevant_files:\n",
    "    path = os.path.join(raw_data_dir, file)\n",
    "    with open(path, \"r\") as f:\n",
    "        counter = 0\n",
    "        for line in f.readlines():\n",
    "            if ss.parse(line) is not None:\n",
    "                counter += 1\n",
    "                # if ss2.parse(line) is None:\n",
    "                #     print(line)\n",
    "    print(\"|\", file, \"| \", counter, \"|\")"
   ]
  },
  {
   "cell_type": "code",
   "execution_count": 82,
   "metadata": {},
   "outputs": [
    {
     "name": "stdout",
     "output_type": "stream",
     "text": [
      "|regex: `([\\w+]|[|Za|za|for|For]|^) Southeast European Times .*[-\\-|–] \\d\\d/\\d\\d/\\d\\d`| counts|\n",
      "|---|---|\n",
      "| setimes.bs-hr.bs.txt |  3085 |\n",
      "| setimes.bs-hr.hr.txt |  3066 |\n",
      "| setimes.bs-sr.bs.txt |  2763 |\n",
      "| setimes.bs-sr.sr.txt |  1817 |\n",
      "| setimes.hr-sr.hr.txt |  4342 |\n",
      "| setimes.hr-sr.sr.txt |  3395 |\n"
     ]
    }
   ],
   "source": [
    "import re\n",
    "rstring = \"Southeast European Times .*-- \\d\\d/\\d\\d/\\d\\d\"\n",
    "rstring = \"([\\w+]|[|Za|za|for|For]|^) Southeast European Times .*[-\\-|–] \\d\\d/\\d\\d/\\d\\d\"\n",
    "p = re.compile(rstring)\n",
    "\n",
    "\n",
    "print(f\"|regex: `{rstring}`| counts|\\n|---|---|\")\n",
    "for file in all_relevant_files:\n",
    "    path = os.path.join(raw_data_dir, file)\n",
    "    with open(path, \"r\") as f:\n",
    "        counter = 0\n",
    "        for line in f.readlines():\n",
    "            line = line.replace(\"–\", \"--\")\n",
    "            if p.search(line):\n",
    "                counter += 1\n",
    "    print(\"|\", file, \"| \", counter, \"|\")"
   ]
  },
  {
   "cell_type": "code",
   "execution_count": 72,
   "metadata": {},
   "outputs": [
    {
     "name": "stdout",
     "output_type": "stream",
     "text": [
      "Dela\n"
     ]
    }
   ],
   "source": [
    "import re\n",
    "p = re.compile(r\"Southeast European Times .*-- \\d\\d/\\d\\d/\\d\\d\")\n",
    "\n",
    "s = \"Ayhan Simsek Southeast European Times -- 03/09/07\"\n",
    "\n",
    "if p.search(s):\n",
    "    print(\"Dela\")\n"
   ]
  },
  {
   "cell_type": "code",
   "execution_count": 63,
   "metadata": {},
   "outputs": [
    {
     "data": {
      "text/plain": [
       "8211"
      ]
     },
     "execution_count": 63,
     "metadata": {},
     "output_type": "execute_result"
    }
   ],
   "source": [
    "ord(\"–\")"
   ]
  },
  {
   "cell_type": "code",
   "execution_count": 65,
   "metadata": {},
   "outputs": [
    {
     "data": {
      "text/plain": [
       "45"
      ]
     },
     "execution_count": 65,
     "metadata": {},
     "output_type": "execute_result"
    }
   ],
   "source": [
    "ord(\"-\")"
   ]
  },
  {
   "cell_type": "code",
   "execution_count": null,
   "metadata": {},
   "outputs": [],
   "source": []
  }
 ],
 "metadata": {
  "interpreter": {
   "hash": "7f6f5766036ee03d059e365a942add07f79c17033585e9357ee8157d52fe6bb9"
  },
  "kernelspec": {
   "display_name": "Python 3.8.3 64-bit ('base': conda)",
   "name": "python3"
  },
  "language_info": {
   "codemirror_mode": {
    "name": "ipython",
    "version": 3
   },
   "file_extension": ".py",
   "mimetype": "text/x-python",
   "name": "python",
   "nbconvert_exporter": "python",
   "pygments_lexer": "ipython3",
   "version": "3.8.3"
  },
  "orig_nbformat": 4
 },
 "nbformat": 4,
 "nbformat_minor": 2
}
