{
 "cells": [
  {
   "cell_type": "code",
   "execution_count": 6,
   "metadata": {},
   "outputs": [],
   "source": [
    "import pandas as pd\n",
    "import matplotlib.pyplot as plt"
   ]
  },
  {
   "cell_type": "code",
   "execution_count": 7,
   "metadata": {},
   "outputs": [],
   "source": [
    "df = pd.read_csv(\"22_webcrawl.csv\")"
   ]
  },
  {
   "cell_type": "code",
   "execution_count": 8,
   "metadata": {},
   "outputs": [
    {
     "data": {
      "text/plain": [
       "{'hr': 8248, 'sr': 6967, 'bs': 2874, 'me': 461}"
      ]
     },
     "execution_count": 8,
     "metadata": {},
     "output_type": "execute_result"
    }
   ],
   "source": [
    "dict(df.language.value_counts())"
   ]
  },
  {
   "cell_type": "code",
   "execution_count": 9,
   "metadata": {},
   "outputs": [
    {
     "data": {
      "image/png": "[encoded data removed]",
      "text/plain": [
       "<Figure size 432x288 with 1 Axes>"
      ]
     },
     "metadata": {
      "needs_background": "light"
     },
     "output_type": "display_data"
    }
   ],
   "source": [
    "df.language.value_counts().plot(kind=\"bar\")\n",
    "plt.gca().tick_params(axis=\"x\", rotation=0)\n"
   ]
  },
  {
   "cell_type": "code",
   "execution_count": 10,
   "metadata": {},
   "outputs": [
    {
     "data": {
      "text/html": [
       "<div>\n",
       "<style scoped>\n",
       "    .dataframe tbody tr th:only-of-type {\n",
       "        vertical-align: middle;\n",
       "    }\n",
       "\n",
       "    .dataframe tbody tr th {\n",
       "        vertical-align: top;\n",
       "    }\n",
       "\n",
       "    .dataframe thead th {\n",
       "        text-align: right;\n",
       "    }\n",
       "</style>\n",
       "<table border=\"1\" class=\"dataframe\">\n",
       "  <thead>\n",
       "    <tr style=\"text-align: right;\">\n",
       "      <th></th>\n",
       "      <th>language</th>\n",
       "      <th>text</th>\n",
       "      <th>source</th>\n",
       "      <th>rss_link</th>\n",
       "      <th>crawl_time</th>\n",
       "      <th>text_hash</th>\n",
       "    </tr>\n",
       "  </thead>\n",
       "  <tbody>\n",
       "    <tr>\n",
       "      <th>18545</th>\n",
       "      <td>me</td>\n",
       "      <td>Nakon spektakularnog plasmana u 3. kolo Austra...</td>\n",
       "      <td>https://www.vijesti.me/sport/tenis/586263/zagr...</td>\n",
       "      <td>https://www.vijesti.me/rss</td>\n",
       "      <td>2022-01-21T10:48:54+0100</td>\n",
       "      <td>-8451124862952644672</td>\n",
       "    </tr>\n",
       "    <tr>\n",
       "      <th>18546</th>\n",
       "      <td>me</td>\n",
       "      <td>U Crnoj Gori prvom dozom vakcine protiv korona...</td>\n",
       "      <td>https://www.vijesti.me/vijesti/drustvo/586262/...</td>\n",
       "      <td>https://www.vijesti.me/rss</td>\n",
       "      <td>2022-01-21T10:48:55+0100</td>\n",
       "      <td>-5605519338417690223</td>\n",
       "    </tr>\n",
       "    <tr>\n",
       "      <th>18547</th>\n",
       "      <td>me</td>\n",
       "      <td>Opozicioni poslanici danas će podnijeti Skupšt...</td>\n",
       "      <td>https://www.vijesti.me/vijesti/politika/586260...</td>\n",
       "      <td>https://www.vijesti.me/rss</td>\n",
       "      <td>2022-01-21T10:48:55+0100</td>\n",
       "      <td>-8965797572220440410</td>\n",
       "    </tr>\n",
       "    <tr>\n",
       "      <th>18548</th>\n",
       "      <td>me</td>\n",
       "      <td>“Nastava u našem centru pocinje 31.januara, i ...</td>\n",
       "      <td>https://www.vijesti.me/vijesti/drustvo/586160/...</td>\n",
       "      <td>https://www.vijesti.me/rss</td>\n",
       "      <td>2022-01-21T10:48:57+0100</td>\n",
       "      <td>4292070726186198031</td>\n",
       "    </tr>\n",
       "    <tr>\n",
       "      <th>18549</th>\n",
       "      <td>me</td>\n",
       "      <td>Ministar kapitalnih investicija Mladen Bojanić...</td>\n",
       "      <td>http://barinfo.me/bojanic-ocekujem-unapredenje...</td>\n",
       "      <td>http://barinfo.me/feed/</td>\n",
       "      <td>2022-01-21T10:49:01+0100</td>\n",
       "      <td>-5866607277885066918</td>\n",
       "    </tr>\n",
       "  </tbody>\n",
       "</table>\n",
       "</div>"
      ],
      "text/plain": [
       "      language                                               text  \\\n",
       "18545       me  Nakon spektakularnog plasmana u 3. kolo Austra...   \n",
       "18546       me  U Crnoj Gori prvom dozom vakcine protiv korona...   \n",
       "18547       me  Opozicioni poslanici danas će podnijeti Skupšt...   \n",
       "18548       me  “Nastava u našem centru pocinje 31.januara, i ...   \n",
       "18549       me  Ministar kapitalnih investicija Mladen Bojanić...   \n",
       "\n",
       "                                                  source  \\\n",
       "18545  https://www.vijesti.me/sport/tenis/586263/zagr...   \n",
       "18546  https://www.vijesti.me/vijesti/drustvo/586262/...   \n",
       "18547  https://www.vijesti.me/vijesti/politika/586260...   \n",
       "18548  https://www.vijesti.me/vijesti/drustvo/586160/...   \n",
       "18549  http://barinfo.me/bojanic-ocekujem-unapredenje...   \n",
       "\n",
       "                         rss_link                crawl_time  \\\n",
       "18545  https://www.vijesti.me/rss  2022-01-21T10:48:54+0100   \n",
       "18546  https://www.vijesti.me/rss  2022-01-21T10:48:55+0100   \n",
       "18547  https://www.vijesti.me/rss  2022-01-21T10:48:55+0100   \n",
       "18548  https://www.vijesti.me/rss  2022-01-21T10:48:57+0100   \n",
       "18549     http://barinfo.me/feed/  2022-01-21T10:49:01+0100   \n",
       "\n",
       "                 text_hash  \n",
       "18545 -8451124862952644672  \n",
       "18546 -5605519338417690223  \n",
       "18547 -8965797572220440410  \n",
       "18548  4292070726186198031  \n",
       "18549 -5866607277885066918  "
      ]
     },
     "execution_count": 10,
     "metadata": {},
     "output_type": "execute_result"
    }
   ],
   "source": [
    "df.tail()"
   ]
  },
  {
   "cell_type": "code",
   "execution_count": null,
   "metadata": {},
   "outputs": [],
   "source": []
  }
 ],
 "metadata": {
  "interpreter": {
   "hash": "7f6f5766036ee03d059e365a942add07f79c17033585e9357ee8157d52fe6bb9"
  },
  "kernelspec": {
   "display_name": "Python 3.8.3 64-bit ('base': conda)",
   "language": "python",
   "name": "python3"
  },
  "language_info": {
   "codemirror_mode": {
    "name": "ipython",
    "version": 3
   },
   "file_extension": ".py",
   "mimetype": "text/x-python",
   "name": "python",
   "nbconvert_exporter": "python",
   "pygments_lexer": "ipython3",
   "version": "3.8.3"
  },
  "orig_nbformat": 4
 },
 "nbformat": 4,
 "nbformat_minor": 2
}
