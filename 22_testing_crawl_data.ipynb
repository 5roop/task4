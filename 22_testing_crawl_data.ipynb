{
 "cells": [
  {
   "cell_type": "code",
   "execution_count": 1,
   "metadata": {},
   "outputs": [],
   "source": [
    "import pandas as pd\n",
    "import matplotlib.pyplot as plt"
   ]
  },
  {
   "cell_type": "code",
   "execution_count": 2,
   "metadata": {},
   "outputs": [],
   "source": [
    "df = pd.read_csv(\"22_webcrawl.csv\")"
   ]
  },
  {
   "cell_type": "code",
   "execution_count": 3,
   "metadata": {},
   "outputs": [
    {
     "data": {
      "text/plain": [
       "{'hr': 7872, 'sr': 6669, 'bs': 2720, 'me': 438}"
      ]
     },
     "execution_count": 3,
     "metadata": {},
     "output_type": "execute_result"
    }
   ],
   "source": [
    "dict(df.language.value_counts())"
   ]
  },
  {
   "cell_type": "code",
   "execution_count": 4,
   "metadata": {},
   "outputs": [
    {
     "data": {
      "image/png": "[encoded data removed]",
      "text/plain": [
       "<Figure size 432x288 with 1 Axes>"
      ]
     },
     "metadata": {
      "needs_background": "light"
     },
     "output_type": "display_data"
    }
   ],
   "source": [
    "df.language.value_counts().plot(kind=\"bar\")\n",
    "plt.gca().tick_params(axis=\"x\", rotation=0)\n"
   ]
  },
  {
   "cell_type": "code",
   "execution_count": 5,
   "metadata": {},
   "outputs": [
    {
     "data": {
      "text/html": [
       "<div>\n",
       "<style scoped>\n",
       "    .dataframe tbody tr th:only-of-type {\n",
       "        vertical-align: middle;\n",
       "    }\n",
       "\n",
       "    .dataframe tbody tr th {\n",
       "        vertical-align: top;\n",
       "    }\n",
       "\n",
       "    .dataframe thead th {\n",
       "        text-align: right;\n",
       "    }\n",
       "</style>\n",
       "<table border=\"1\" class=\"dataframe\">\n",
       "  <thead>\n",
       "    <tr style=\"text-align: right;\">\n",
       "      <th></th>\n",
       "      <th>language</th>\n",
       "      <th>text</th>\n",
       "      <th>source</th>\n",
       "      <th>rss_link</th>\n",
       "      <th>crawl_time</th>\n",
       "      <th>text_hash</th>\n",
       "    </tr>\n",
       "  </thead>\n",
       "  <tbody>\n",
       "    <tr>\n",
       "      <th>17694</th>\n",
       "      <td>me</td>\n",
       "      <td>Kina je danas u UN blokirala zahtjev SAD da se...</td>\n",
       "      <td>https://www.vijesti.me/svijet/globus/586243/ki...</td>\n",
       "      <td>https://www.vijesti.me/rss</td>\n",
       "      <td>2022-01-21T08:51:45+0100</td>\n",
       "      <td>-8690436790976680011</td>\n",
       "    </tr>\n",
       "    <tr>\n",
       "      <th>17695</th>\n",
       "      <td>me</td>\n",
       "      <td>Bjeloruski predsjednik sazvao je za idući mjes...</td>\n",
       "      <td>https://www.vijesti.me/svijet/evropa/586242/bj...</td>\n",
       "      <td>https://www.vijesti.me/rss</td>\n",
       "      <td>2022-01-21T08:51:45+0100</td>\n",
       "      <td>1737993069861053824</td>\n",
       "    </tr>\n",
       "    <tr>\n",
       "      <th>17696</th>\n",
       "      <td>me</td>\n",
       "      <td>Bog me ubio ako ja išta više razumijem, prošlo...</td>\n",
       "      <td>https://www.vijesti.me/kolumne/586203/ode-prem...</td>\n",
       "      <td>https://www.vijesti.me/rss</td>\n",
       "      <td>2022-01-21T08:51:45+0100</td>\n",
       "      <td>578245228317526</td>\n",
       "    </tr>\n",
       "    <tr>\n",
       "      <th>17697</th>\n",
       "      <td>me</td>\n",
       "      <td>Sjedinjene Države su poslale direktora Central...</td>\n",
       "      <td>https://www.vijesti.me/svijet/evropa/586216/se...</td>\n",
       "      <td>https://www.vijesti.me/rss</td>\n",
       "      <td>2022-01-21T08:51:45+0100</td>\n",
       "      <td>2986934093115359440</td>\n",
       "    </tr>\n",
       "    <tr>\n",
       "      <th>17698</th>\n",
       "      <td>me</td>\n",
       "      <td>POGLEDAJTE GLAVNE PRIČE: Naslovna strana \"Vije...</td>\n",
       "      <td>https://www.vijesti.me/naslovne-strane/586238/...</td>\n",
       "      <td>https://www.vijesti.me/rss</td>\n",
       "      <td>2022-01-21T08:51:45+0100</td>\n",
       "      <td>-1303975457523439054</td>\n",
       "    </tr>\n",
       "  </tbody>\n",
       "</table>\n",
       "</div>"
      ],
      "text/plain": [
       "      language                                               text  \\\n",
       "17694       me  Kina je danas u UN blokirala zahtjev SAD da se...   \n",
       "17695       me  Bjeloruski predsjednik sazvao je za idući mjes...   \n",
       "17696       me  Bog me ubio ako ja išta više razumijem, prošlo...   \n",
       "17697       me  Sjedinjene Države su poslale direktora Central...   \n",
       "17698       me  POGLEDAJTE GLAVNE PRIČE: Naslovna strana \"Vije...   \n",
       "\n",
       "                                                  source  \\\n",
       "17694  https://www.vijesti.me/svijet/globus/586243/ki...   \n",
       "17695  https://www.vijesti.me/svijet/evropa/586242/bj...   \n",
       "17696  https://www.vijesti.me/kolumne/586203/ode-prem...   \n",
       "17697  https://www.vijesti.me/svijet/evropa/586216/se...   \n",
       "17698  https://www.vijesti.me/naslovne-strane/586238/...   \n",
       "\n",
       "                         rss_link                crawl_time  \\\n",
       "17694  https://www.vijesti.me/rss  2022-01-21T08:51:45+0100   \n",
       "17695  https://www.vijesti.me/rss  2022-01-21T08:51:45+0100   \n",
       "17696  https://www.vijesti.me/rss  2022-01-21T08:51:45+0100   \n",
       "17697  https://www.vijesti.me/rss  2022-01-21T08:51:45+0100   \n",
       "17698  https://www.vijesti.me/rss  2022-01-21T08:51:45+0100   \n",
       "\n",
       "                 text_hash  \n",
       "17694 -8690436790976680011  \n",
       "17695  1737993069861053824  \n",
       "17696      578245228317526  \n",
       "17697  2986934093115359440  \n",
       "17698 -1303975457523439054  "
      ]
     },
     "execution_count": 5,
     "metadata": {},
     "output_type": "execute_result"
    }
   ],
   "source": [
    "df.tail()"
   ]
  },
  {
   "cell_type": "code",
   "execution_count": null,
   "metadata": {},
   "outputs": [],
   "source": []
  }
 ],
 "metadata": {
  "interpreter": {
   "hash": "7f6f5766036ee03d059e365a942add07f79c17033585e9357ee8157d52fe6bb9"
  },
  "kernelspec": {
   "display_name": "Python 3.8.3 64-bit ('base': conda)",
   "language": "python",
   "name": "python3"
  },
  "language_info": {
   "codemirror_mode": {
    "name": "ipython",
    "version": 3
   },
   "file_extension": ".py",
   "mimetype": "text/x-python",
   "name": "python",
   "nbconvert_exporter": "python",
   "pygments_lexer": "ipython3",
   "version": "3.8.3"
  },
  "orig_nbformat": 4
 },
 "nbformat": 4,
 "nbformat_minor": 2
}
