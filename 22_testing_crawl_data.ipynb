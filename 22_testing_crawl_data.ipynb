{
 "cells": [
  {
   "cell_type": "code",
   "execution_count": 1,
   "metadata": {},
   "outputs": [],
   "source": [
    "import pandas as pd\n",
    "import matplotlib.pyplot as plt"
   ]
  },
  {
   "cell_type": "code",
   "execution_count": 2,
   "metadata": {},
   "outputs": [
    {
     "data": {
      "text/html": [
       "<div>\n",
       "<style scoped>\n",
       "    .dataframe tbody tr th:only-of-type {\n",
       "        vertical-align: middle;\n",
       "    }\n",
       "\n",
       "    .dataframe tbody tr th {\n",
       "        vertical-align: top;\n",
       "    }\n",
       "\n",
       "    .dataframe thead th {\n",
       "        text-align: right;\n",
       "    }\n",
       "</style>\n",
       "<table border=\"1\" class=\"dataframe\">\n",
       "  <thead>\n",
       "    <tr style=\"text-align: right;\">\n",
       "      <th></th>\n",
       "      <th>language</th>\n",
       "      <th>text</th>\n",
       "      <th>source</th>\n",
       "      <th>rss_link</th>\n",
       "      <th>crawl_time</th>\n",
       "      <th>text_hash</th>\n",
       "    </tr>\n",
       "  </thead>\n",
       "  <tbody>\n",
       "    <tr>\n",
       "      <th>0</th>\n",
       "      <td>hr</td>\n",
       "      <td>Nitko srećom nije stradao u požaru koji je izb...</td>\n",
       "      <td>https://www.jutarnji.hr/vijesti/crna-kronika/d...</td>\n",
       "      <td>https://www.jutarnji.hr/feed</td>\n",
       "      <td>1970-01-01 01:00:00+01:00</td>\n",
       "      <td>7976827418230298929</td>\n",
       "    </tr>\n",
       "    <tr>\n",
       "      <th>1</th>\n",
       "      <td>hr</td>\n",
       "      <td>Troje nekadašnjih zastupnika Domovinskog pokre...</td>\n",
       "      <td>https://www.jutarnji.hr/vijesti/hrvatska/skoro...</td>\n",
       "      <td>https://www.jutarnji.hr/feed</td>\n",
       "      <td>1970-01-01 01:00:00+01:00</td>\n",
       "      <td>-5270743424471640395</td>\n",
       "    </tr>\n",
       "    <tr>\n",
       "      <th>2</th>\n",
       "      <td>hr</td>\n",
       "      <td>Potraga za nestalim Matejem Perišem traje već ...</td>\n",
       "      <td>https://www.jutarnji.hr/vijesti/crna-kronika/p...</td>\n",
       "      <td>https://www.jutarnji.hr/feed</td>\n",
       "      <td>1970-01-01 01:00:00+01:00</td>\n",
       "      <td>2677794021642792919</td>\n",
       "    </tr>\n",
       "    <tr>\n",
       "      <th>3</th>\n",
       "      <td>hr</td>\n",
       "      <td>Pred dvadesetak godina europske je festivala p...</td>\n",
       "      <td>https://www.jutarnji.hr/kultura/film-i-televiz...</td>\n",
       "      <td>https://www.jutarnji.hr/feed</td>\n",
       "      <td>1970-01-01 01:00:00+01:00</td>\n",
       "      <td>-9055739113533422097</td>\n",
       "    </tr>\n",
       "    <tr>\n",
       "      <th>4</th>\n",
       "      <td>hr</td>\n",
       "      <td>Protagonistica i pripovjedačica je Ada Sabová,...</td>\n",
       "      <td>https://www.jutarnji.hr/kultura/film-i-televiz...</td>\n",
       "      <td>https://www.jutarnji.hr/feed</td>\n",
       "      <td>1970-01-01 01:00:00+01:00</td>\n",
       "      <td>-7937970816981550458</td>\n",
       "    </tr>\n",
       "  </tbody>\n",
       "</table>\n",
       "</div>"
      ],
      "text/plain": [
       "  language                                               text  \\\n",
       "0       hr  Nitko srećom nije stradao u požaru koji je izb...   \n",
       "1       hr  Troje nekadašnjih zastupnika Domovinskog pokre...   \n",
       "2       hr  Potraga za nestalim Matejem Perišem traje već ...   \n",
       "3       hr  Pred dvadesetak godina europske je festivala p...   \n",
       "4       hr  Protagonistica i pripovjedačica je Ada Sabová,...   \n",
       "\n",
       "                                              source  \\\n",
       "0  https://www.jutarnji.hr/vijesti/crna-kronika/d...   \n",
       "1  https://www.jutarnji.hr/vijesti/hrvatska/skoro...   \n",
       "2  https://www.jutarnji.hr/vijesti/crna-kronika/p...   \n",
       "3  https://www.jutarnji.hr/kultura/film-i-televiz...   \n",
       "4  https://www.jutarnji.hr/kultura/film-i-televiz...   \n",
       "\n",
       "                       rss_link                crawl_time            text_hash  \n",
       "0  https://www.jutarnji.hr/feed 1970-01-01 01:00:00+01:00  7976827418230298929  \n",
       "1  https://www.jutarnji.hr/feed 1970-01-01 01:00:00+01:00 -5270743424471640395  \n",
       "2  https://www.jutarnji.hr/feed 1970-01-01 01:00:00+01:00  2677794021642792919  \n",
       "3  https://www.jutarnji.hr/feed 1970-01-01 01:00:00+01:00 -9055739113533422097  \n",
       "4  https://www.jutarnji.hr/feed 1970-01-01 01:00:00+01:00 -7937970816981550458  "
      ]
     },
     "execution_count": 2,
     "metadata": {},
     "output_type": "execute_result"
    }
   ],
   "source": [
    "df = pd.read_json(\"22_webcrawl.json\")\n",
    "df.head()"
   ]
  },
  {
   "cell_type": "code",
   "execution_count": 3,
   "metadata": {},
   "outputs": [
    {
     "data": {
      "text/plain": [
       "count                         38616\n",
       "unique                         3882\n",
       "top       1970-01-01 01:00:00+01:00\n",
       "freq                          25956\n",
       "first     1970-01-01 01:00:00+01:00\n",
       "last      2022-01-27 08:46:57+01:00\n",
       "Name: crawl_time, dtype: object"
      ]
     },
     "execution_count": 3,
     "metadata": {},
     "output_type": "execute_result"
    }
   ],
   "source": [
    "df.crawl_time.describe()"
   ]
  },
  {
   "cell_type": "code",
   "execution_count": null,
   "metadata": {},
   "outputs": [],
   "source": []
  },
  {
   "cell_type": "code",
   "execution_count": 4,
   "metadata": {},
   "outputs": [
    {
     "data": {
      "text/plain": [
       "{'sr': 16992, 'hr': 13408, 'bs': 6853, 'me': 1363}"
      ]
     },
     "execution_count": 4,
     "metadata": {},
     "output_type": "execute_result"
    }
   ],
   "source": [
    "dict(df.language.value_counts())"
   ]
  },
  {
   "cell_type": "code",
   "execution_count": 4,
   "metadata": {},
   "outputs": [
    {
     "data": {
      "image/png": "[encoded data removed]",
      "text/plain": [
       "<Figure size 432x288 with 1 Axes>"
      ]
     },
     "metadata": {
      "needs_background": "light"
     },
     "output_type": "display_data"
    }
   ],
   "source": [
    "df.language.value_counts().plot(kind=\"bar\")\n",
    "plt.gca().tick_params(axis=\"x\", rotation=0)\n"
   ]
  },
  {
   "cell_type": "code",
   "execution_count": 5,
   "metadata": {},
   "outputs": [
    {
     "data": {
      "text/html": [
       "<div>\n",
       "<style scoped>\n",
       "    .dataframe tbody tr th:only-of-type {\n",
       "        vertical-align: middle;\n",
       "    }\n",
       "\n",
       "    .dataframe tbody tr th {\n",
       "        vertical-align: top;\n",
       "    }\n",
       "\n",
       "    .dataframe thead th {\n",
       "        text-align: right;\n",
       "    }\n",
       "</style>\n",
       "<table border=\"1\" class=\"dataframe\">\n",
       "  <thead>\n",
       "    <tr style=\"text-align: right;\">\n",
       "      <th></th>\n",
       "      <th>language</th>\n",
       "      <th>text</th>\n",
       "      <th>source</th>\n",
       "      <th>rss_link</th>\n",
       "      <th>crawl_time</th>\n",
       "      <th>text_hash</th>\n",
       "    </tr>\n",
       "  </thead>\n",
       "  <tbody>\n",
       "    <tr>\n",
       "      <th>26907</th>\n",
       "      <td>me</td>\n",
       "      <td>U Crnoj Gori jutros je najviše snijega na Žabl...</td>\n",
       "      <td>https://www.vijesti.me/vijesti/drustvo/586693/...</td>\n",
       "      <td>https://www.vijesti.me/rss</td>\n",
       "      <td>2022-01-24 08:46:22+01:00</td>\n",
       "      <td>-3080497087274312160</td>\n",
       "    </tr>\n",
       "    <tr>\n",
       "      <th>26908</th>\n",
       "      <td>me</td>\n",
       "      <td>Odluka dijela vlasti da “sruši” aktuelnu Vladu...</td>\n",
       "      <td>https://www.vijesti.me/vijesti/politika/586692...</td>\n",
       "      <td>https://www.vijesti.me/rss</td>\n",
       "      <td>2022-01-24 08:46:22+01:00</td>\n",
       "      <td>4565976793764063635</td>\n",
       "    </tr>\n",
       "    <tr>\n",
       "      <th>26909</th>\n",
       "      <td>me</td>\n",
       "      <td>- Ima li ljudi? - Ne znam, valjda ima. Cupkali...</td>\n",
       "      <td>https://www.vijesti.me/kolumne/586637/u-sampas</td>\n",
       "      <td>https://www.vijesti.me/rss</td>\n",
       "      <td>2022-01-24 08:46:22+01:00</td>\n",
       "      <td>7811952541714551692</td>\n",
       "    </tr>\n",
       "    <tr>\n",
       "      <th>26910</th>\n",
       "      <td>me</td>\n",
       "      <td>Kejt Blanšet je jedna iz odabrane grupe holivu...</td>\n",
       "      <td>https://www.vijesti.me/bbc/586691/kejt-blanset...</td>\n",
       "      <td>https://www.vijesti.me/rss</td>\n",
       "      <td>2022-01-24 08:46:22+01:00</td>\n",
       "      <td>4765985477475792283</td>\n",
       "    </tr>\n",
       "    <tr>\n",
       "      <th>26911</th>\n",
       "      <td>me</td>\n",
       "      <td>Pod budnim okom Van Goga, Robin doteruje nokte...</td>\n",
       "      <td>https://www.vijesti.me/bbc/586690/neobicne-kov...</td>\n",
       "      <td>https://www.vijesti.me/rss</td>\n",
       "      <td>2022-01-24 08:46:22+01:00</td>\n",
       "      <td>-3716782630718434057</td>\n",
       "    </tr>\n",
       "    <tr>\n",
       "      <th>26912</th>\n",
       "      <td>me</td>\n",
       "      <td>Četvrta doza vakcine protiv kovida data osobam...</td>\n",
       "      <td>https://www.vijesti.me/svijet/globus/586673/ce...</td>\n",
       "      <td>https://www.vijesti.me/rss</td>\n",
       "      <td>2022-01-24 08:46:22+01:00</td>\n",
       "      <td>-2534450971153501660</td>\n",
       "    </tr>\n",
       "    <tr>\n",
       "      <th>26913</th>\n",
       "      <td>me</td>\n",
       "      <td>Zaposleni u medijima su i ovaj Dan novinara Cr...</td>\n",
       "      <td>https://www.vijesti.me/vijesti/drustvo/586679/...</td>\n",
       "      <td>https://www.vijesti.me/rss</td>\n",
       "      <td>2022-01-24 08:46:22+01:00</td>\n",
       "      <td>4641658765852660720</td>\n",
       "    </tr>\n",
       "    <tr>\n",
       "      <th>26914</th>\n",
       "      <td>me</td>\n",
       "      <td>Britanija je optužila Kremlj da želi da postav...</td>\n",
       "      <td>https://www.vijesti.me/svijet/evropa/586672/mi...</td>\n",
       "      <td>https://www.vijesti.me/rss</td>\n",
       "      <td>2022-01-24 08:46:22+01:00</td>\n",
       "      <td>-3957544413720218907</td>\n",
       "    </tr>\n",
       "    <tr>\n",
       "      <th>26915</th>\n",
       "      <td>me</td>\n",
       "      <td>Agencija za sprečavanje korupcije (ASK) najavi...</td>\n",
       "      <td>https://www.vijesti.me/vijesti/drustvo/586682/...</td>\n",
       "      <td>https://www.vijesti.me/rss</td>\n",
       "      <td>2022-01-24 08:46:22+01:00</td>\n",
       "      <td>-8778223523443734705</td>\n",
       "    </tr>\n",
       "    <tr>\n",
       "      <th>26916</th>\n",
       "      <td>me</td>\n",
       "      <td>U 2021. godini nakon što je Kina preuzela prim...</td>\n",
       "      <td>https://www.vijesti.me/svijet/globus/586669/dr...</td>\n",
       "      <td>https://www.vijesti.me/rss</td>\n",
       "      <td>2022-01-24 08:46:22+01:00</td>\n",
       "      <td>641432798311472449</td>\n",
       "    </tr>\n",
       "  </tbody>\n",
       "</table>\n",
       "</div>"
      ],
      "text/plain": [
       "      language                                               text  \\\n",
       "26907       me  U Crnoj Gori jutros je najviše snijega na Žabl...   \n",
       "26908       me  Odluka dijela vlasti da “sruši” aktuelnu Vladu...   \n",
       "26909       me  - Ima li ljudi? - Ne znam, valjda ima. Cupkali...   \n",
       "26910       me  Kejt Blanšet je jedna iz odabrane grupe holivu...   \n",
       "26911       me  Pod budnim okom Van Goga, Robin doteruje nokte...   \n",
       "26912       me  Četvrta doza vakcine protiv kovida data osobam...   \n",
       "26913       me  Zaposleni u medijima su i ovaj Dan novinara Cr...   \n",
       "26914       me  Britanija je optužila Kremlj da želi da postav...   \n",
       "26915       me  Agencija za sprečavanje korupcije (ASK) najavi...   \n",
       "26916       me  U 2021. godini nakon što je Kina preuzela prim...   \n",
       "\n",
       "                                                  source  \\\n",
       "26907  https://www.vijesti.me/vijesti/drustvo/586693/...   \n",
       "26908  https://www.vijesti.me/vijesti/politika/586692...   \n",
       "26909     https://www.vijesti.me/kolumne/586637/u-sampas   \n",
       "26910  https://www.vijesti.me/bbc/586691/kejt-blanset...   \n",
       "26911  https://www.vijesti.me/bbc/586690/neobicne-kov...   \n",
       "26912  https://www.vijesti.me/svijet/globus/586673/ce...   \n",
       "26913  https://www.vijesti.me/vijesti/drustvo/586679/...   \n",
       "26914  https://www.vijesti.me/svijet/evropa/586672/mi...   \n",
       "26915  https://www.vijesti.me/vijesti/drustvo/586682/...   \n",
       "26916  https://www.vijesti.me/svijet/globus/586669/dr...   \n",
       "\n",
       "                         rss_link                crawl_time  \\\n",
       "26907  https://www.vijesti.me/rss 2022-01-24 08:46:22+01:00   \n",
       "26908  https://www.vijesti.me/rss 2022-01-24 08:46:22+01:00   \n",
       "26909  https://www.vijesti.me/rss 2022-01-24 08:46:22+01:00   \n",
       "26910  https://www.vijesti.me/rss 2022-01-24 08:46:22+01:00   \n",
       "26911  https://www.vijesti.me/rss 2022-01-24 08:46:22+01:00   \n",
       "26912  https://www.vijesti.me/rss 2022-01-24 08:46:22+01:00   \n",
       "26913  https://www.vijesti.me/rss 2022-01-24 08:46:22+01:00   \n",
       "26914  https://www.vijesti.me/rss 2022-01-24 08:46:22+01:00   \n",
       "26915  https://www.vijesti.me/rss 2022-01-24 08:46:22+01:00   \n",
       "26916  https://www.vijesti.me/rss 2022-01-24 08:46:22+01:00   \n",
       "\n",
       "                 text_hash  \n",
       "26907 -3080497087274312160  \n",
       "26908  4565976793764063635  \n",
       "26909  7811952541714551692  \n",
       "26910  4765985477475792283  \n",
       "26911 -3716782630718434057  \n",
       "26912 -2534450971153501660  \n",
       "26913  4641658765852660720  \n",
       "26914 -3957544413720218907  \n",
       "26915 -8778223523443734705  \n",
       "26916   641432798311472449  "
      ]
     },
     "execution_count": 5,
     "metadata": {},
     "output_type": "execute_result"
    }
   ],
   "source": [
    "df.tail(10)"
   ]
  },
  {
   "cell_type": "code",
   "execution_count": null,
   "metadata": {},
   "outputs": [],
   "source": []
  }
 ],
 "metadata": {
  "interpreter": {
   "hash": "7f6f5766036ee03d059e365a942add07f79c17033585e9357ee8157d52fe6bb9"
  },
  "kernelspec": {
   "display_name": "Python 3.8.3 64-bit ('base': conda)",
   "language": "python",
   "name": "python3"
  },
  "language_info": {
   "codemirror_mode": {
    "name": "ipython",
    "version": 3
   },
   "file_extension": ".py",
   "mimetype": "text/x-python",
   "name": "python",
   "nbconvert_exporter": "python",
   "pygments_lexer": "ipython3",
   "version": "3.8.3"
  },
  "orig_nbformat": 4
 },
 "nbformat": 4,
 "nbformat_minor": 2
}
