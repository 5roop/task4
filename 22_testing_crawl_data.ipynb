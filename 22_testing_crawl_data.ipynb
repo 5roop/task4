{
 "cells": [
  {
   "cell_type": "code",
   "execution_count": 1,
   "metadata": {},
   "outputs": [],
   "source": [
    "import pandas as pd\n",
    "import matplotlib.pyplot as plt"
   ]
  },
  {
   "cell_type": "code",
   "execution_count": 2,
   "metadata": {},
   "outputs": [
    {
     "data": {
      "text/html": [
       "<div>\n",
       "<style scoped>\n",
       "    .dataframe tbody tr th:only-of-type {\n",
       "        vertical-align: middle;\n",
       "    }\n",
       "\n",
       "    .dataframe tbody tr th {\n",
       "        vertical-align: top;\n",
       "    }\n",
       "\n",
       "    .dataframe thead th {\n",
       "        text-align: right;\n",
       "    }\n",
       "</style>\n",
       "<table border=\"1\" class=\"dataframe\">\n",
       "  <thead>\n",
       "    <tr style=\"text-align: right;\">\n",
       "      <th></th>\n",
       "      <th>language</th>\n",
       "      <th>text</th>\n",
       "      <th>source</th>\n",
       "      <th>rss_link</th>\n",
       "      <th>crawl_time</th>\n",
       "      <th>text_hash</th>\n",
       "    </tr>\n",
       "  </thead>\n",
       "  <tbody>\n",
       "    <tr>\n",
       "      <th>0</th>\n",
       "      <td>hr</td>\n",
       "      <td>Nitko srećom nije stradao u požaru koji je izb...</td>\n",
       "      <td>https://www.jutarnji.hr/vijesti/crna-kronika/d...</td>\n",
       "      <td>https://www.jutarnji.hr/feed</td>\n",
       "      <td>1970-01-01 01:00:00+01:00</td>\n",
       "      <td>7976827418230298929</td>\n",
       "    </tr>\n",
       "    <tr>\n",
       "      <th>1</th>\n",
       "      <td>hr</td>\n",
       "      <td>Troje nekadašnjih zastupnika Domovinskog pokre...</td>\n",
       "      <td>https://www.jutarnji.hr/vijesti/hrvatska/skoro...</td>\n",
       "      <td>https://www.jutarnji.hr/feed</td>\n",
       "      <td>1970-01-01 01:00:00+01:00</td>\n",
       "      <td>-5270743424471640395</td>\n",
       "    </tr>\n",
       "    <tr>\n",
       "      <th>2</th>\n",
       "      <td>hr</td>\n",
       "      <td>Potraga za nestalim Matejem Perišem traje već ...</td>\n",
       "      <td>https://www.jutarnji.hr/vijesti/crna-kronika/p...</td>\n",
       "      <td>https://www.jutarnji.hr/feed</td>\n",
       "      <td>1970-01-01 01:00:00+01:00</td>\n",
       "      <td>2677794021642792919</td>\n",
       "    </tr>\n",
       "    <tr>\n",
       "      <th>3</th>\n",
       "      <td>hr</td>\n",
       "      <td>Pred dvadesetak godina europske je festivala p...</td>\n",
       "      <td>https://www.jutarnji.hr/kultura/film-i-televiz...</td>\n",
       "      <td>https://www.jutarnji.hr/feed</td>\n",
       "      <td>1970-01-01 01:00:00+01:00</td>\n",
       "      <td>-9055739113533422097</td>\n",
       "    </tr>\n",
       "    <tr>\n",
       "      <th>4</th>\n",
       "      <td>hr</td>\n",
       "      <td>Protagonistica i pripovjedačica je Ada Sabová,...</td>\n",
       "      <td>https://www.jutarnji.hr/kultura/film-i-televiz...</td>\n",
       "      <td>https://www.jutarnji.hr/feed</td>\n",
       "      <td>1970-01-01 01:00:00+01:00</td>\n",
       "      <td>-7937970816981550458</td>\n",
       "    </tr>\n",
       "  </tbody>\n",
       "</table>\n",
       "</div>"
      ],
      "text/plain": [
       "  language                                               text  \\\n",
       "0       hr  Nitko srećom nije stradao u požaru koji je izb...   \n",
       "1       hr  Troje nekadašnjih zastupnika Domovinskog pokre...   \n",
       "2       hr  Potraga za nestalim Matejem Perišem traje već ...   \n",
       "3       hr  Pred dvadesetak godina europske je festivala p...   \n",
       "4       hr  Protagonistica i pripovjedačica je Ada Sabová,...   \n",
       "\n",
       "                                              source  \\\n",
       "0  https://www.jutarnji.hr/vijesti/crna-kronika/d...   \n",
       "1  https://www.jutarnji.hr/vijesti/hrvatska/skoro...   \n",
       "2  https://www.jutarnji.hr/vijesti/crna-kronika/p...   \n",
       "3  https://www.jutarnji.hr/kultura/film-i-televiz...   \n",
       "4  https://www.jutarnji.hr/kultura/film-i-televiz...   \n",
       "\n",
       "                       rss_link                crawl_time            text_hash  \n",
       "0  https://www.jutarnji.hr/feed 1970-01-01 01:00:00+01:00  7976827418230298929  \n",
       "1  https://www.jutarnji.hr/feed 1970-01-01 01:00:00+01:00 -5270743424471640395  \n",
       "2  https://www.jutarnji.hr/feed 1970-01-01 01:00:00+01:00  2677794021642792919  \n",
       "3  https://www.jutarnji.hr/feed 1970-01-01 01:00:00+01:00 -9055739113533422097  \n",
       "4  https://www.jutarnji.hr/feed 1970-01-01 01:00:00+01:00 -7937970816981550458  "
      ]
     },
     "execution_count": 2,
     "metadata": {},
     "output_type": "execute_result"
    }
   ],
   "source": [
    "df = pd.read_json(\"22_webcrawl.json\", orient=\"records\")\n",
    "df.head()"
   ]
  },
  {
   "cell_type": "code",
   "execution_count": 3,
   "metadata": {},
   "outputs": [],
   "source": [
    "import json\n",
    "with open(\"22_webcrawl.json\", \"r\") as f:\n",
    "    data = json.load(f)"
   ]
  },
  {
   "cell_type": "code",
   "execution_count": 4,
   "metadata": {},
   "outputs": [
    {
     "data": {
      "text/plain": [
       "count                         40432\n",
       "unique                         4537\n",
       "top       1970-01-01 01:00:00+01:00\n",
       "freq                          25956\n",
       "first     1970-01-01 01:00:00+01:00\n",
       "last      2022-02-01 08:46:23+01:00\n",
       "Name: crawl_time, dtype: object"
      ]
     },
     "execution_count": 4,
     "metadata": {},
     "output_type": "execute_result"
    }
   ],
   "source": [
    "df.crawl_time.describe()"
   ]
  },
  {
   "cell_type": "code",
   "execution_count": 5,
   "metadata": {},
   "outputs": [
    {
     "data": {
      "text/plain": [
       "{'sr': 17966, 'hr': 13955, 'bs': 7210, 'me': 1301}"
      ]
     },
     "execution_count": 5,
     "metadata": {},
     "output_type": "execute_result"
    }
   ],
   "source": [
    "dict(df.language.value_counts())"
   ]
  },
  {
   "cell_type": "code",
   "execution_count": 6,
   "metadata": {},
   "outputs": [
    {
     "data": {
      "image/png": "[encoded data removed]",
      "text/plain": [
       "<Figure size 432x288 with 1 Axes>"
      ]
     },
     "metadata": {
      "needs_background": "light"
     },
     "output_type": "display_data"
    }
   ],
   "source": [
    "df.language.value_counts().plot(kind=\"bar\")\n",
    "plt.gca().tick_params(axis=\"x\", rotation=0)\n"
   ]
  },
  {
   "cell_type": "code",
   "execution_count": 7,
   "metadata": {},
   "outputs": [
    {
     "data": {
      "text/html": [
       "<div>\n",
       "<style scoped>\n",
       "    .dataframe tbody tr th:only-of-type {\n",
       "        vertical-align: middle;\n",
       "    }\n",
       "\n",
       "    .dataframe tbody tr th {\n",
       "        vertical-align: top;\n",
       "    }\n",
       "\n",
       "    .dataframe thead th {\n",
       "        text-align: right;\n",
       "    }\n",
       "</style>\n",
       "<table border=\"1\" class=\"dataframe\">\n",
       "  <thead>\n",
       "    <tr style=\"text-align: right;\">\n",
       "      <th></th>\n",
       "      <th>language</th>\n",
       "      <th>text</th>\n",
       "      <th>source</th>\n",
       "      <th>rss_link</th>\n",
       "      <th>crawl_time</th>\n",
       "      <th>text_hash</th>\n",
       "    </tr>\n",
       "  </thead>\n",
       "  <tbody>\n",
       "    <tr>\n",
       "      <th>40422</th>\n",
       "      <td>me</td>\n",
       "      <td>Kako se javnim funkcionerima ne bi izricale no...</td>\n",
       "      <td>https://www.vijesti.me/vijesti/drustvo/588032/...</td>\n",
       "      <td>https://www.vijesti.me/rss</td>\n",
       "      <td>2022-02-01 08:46:19+01:00</td>\n",
       "      <td>-8016753198414981138</td>\n",
       "    </tr>\n",
       "    <tr>\n",
       "      <th>40423</th>\n",
       "      <td>me</td>\n",
       "      <td>Skupštinski Odbor za međunarodne odnose i isel...</td>\n",
       "      <td>https://www.vijesti.me/vijesti/politika/588031...</td>\n",
       "      <td>https://www.vijesti.me/rss</td>\n",
       "      <td>2022-02-01 08:46:19+01:00</td>\n",
       "      <td>1412844960174699713</td>\n",
       "    </tr>\n",
       "    <tr>\n",
       "      <th>40424</th>\n",
       "      <td>me</td>\n",
       "      <td>Iako je davno rečeno da je Nebojša Medeni najp...</td>\n",
       "      <td>https://www.vijesti.me/kolumne/587955/laureati...</td>\n",
       "      <td>https://www.vijesti.me/rss</td>\n",
       "      <td>2022-02-01 08:46:19+01:00</td>\n",
       "      <td>2283940147259064738</td>\n",
       "    </tr>\n",
       "    <tr>\n",
       "      <th>40425</th>\n",
       "      <td>me</td>\n",
       "      <td>Iako se nekada nadala da će postati kuvarica, ...</td>\n",
       "      <td>https://www.vijesti.me/bbc/588030/belgija-nadr...</td>\n",
       "      <td>https://www.vijesti.me/rss</td>\n",
       "      <td>2022-02-01 08:46:20+01:00</td>\n",
       "      <td>7582564277191243044</td>\n",
       "    </tr>\n",
       "    <tr>\n",
       "      <th>40426</th>\n",
       "      <td>me</td>\n",
       "      <td>Šestoro najistaknutijih građana Sejšela, među ...</td>\n",
       "      <td>https://www.vijesti.me/bbc/588029/korupcija-na...</td>\n",
       "      <td>https://www.vijesti.me/rss</td>\n",
       "      <td>2022-02-01 08:46:20+01:00</td>\n",
       "      <td>-7204568106484330692</td>\n",
       "    </tr>\n",
       "    <tr>\n",
       "      <th>40427</th>\n",
       "      <td>me</td>\n",
       "      <td>Tri člana Vladinog Savjeta za borbu protiv kor...</td>\n",
       "      <td>https://www.vijesti.me/vijesti/drustvo/588028/...</td>\n",
       "      <td>https://www.vijesti.me/rss</td>\n",
       "      <td>2022-02-01 08:46:20+01:00</td>\n",
       "      <td>-1794079791972504590</td>\n",
       "    </tr>\n",
       "    <tr>\n",
       "      <th>40428</th>\n",
       "      <td>me</td>\n",
       "      <td>Planovi za izgradnju najvećeg aerodroma u Alba...</td>\n",
       "      <td>https://www.vijesti.me/svijet/balkan/588018/ak...</td>\n",
       "      <td>https://www.vijesti.me/rss</td>\n",
       "      <td>2022-02-01 08:46:20+01:00</td>\n",
       "      <td>7992643415665155841</td>\n",
       "    </tr>\n",
       "    <tr>\n",
       "      <th>40429</th>\n",
       "      <td>me</td>\n",
       "      <td>Portugalski birači juče su oprezno pozdravili ...</td>\n",
       "      <td>https://www.vijesti.me/svijet/evropa/588015/po...</td>\n",
       "      <td>https://www.vijesti.me/rss</td>\n",
       "      <td>2022-02-01 08:46:20+01:00</td>\n",
       "      <td>-7551828116794931194</td>\n",
       "    </tr>\n",
       "    <tr>\n",
       "      <th>40430</th>\n",
       "      <td>me</td>\n",
       "      <td>Ukrajinski predsjednik Volodimir Zelenski tren...</td>\n",
       "      <td>https://www.vijesti.me/svijet/globus/588013/ki...</td>\n",
       "      <td>https://www.vijesti.me/rss</td>\n",
       "      <td>2022-02-01 08:46:20+01:00</td>\n",
       "      <td>-7194423458527044920</td>\n",
       "    </tr>\n",
       "    <tr>\n",
       "      <th>40431</th>\n",
       "      <td>me</td>\n",
       "      <td>Član Atletskog kluba Mornar Ognjen Vojvodić pr...</td>\n",
       "      <td>http://barinfo.me/baraninognjen-vojvodic-posta...</td>\n",
       "      <td>http://barinfo.me/feed/</td>\n",
       "      <td>2022-02-01 08:46:23+01:00</td>\n",
       "      <td>665196389782572631</td>\n",
       "    </tr>\n",
       "  </tbody>\n",
       "</table>\n",
       "</div>"
      ],
      "text/plain": [
       "      language                                               text  \\\n",
       "40422       me  Kako se javnim funkcionerima ne bi izricale no...   \n",
       "40423       me  Skupštinski Odbor za međunarodne odnose i isel...   \n",
       "40424       me  Iako je davno rečeno da je Nebojša Medeni najp...   \n",
       "40425       me  Iako se nekada nadala da će postati kuvarica, ...   \n",
       "40426       me  Šestoro najistaknutijih građana Sejšela, među ...   \n",
       "40427       me  Tri člana Vladinog Savjeta za borbu protiv kor...   \n",
       "40428       me  Planovi za izgradnju najvećeg aerodroma u Alba...   \n",
       "40429       me  Portugalski birači juče su oprezno pozdravili ...   \n",
       "40430       me  Ukrajinski predsjednik Volodimir Zelenski tren...   \n",
       "40431       me  Član Atletskog kluba Mornar Ognjen Vojvodić pr...   \n",
       "\n",
       "                                                  source  \\\n",
       "40422  https://www.vijesti.me/vijesti/drustvo/588032/...   \n",
       "40423  https://www.vijesti.me/vijesti/politika/588031...   \n",
       "40424  https://www.vijesti.me/kolumne/587955/laureati...   \n",
       "40425  https://www.vijesti.me/bbc/588030/belgija-nadr...   \n",
       "40426  https://www.vijesti.me/bbc/588029/korupcija-na...   \n",
       "40427  https://www.vijesti.me/vijesti/drustvo/588028/...   \n",
       "40428  https://www.vijesti.me/svijet/balkan/588018/ak...   \n",
       "40429  https://www.vijesti.me/svijet/evropa/588015/po...   \n",
       "40430  https://www.vijesti.me/svijet/globus/588013/ki...   \n",
       "40431  http://barinfo.me/baraninognjen-vojvodic-posta...   \n",
       "\n",
       "                         rss_link                crawl_time  \\\n",
       "40422  https://www.vijesti.me/rss 2022-02-01 08:46:19+01:00   \n",
       "40423  https://www.vijesti.me/rss 2022-02-01 08:46:19+01:00   \n",
       "40424  https://www.vijesti.me/rss 2022-02-01 08:46:19+01:00   \n",
       "40425  https://www.vijesti.me/rss 2022-02-01 08:46:20+01:00   \n",
       "40426  https://www.vijesti.me/rss 2022-02-01 08:46:20+01:00   \n",
       "40427  https://www.vijesti.me/rss 2022-02-01 08:46:20+01:00   \n",
       "40428  https://www.vijesti.me/rss 2022-02-01 08:46:20+01:00   \n",
       "40429  https://www.vijesti.me/rss 2022-02-01 08:46:20+01:00   \n",
       "40430  https://www.vijesti.me/rss 2022-02-01 08:46:20+01:00   \n",
       "40431     http://barinfo.me/feed/ 2022-02-01 08:46:23+01:00   \n",
       "\n",
       "                 text_hash  \n",
       "40422 -8016753198414981138  \n",
       "40423  1412844960174699713  \n",
       "40424  2283940147259064738  \n",
       "40425  7582564277191243044  \n",
       "40426 -7204568106484330692  \n",
       "40427 -1794079791972504590  \n",
       "40428  7992643415665155841  \n",
       "40429 -7551828116794931194  \n",
       "40430 -7194423458527044920  \n",
       "40431   665196389782572631  "
      ]
     },
     "execution_count": 7,
     "metadata": {},
     "output_type": "execute_result"
    }
   ],
   "source": [
    "df.tail(10)"
   ]
  },
  {
   "cell_type": "code",
   "execution_count": null,
   "metadata": {},
   "outputs": [],
   "source": []
  }
 ],
 "metadata": {
  "interpreter": {
   "hash": "7f6f5766036ee03d059e365a942add07f79c17033585e9357ee8157d52fe6bb9"
  },
  "kernelspec": {
   "display_name": "Python 3.8.3 64-bit ('base': conda)",
   "language": "python",
   "name": "python3"
  },
  "language_info": {
   "codemirror_mode": {
    "name": "ipython",
    "version": 3
   },
   "file_extension": ".py",
   "mimetype": "text/x-python",
   "name": "python",
   "nbconvert_exporter": "python",
   "pygments_lexer": "ipython3",
   "version": "3.8.3"
  },
  "orig_nbformat": 4
 },
 "nbformat": 4,
 "nbformat_minor": 2
}
