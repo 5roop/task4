{
 "cells": [
  {
   "cell_type": "code",
   "execution_count": 4,
   "metadata": {},
   "outputs": [],
   "source": [
    "def get_N_tokens(N=5000, path=\"/home/peterr/macocu/taskB/task4/toy_tokens.csv\") -> dict:\n",
    "    \"\"\"Loads tokens from CSV and returns as set of N most important for every language.\n",
    "\n",
    "    Args:\n",
    "        N (int, optional): Number of token per language to include. Defaults to 5000.\n",
    "        path (str, optional): CSV file with token numbers per language. \n",
    "            Has columns (token,bswac_head_pp,cnrwac_head_pp,hrwac_head_pp,srwac_head_pp).\n",
    "            Defaults to \"/home/peterr/macocu/taskB/task4/toy_tokens.csv\".\n",
    "\n",
    "    Returns:\n",
    "        dict: dictionary of most important N tokens for every language combination.\n",
    "    \"\"\"\n",
    "    import pandas as pd\n",
    "    import numpy as np\n",
    "    df = pd.read_csv(path, index_col=0)\n",
    "    NUM_FEATS = N\n",
    "\n",
    "    for column in df.columns:\n",
    "        new_column_name = column + \"_f\"\n",
    "        corpus_size = df[column].sum()\n",
    "        df[new_column_name] = df[column] * 1e6 / corpus_size\n",
    "\n",
    "    N = 1\n",
    "\n",
    "    df[\"HR_SR\"] = (df[\"hrwac_head_pp_f\"] + N) / (df[\"srwac_head_pp_f\"] + N)\n",
    "    df[\"SR_HR\"] = (df[\"srwac_head_pp_f\"] + N) / (df[\"hrwac_head_pp_f\"] + N)\n",
    "\n",
    "    df[\"HR_CNR\"] = (df[\"hrwac_head_pp_f\"] + N) / (df[\"cnrwac_head_pp_f\"] + N)\n",
    "    df[\"CNR_HR\"] = (df[\"cnrwac_head_pp_f\"] + N) / (df[\"hrwac_head_pp_f\"] + N)\n",
    "\n",
    "    df[\"HR_BS\"] = (df[\"hrwac_head_pp_f\"] + N) / (df[\"bswac_head_pp_f\"] + N)\n",
    "    df[\"BS_HR\"] = (df[\"bswac_head_pp_f\"] + N) / (df[\"hrwac_head_pp_f\"] + N)\n",
    "\n",
    "    df[\"BS_SR\"] = (df[\"bswac_head_pp_f\"] + N) / (df[\"srwac_head_pp_f\"] + N)\n",
    "    df[\"SR_BS\"] = (df[\"srwac_head_pp_f\"] + N) / (df[\"bswac_head_pp_f\"] + N)\n",
    "\n",
    "    df[\"BS_CNR\"] = (df[\"bswac_head_pp_f\"] + N) / (df[\"cnrwac_head_pp_f\"] + N)\n",
    "    df[\"CNR_BS\"] = (df[\"cnrwac_head_pp_f\"] + N) / (df[\"bswac_head_pp_f\"] + N)\n",
    "\n",
    "    df[\"CNR_SR\"] = (df[\"cnrwac_head_pp_f\"] + N) / (df[\"srwac_head_pp_f\"] + N)\n",
    "    df[\"SR_CNR\"] = (df[\"srwac_head_pp_f\"] + N) / (df[\"cnrwac_head_pp_f\"] + N)\n",
    "\n",
    "    combos = ['HR_SR', 'SR_HR', 'HR_CNR', 'CNR_HR', 'HR_BS', 'BS_HR',\n",
    "              'BS_SR', 'SR_BS', 'BS_CNR', 'CNR_BS', 'CNR_SR', 'SR_CNR']\n",
    "\n",
    "    important_features_per_language = dict()\n",
    "\n",
    "    for lang_comb in combos:\n",
    "        s = df[lang_comb].sort_values(ascending=False)\n",
    "        current_features = s.index[:NUM_FEATS].values\n",
    "        important_features_per_language[lang_comb] = current_features.tolist()\n",
    "    return important_features_per_language\n",
    "d = get_N_tokens()"
   ]
  },
  {
   "cell_type": "code",
   "execution_count": 6,
   "metadata": {},
   "outputs": [],
   "source": [
    "import json\n",
    "with open(\"18_top_tokens.json\", \"w\") as f:\n",
    "    json.dump(d, f)"
   ]
  },
  {
   "cell_type": "code",
   "execution_count": null,
   "metadata": {},
   "outputs": [],
   "source": []
  }
 ],
 "metadata": {
  "interpreter": {
   "hash": "7f6f5766036ee03d059e365a942add07f79c17033585e9357ee8157d52fe6bb9"
  },
  "kernelspec": {
   "display_name": "Python 3.8.3 64-bit ('base': conda)",
   "language": "python",
   "name": "python3"
  },
  "language_info": {
   "codemirror_mode": {
    "name": "ipython",
    "version": 3
   },
   "file_extension": ".py",
   "mimetype": "text/x-python",
   "name": "python",
   "nbconvert_exporter": "python",
   "pygments_lexer": "ipython3",
   "version": "3.8.3"
  },
  "orig_nbformat": 4
 },
 "nbformat": 4,
 "nbformat_minor": 2
}
