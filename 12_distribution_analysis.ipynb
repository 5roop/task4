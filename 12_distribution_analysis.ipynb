{
 "cells": [
  {
   "cell_type": "code",
   "execution_count": 15,
   "metadata": {},
   "outputs": [
    {
     "data": {
      "text/html": [
       "<div>\n",
       "<style scoped>\n",
       "    .dataframe tbody tr th:only-of-type {\n",
       "        vertical-align: middle;\n",
       "    }\n",
       "\n",
       "    .dataframe tbody tr th {\n",
       "        vertical-align: top;\n",
       "    }\n",
       "\n",
       "    .dataframe thead th {\n",
       "        text-align: right;\n",
       "    }\n",
       "</style>\n",
       "<table border=\"1\" class=\"dataframe\">\n",
       "  <thead>\n",
       "    <tr style=\"text-align: right;\">\n",
       "      <th></th>\n",
       "      <th>bswac_head_pp</th>\n",
       "      <th>cnrwac_head_pp</th>\n",
       "      <th>hrwac_head_pp</th>\n",
       "      <th>srwac_head_pp</th>\n",
       "    </tr>\n",
       "  </thead>\n",
       "  <tbody>\n",
       "    <tr>\n",
       "      <th>kuća</th>\n",
       "      <td>2116.0</td>\n",
       "      <td>2832.0</td>\n",
       "      <td>1805.0</td>\n",
       "      <td>1815.0</td>\n",
       "    </tr>\n",
       "    <tr>\n",
       "      <th>invest</th>\n",
       "      <td>17.0</td>\n",
       "      <td>132.0</td>\n",
       "      <td>3.0</td>\n",
       "      <td>17.0</td>\n",
       "    </tr>\n",
       "    <tr>\n",
       "      <th>član</th>\n",
       "      <td>2696.0</td>\n",
       "      <td>6963.0</td>\n",
       "      <td>2270.0</td>\n",
       "      <td>3375.0</td>\n",
       "    </tr>\n",
       "    <tr>\n",
       "      <th>i</th>\n",
       "      <td>703047.0</td>\n",
       "      <td>1430168.0</td>\n",
       "      <td>691190.0</td>\n",
       "      <td>719532.0</td>\n",
       "    </tr>\n",
       "    <tr>\n",
       "      <th>osnivač</th>\n",
       "      <td>332.0</td>\n",
       "      <td>1180.0</td>\n",
       "      <td>234.0</td>\n",
       "      <td>476.0</td>\n",
       "    </tr>\n",
       "  </tbody>\n",
       "</table>\n",
       "</div>"
      ],
      "text/plain": [
       "         bswac_head_pp  cnrwac_head_pp  hrwac_head_pp  srwac_head_pp\n",
       "kuća            2116.0          2832.0         1805.0         1815.0\n",
       "invest            17.0           132.0            3.0           17.0\n",
       "član            2696.0          6963.0         2270.0         3375.0\n",
       "i             703047.0       1430168.0       691190.0       719532.0\n",
       "osnivač          332.0          1180.0          234.0          476.0"
      ]
     },
     "execution_count": 15,
     "metadata": {},
     "output_type": "execute_result"
    }
   ],
   "source": [
    "import pandas as pd\n",
    "df = pd.read_csv(\"toy_tokens.csv\", index_col=0)\n",
    "df.head()"
   ]
  },
  {
   "cell_type": "markdown",
   "metadata": {},
   "source": [
    "Let's calculate the normalized frequencies in the corpus as per the formula [here](https://www.sketchengine.eu/documentation/simple-maths/)"
   ]
  },
  {
   "cell_type": "code",
   "execution_count": 16,
   "metadata": {},
   "outputs": [],
   "source": [
    "for column in df.columns:\n",
    "    new_column_name = column + \"_f\"\n",
    "    corpus_size = df[column].sum()\n",
    "    df[new_column_name] = df[column] * 1e6 / corpus_size"
   ]
  },
  {
   "cell_type": "markdown",
   "metadata": {},
   "source": [
    "Let's start with CR-SR combination"
   ]
  },
  {
   "cell_type": "code",
   "execution_count": 17,
   "metadata": {},
   "outputs": [],
   "source": [
    "N = 1\n",
    "\n",
    "df[\"HR_SR\"] = (df[\"hrwac_head_pp_f\"] + N ) / (df[\"srwac_head_pp_f\"] + N)\n",
    "df[\"SR_HR\"] = (df[\"srwac_head_pp_f\"] + N ) / (df[\"hrwac_head_pp_f\"] + N)"
   ]
  },
  {
   "cell_type": "code",
   "execution_count": 20,
   "metadata": {},
   "outputs": [
    {
     "name": "stdout",
     "output_type": "stream",
     "text": [
      "|              |    HR_SR |      SR_HR |\n",
      "|:-------------|---------:|-----------:|\n",
      "| kn           | 179.556  | 0.0055693  |\n",
      "| sustav       | 150.153  | 0.00665988 |\n",
      "| sustava      | 149.265  | 0.00669948 |\n",
      "| suradnji     | 125.406  | 0.00797411 |\n",
      "| natjecanja   | 115.761  | 0.0086385  |\n",
      "| lipnja       | 110.973  | 0.00901122 |\n",
      "| rujna        | 110.86   | 0.00902038 |\n",
      "| okoliša      | 110.521  | 0.00904808 |\n",
      "| tvrtke       | 109.443  | 0.00913722 |\n",
      "| svibnja      | 109.307  | 0.00914858 |\n",
      "| ožujka       | 109.117  | 0.00916446 |\n",
      "| travnja      | 107.848  | 0.00927227 |\n",
      "| udruge       | 105.651  | 0.00946512 |\n",
      "| listopada    | 103.449  | 0.0096666  |\n",
      "| uvjetima     |  84.6988 | 0.0118065  |\n",
      "| veljače      |  84.0536 | 0.0118972  |\n",
      "| gospodarstva |  82.3719 | 0.0121401  |\n",
      "| sudionika    |  81.2523 | 0.0123073  |\n",
      "| primjerice   |  80.2788 | 0.0124566  |\n",
      "| udruga       |  80.1087 | 0.012483   |\n",
      "| tjedna       |  78.8446 | 0.0126832  |\n",
      "| kuna         |  78.6973 | 0.0127069  |\n",
      "| županije     |  78.1412 | 0.0127974  |\n",
      "| sudjelovanje |  77.9331 | 0.0128315  |\n",
      "| milijuna     |  77.1661 | 0.0129591  |\n",
      "| tijekom      |  76.9481 | 0.0129958  |\n",
      "| siječnja     |  76.888  | 0.0130059  |\n",
      "| natjecanje   |  76.3397 | 0.0130993  |\n",
      "| glazbe       |  75.3042 | 0.0132795  |\n",
      "| tvrtki       |  75.1313 | 0.01331    |\n"
     ]
    }
   ],
   "source": [
    "print(df.loc[:, [ \"HR_SR\", \"SR_HR\",]].sort_values(by=\"HR_SR\", ascending=False).head(30).to_markdown())"
   ]
  },
  {
   "cell_type": "code",
   "execution_count": 18,
   "metadata": {},
   "outputs": [
    {
     "name": "stdout",
     "output_type": "stream",
     "text": [
      "|             |   SR_HR |      HR_SR |\n",
      "|:------------|--------:|-----------:|\n",
      "| rešenja     | 203.882 | 0.0049048  |\n",
      "| odsto       | 195.017 | 0.00512775 |\n",
      "| opštine     | 193.647 | 0.00516403 |\n",
      "| preduzeća   | 186.179 | 0.00537119 |\n",
      "| gde         | 167.978 | 0.00595317 |\n",
      "| deo         | 164.964 | 0.00606195 |\n",
      "| cena        | 164.217 | 0.00608949 |\n",
      "| mesta       | 163.866 | 0.00610255 |\n",
      "| cene        | 163.412 | 0.00611949 |\n",
      "| evra        | 157.018 | 0.00636869 |\n",
      "| časova      | 155.753 | 0.00642043 |\n",
      "| predsednika | 154.401 | 0.00647663 |\n",
      "| saradnji    | 152.997 | 0.00653608 |\n",
      "| vreme       | 139.484 | 0.00716929 |\n",
      "| meseca      | 138.417 | 0.00722453 |\n",
      "| predsednik  | 134.998 | 0.00740753 |\n",
      "| dece        | 132.495 | 0.00754746 |\n",
      "| meseci      | 125.721 | 0.00795413 |\n",
      "| uslovima    | 124.393 | 0.00803905 |\n",
      "| uvek        | 122.46  | 0.00816596 |\n",
      "| delu        | 121.249 | 0.00824752 |\n",
      "| posle       | 119.203 | 0.00838903 |\n",
      "| dve         | 117.117 | 0.00853847 |\n",
      "| korišćenje  | 114.489 | 0.00873448 |\n",
      "| delatnosti  | 114.376 | 0.00874309 |\n",
      "| decu        | 112.382 | 0.0088982  |\n",
      "| mesto       | 111.11  | 0.00900005 |\n",
      "| čoveka      | 110.924 | 0.00901519 |\n",
      "| zahteva     | 109.001 | 0.00917422 |\n",
      "| dela        | 108.295 | 0.00923403 |\n"
     ]
    }
   ],
   "source": [
    "print(df.loc[:, [ \"SR_HR\", \"HR_SR\",]].sort_values(by=\"SR_HR\", ascending=False).head(30).to_markdown())"
   ]
  },
  {
   "cell_type": "code",
   "execution_count": null,
   "metadata": {},
   "outputs": [],
   "source": []
  }
 ],
 "metadata": {
  "interpreter": {
   "hash": "7f6f5766036ee03d059e365a942add07f79c17033585e9357ee8157d52fe6bb9"
  },
  "kernelspec": {
   "display_name": "Python 3.8.3 64-bit ('base': conda)",
   "language": "python",
   "name": "python3"
  },
  "language_info": {
   "codemirror_mode": {
    "name": "ipython",
    "version": 3
   },
   "file_extension": ".py",
   "mimetype": "text/x-python",
   "name": "python",
   "nbconvert_exporter": "python",
   "pygments_lexer": "ipython3",
   "version": "3.8.3"
  },
  "orig_nbformat": 4
 },
 "nbformat": 4,
 "nbformat_minor": 2
}
