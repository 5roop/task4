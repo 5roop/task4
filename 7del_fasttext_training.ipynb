{
 "cells": [
  {
   "cell_type": "code",
   "execution_count": 1,
   "metadata": {},
   "outputs": [
    {
     "name": "stdout",
     "output_type": "stream",
     "text": [
      "Accuracy: 0.991\n",
      "F1 score: 0.991\n"
     ]
    }
   ],
   "source": [
    "import os\n",
    "import parse\n",
    "import fasttext\n",
    "import pandas as pd\n",
    "import matplotlib.pyplot as plt\n",
    "from sklearn.metrics import accuracy_score, f1_score\n",
    "\n",
    "def get_setimes_labels_text(path):\n",
    "    labels, texts = list(), list()\n",
    "    with open(path,\"r\") as f:\n",
    "        pattern = \"__label__{language} {text}\"\n",
    "        p = parse.compile(pattern)\n",
    "        for line in f.readlines():\n",
    "            rez = p.parse(line)\n",
    "            labels.append(rez[\"language\"])\n",
    "            texts.append(rez[\"text\"].replace(\"\\n\", \" \"))\n",
    "    return labels, texts\n",
    "\n",
    "final_data_dir = \"/home/peterr/macocu/taskB/data/final\"\n",
    "train = os.path.join(final_data_dir, \"train.fasttxt\")\n",
    "dev = os.path.join(final_data_dir, \"dev.fasttxt\")\n",
    "test = os.path.join(final_data_dir, \"test.fasttxt\")\n",
    "\n",
    "model = fasttext.train_supervised(input=train, autotuneValidationFile=dev, autotuneDuration=600,\n",
    "                                    maxn=10\n",
    "                                    )\n",
    "y_true, texts = get_setimes_labels_text(test)\n",
    "y_pred =  [i[0].replace(\"__label__\", \"\") for i in model.predict(texts)[0]]\n",
    "\n",
    "\n",
    "accuracy = accuracy_score(y_true, y_pred)\n",
    "print(f\"Accuracy: {accuracy:0.3}\")\n",
    "f1 = f1_score(y_true, y_pred, labels=list(set(y_true)), average=\"macro\")\n",
    "print(f\"F1 score: {f1:0.3}\")\n"
   ]
  },
  {
   "cell_type": "code",
   "execution_count": 2,
   "metadata": {},
   "outputs": [
    {
     "data": {
      "text/plain": [
       "(('__label__hr', '__label__bs', '__label__sr'),\n",
       " array([9.99673963e-01, 3.46116809e-04, 1.00000034e-05]))"
      ]
     },
     "execution_count": 2,
     "metadata": {},
     "output_type": "execute_result"
    }
   ],
   "source": [
    "model.predict(\"Lijepa naša\", k=3)"
   ]
  },
  {
   "cell_type": "code",
   "execution_count": 3,
   "metadata": {},
   "outputs": [
    {
     "data": {
      "text/plain": [
       "([['__label__sr'], ['__label__hr'], ['__label__hr']],\n",
       " [array([0.9990013], dtype=float32),\n",
       "  array([1.00001], dtype=float32),\n",
       "  array([1.00001], dtype=float32)])"
      ]
     },
     "execution_count": 3,
     "metadata": {},
     "output_type": "execute_result"
    }
   ],
   "source": [
    "model.predict([\"Čovek\", \"Čovjek\", \"Čovijek\"])"
   ]
  },
  {
   "cell_type": "code",
   "execution_count": 4,
   "metadata": {},
   "outputs": [
    {
     "data": {
      "text/plain": [
       "([['__label__sr'], ['__label__hr'], ['__label__hr']],\n",
       " [array([1.00001], dtype=float32),\n",
       "  array([1.00001], dtype=float32),\n",
       "  array([0.65507275], dtype=float32)])"
      ]
     },
     "execution_count": 4,
     "metadata": {},
     "output_type": "execute_result"
    }
   ],
   "source": [
    "model.predict(\"predsednik,predsjednik,predsijednik\".split(\",\"))"
   ]
  },
  {
   "cell_type": "code",
   "execution_count": 5,
   "metadata": {},
   "outputs": [],
   "source": [
    "model.save_model(\"/home/peterr/macocu/taskB/data/models/fasttext_4.bin\")"
   ]
  },
  {
   "cell_type": "code",
   "execution_count": 1,
   "metadata": {},
   "outputs": [
    {
     "name": "stdout",
     "output_type": "stream",
     "text": [
      "Accuracy: 0.475\n",
      "F1 score: 0.382\n"
     ]
    }
   ],
   "source": [
    "import os\n",
    "import parse\n",
    "import fasttext\n",
    "import pandas as pd\n",
    "import matplotlib.pyplot as plt\n",
    "from sklearn.metrics import accuracy_score, f1_score\n",
    "\n",
    "def get_setimes_labels_text(path):\n",
    "    labels, texts = list(), list()\n",
    "    with open(path,\"r\") as f:\n",
    "        pattern = \"__label__{language} {text}\"\n",
    "        p = parse.compile(pattern)\n",
    "        for line in f.readlines():\n",
    "            rez = p.parse(line)\n",
    "            labels.append(rez[\"language\"])\n",
    "            texts.append(rez[\"text\"].replace(\"\\n\", \" \"))\n",
    "    return labels, texts\n",
    "\n",
    "final_data_dir = \"/home/peterr/macocu/taskB/data/final\"\n",
    "train = os.path.join(final_data_dir, \"train.fasttxt\")\n",
    "dev = os.path.join(final_data_dir, \"dev.fasttxt\")\n",
    "test = os.path.join(final_data_dir, \"test.fasttxt\")\n",
    "\n",
    "model = fasttext.train_supervised(input=train, autotuneValidationFile=dev, autotuneDuration=600,\n",
    "                                    maxn=10,\n",
    "                                    wordNgrams=4\n",
    "                                    )\n",
    "y_true, texts = get_setimes_labels_text(test)\n",
    "y_pred =  [i[0].replace(\"__label__\", \"\") for i in model.predict(texts)[0]]\n",
    "\n",
    "\n",
    "accuracy = accuracy_score(y_true, y_pred)\n",
    "print(f\"Accuracy: {accuracy:0.3}\")\n",
    "f1 = f1_score(y_true, y_pred, labels=list(set(y_true)), average=\"macro\")\n",
    "print(f\"F1 score: {f1:0.3}\")\n"
   ]
  }
 ],
 "metadata": {
  "interpreter": {
   "hash": "7f6f5766036ee03d059e365a942add07f79c17033585e9357ee8157d52fe6bb9"
  },
  "kernelspec": {
   "display_name": "Python 3.8.3 64-bit ('base': conda)",
   "name": "python3"
  },
  "language_info": {
   "codemirror_mode": {
    "name": "ipython",
    "version": 3
   },
   "file_extension": ".py",
   "mimetype": "text/x-python",
   "name": "python",
   "nbconvert_exporter": "python",
   "pygments_lexer": "ipython3",
   "version": "3.8.3"
  },
  "orig_nbformat": 4
 },
 "nbformat": 4,
 "nbformat_minor": 2
}
