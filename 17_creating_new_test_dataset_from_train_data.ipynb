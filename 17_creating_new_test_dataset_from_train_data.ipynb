{
 "cells": [
  {
   "cell_type": "code",
   "execution_count": 2,
   "metadata": {},
   "outputs": [],
   "source": [
    "import os\n",
    "import gc\n",
    "import parse\n",
    "import logging\n",
    "import numpy as np\n",
    "import pandas as pd\n",
    "from typing import List\n",
    "\n",
    "from utils import get_N_tokens, read_and_split_file, raw_dir, interim_dir, final_dir, load_SET_dataset\n",
    "\n",
    "logging.basicConfig(format=\"%(asctime)s - %(message)s\", level=logging.INFO)"
   ]
  },
  {
   "cell_type": "markdown",
   "metadata": {},
   "source": [
    "# Generating train dataset and splitting it in train and test"
   ]
  },
  {
   "cell_type": "code",
   "execution_count": 12,
   "metadata": {},
   "outputs": [],
   "source": [
    "texts, labels = list(), list()\n",
    "\n",
    "files = [\"bswac_tail_pp\", \"cnrwac_tail_pp\", \"hrwac_tail_pp\", \"srwac_tail_pp\"]\n",
    "\n",
    "langs = [\"bs\", \"me\", \"hr\", \"sr\"]\n",
    "\n",
    "for file, lang in zip(files, langs):\n",
    "    full_path = os.path.join(interim_dir, file)\n",
    "    current_texts = read_and_split_file(full_path)\n",
    "    len_cur_texts = len(current_texts)\n",
    "    texts.extend(current_texts)\n",
    "    labels.extend([lang] * len_cur_texts)\n",
    "\n",
    "train = pd.DataFrame(data={\"text\": texts, \"labels\": labels})\n",
    "\n",
    "\n",
    "from sklearn.model_selection import train_test_split\n",
    "\n",
    "train, eval_df = train_test_split(train, test_size=0.1, stratify=train.labels)\n"
   ]
  },
  {
   "cell_type": "code",
   "execution_count": 5,
   "metadata": {},
   "outputs": [
    {
     "data": {
      "text/plain": [
       "{'c'}"
      ]
     },
     "execution_count": 5,
     "metadata": {},
     "output_type": "execute_result"
    }
   ],
   "source": [
    "from sklearn.naive_bayes import GaussianNB\n",
    "clf = GaussianNB()\n",
    "\n",
    "\n",
    "def get_stats(N: int, train=train, eval_df=eval_df, clf=clf):\n",
    "    import gc\n",
    "    from sklearn.feature_extraction.text import CountVectorizer\n",
    "    from sklearn.metrics import (\n",
    "        f1_score,\n",
    "        ConfusionMatrixDisplay,\n",
    "        confusion_matrix,\n",
    "        accuracy_score,\n",
    "    )\n",
    "\n",
    "    gc.collect()\n",
    "    vocabulary = get_N_tokens(N)\n",
    "\n",
    "    def get_coverage(s:str) -> int:\n",
    "        \"\"\"Calculates how many vocabulary tokens are in the string.\n",
    "\n",
    "        Args:\n",
    "            s (str): input string\n",
    "\n",
    "        Returns:\n",
    "            int: number of DISTINCT vocabulary tokens in input string.\n",
    "        \"\"\"        \n",
    "        word_set = set(s.split(\" \"))\n",
    "        return len(word_set.intersection(vocabulary))\n",
    "    vectorizer = CountVectorizer(vocabulary=vocabulary, lowercase=True, binary=True)\n",
    "    \n",
    "    eval_df[\"coverage\"] = eval_df.text.apply(get_coverage)\n",
    "    average_coverage = eval_df.coverage.mean()\n",
    "\n",
    "\n",
    "    train_vectors = vectorizer.fit_transform(train.text)\n",
    "    train_labels = train.labels\n",
    "    test_vectors = vectorizer.fit_transform(eval_df.text)\n",
    "    y_true = eval_df.labels\n",
    "\n",
    "\n",
    "    clf.fit(train_vectors.toarray(), train_labels)\n",
    "    y_pred = clf.predict(test_vectors.toarray())\n",
    "\n",
    "    LABELS = [\"hr\", \"bs\", \"sr\", \"me\"]\n",
    "\n",
    "    macro = f1_score(y_true, y_pred, labels=LABELS, average=\"macro\")\n",
    "    micro = f1_score(y_true, y_pred, labels=LABELS, average=\"micro\")\n",
    "    acc = accuracy_score(y_true, y_pred)\n",
    "    cm = confusion_matrix(y_true, y_pred, labels=LABELS)\n",
    "    return {\"N\": N, \"microF1\": micro, \"macroF1\": macro, \"accuracy\": acc, \"cm\": cm,\n",
    "    \"coverage\": average_coverage}\n"
   ]
  },
  {
   "cell_type": "code",
   "execution_count": 17,
   "metadata": {},
   "outputs": [
    {
     "data": {
      "image/png": "[encoded data removed]",
      "text/plain": [
       "<Figure size 504x360 with 1 Axes>"
      ]
     },
     "metadata": {
      "needs_background": "light"
     },
     "output_type": "display_data"
    }
   ],
   "source": [
    "import matplotlib.pyplot as plt\n",
    "plt.style.use(\"science,no-latex\".split(\",\"))\n",
    "plt.figure(figsize=(7,5))\n",
    "plt.hist(train.labels, histtype=\"step\", label=\"Train\")\n",
    "plt.hist(eval_df.labels, histtype=\"step\", label=\"Eval\")\n",
    "plt.legend()\n",
    "plt.title(\"Composition of web crawl dataset\")\n",
    "plt.savefig(\"images/17_composition.png\")\n",
    "plt.show()"
   ]
  },
  {
   "cell_type": "code",
   "execution_count": 13,
   "metadata": {},
   "outputs": [
    {
     "data": {
      "image/png": "[encoded data removed]",
      "text/plain": [
       "<Figure size 432x288 with 1 Axes>"
      ]
     },
     "metadata": {
      "needs_background": "light"
     },
     "output_type": "display_data"
    }
   ],
   "source": [
    "plt.hist(labels)\n",
    "plt.show()"
   ]
  },
  {
   "cell_type": "code",
   "execution_count": null,
   "metadata": {},
   "outputs": [],
   "source": []
  }
 ],
 "metadata": {
  "interpreter": {
   "hash": "7f6f5766036ee03d059e365a942add07f79c17033585e9357ee8157d52fe6bb9"
  },
  "kernelspec": {
   "display_name": "Python 3.8.3 64-bit ('base': conda)",
   "language": "python",
   "name": "python3"
  },
  "language_info": {
   "codemirror_mode": {
    "name": "ipython",
    "version": 3
   },
   "file_extension": ".py",
   "mimetype": "text/x-python",
   "name": "python",
   "nbconvert_exporter": "python",
   "pygments_lexer": "ipython3",
   "version": "3.8.3"
  },
  "orig_nbformat": 4
 },
 "nbformat": 4,
 "nbformat_minor": 2
}
