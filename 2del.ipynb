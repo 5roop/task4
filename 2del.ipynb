{
 "cells": [
  {
   "cell_type": "markdown",
   "metadata": {},
   "source": [
    "# Data Preprocessing"
   ]
  },
  {
   "cell_type": "code",
   "execution_count": 46,
   "metadata": {},
   "outputs": [],
   "source": [
    "raw_data_dir = \"/home/peterr/macocu/Varieties/BCMS\"\n",
    "interim_data_dir = \"/home/peterr/macocu/taskB/data/interim\"\n",
    "import os\n",
    "import parse\n",
    "import re\n",
    "from transliterate import translit\n",
    "\n"
   ]
  },
  {
   "cell_type": "code",
   "execution_count": 47,
   "metadata": {},
   "outputs": [
    {
     "data": {
      "text/plain": [
       "['setimes.bs-hr.bs.txt',\n",
       " 'setimes.bs-hr.hr.txt',\n",
       " 'setimes.bs-sr.bs.txt',\n",
       " 'setimes.bs-sr.sr.txt',\n",
       " 'setimes.hr-sr.hr.txt',\n",
       " 'setimes.hr-sr.sr.txt']"
      ]
     },
     "execution_count": 47,
     "metadata": {},
     "output_type": "execute_result"
    }
   ],
   "source": [
    "all_files = os.listdir(raw_data_dir)\n",
    "p = parse.compile(\"setimes.{lang1}-{lang2}.{lang}.txt\")\n",
    "\n",
    "all_relevant_files = sorted([i for i in all_files if p.parse(i) is not None])\n",
    "all_relevant_files"
   ]
  },
  {
   "cell_type": "code",
   "execution_count": 48,
   "metadata": {},
   "outputs": [],
   "source": [
    "def is_delimiter(line:str) -> bool:\n",
    "    searched_string = \"{beginning} Southeast European Times {end}\\n\"\n",
    "    ss = parse.compile(searched_string)\n",
    "\n",
    "    return ss.parse(line) is not None\n",
    "def extract_labels_and_text(filename: str) -> str:\n",
    "    p = parse.compile(\"{path}/setimes.{lang1}-{lang2}.{lang}.txt\")\n",
    "    parse_dict = p.parse(filename)\n",
    "    lang = parse_dict[\"lang\"]\n",
    "    prefix = f\"__label__{lang}\"\n",
    "    content = \"\"\n",
    "\n",
    "    block = \"\"\n",
    "    with open(filename, \"r\") as f:\n",
    "        for line in f.readlines():\n",
    "            if not is_delimiter(line):\n",
    "                line = line.replace(\"\\n\", \" \")\n",
    "                if lang == \"sr\":\n",
    "                    line = translit(line, \"sr\", reversed=True)\n",
    "                block += line\n",
    "            else:\n",
    "                content += f\"{prefix} {block}\\n\"\n",
    "                block = \"\"\n",
    "        if block != \"\":\n",
    "            content += f\"{prefix} {block}\\n\"\n",
    "            block = \"\"\n",
    "    return content\n"
   ]
  },
  {
   "cell_type": "code",
   "execution_count": 60,
   "metadata": {},
   "outputs": [],
   "source": [
    "with open(os.path.join(interim_data_dir, \"all.fasttxt\"), \"w\") as destination:\n",
    "    for file in all_relevant_files:\n",
    "        filename = os.path.join(raw_data_dir, file)\n",
    "        to_write = extract_labels_and_text(filename)\n",
    "        destination.write(to_write)"
   ]
  },
  {
   "cell_type": "code",
   "execution_count": 62,
   "metadata": {},
   "outputs": [],
   "source": [
    "%%bash\n",
    "cd ~/macocu/taskB/data/interim/\n",
    "sort all.fasttxt | uniq | sort -R > all_randomized.fasttxt"
   ]
  },
  {
   "cell_type": "code",
   "execution_count": 64,
   "metadata": {},
   "outputs": [
    {
     "name": "stdout",
     "output_type": "stream",
     "text": [
      "wrote first 16673 lines to train.fasttxt\n",
      "wrote last 1852 lines to test.fasttxt\n"
     ]
    }
   ],
   "source": [
    "%%bash\n",
    "cd ~/macocu/taskB/data/interim\n",
    "len=$(wc -l < all_randomized.fasttxt)\n",
    "tenpercent=$(bc <<< \"0.1*$len/1\")\n",
    "ninetypercent=$(bc <<< \"$len - $tenpercent\")\n",
    "head -n $ninetypercent all_randomized.fasttxt > train.fasttxt\n",
    "echo \"wrote first $ninetypercent lines to train.fasttxt\"\n",
    "tail -n $tenpercent all_randomized.fasttxt > test.fasttxt\n",
    "echo \"wrote last $tenpercent lines to test.fasttxt\""
   ]
  },
  {
   "cell_type": "markdown",
   "metadata": {},
   "source": [
    "# Introducing `fasttext`"
   ]
  },
  {
   "cell_type": "code",
   "execution_count": 65,
   "metadata": {},
   "outputs": [
    {
     "data": {
      "text/plain": [
       "(1852, 0.9973002159827213, 0.9973002159827213)"
      ]
     },
     "execution_count": 65,
     "metadata": {},
     "output_type": "execute_result"
    }
   ],
   "source": [
    "import fasttext\n",
    "train = os.path.join(interim_data_dir, \"train.fasttxt\")\n",
    "test = os.path.join(interim_data_dir, \"test.fasttxt\")\n",
    "\n",
    "model = fasttext.train_supervised(input=train, epoch=25)\n",
    "model.test(test)"
   ]
  },
  {
   "cell_type": "code",
   "execution_count": 66,
   "metadata": {},
   "outputs": [
    {
     "data": {
      "text/plain": [
       "(1852, 0.9967602591792657, 0.9967602591792657)"
      ]
     },
     "execution_count": 66,
     "metadata": {},
     "output_type": "execute_result"
    }
   ],
   "source": [
    "model = fasttext.train_supervised(input=train, epoch=25, lr=0.7)\n",
    "model.test(test)"
   ]
  },
  {
   "cell_type": "code",
   "execution_count": 67,
   "metadata": {},
   "outputs": [
    {
     "data": {
      "text/plain": [
       "(1852, 0.9967602591792657, 0.9967602591792657)"
      ]
     },
     "execution_count": 67,
     "metadata": {},
     "output_type": "execute_result"
    }
   ],
   "source": [
    "model = fasttext.train_supervised(input=train, epoch=50, lr=0.7)\n",
    "model.test(test)"
   ]
  },
  {
   "cell_type": "code",
   "execution_count": 68,
   "metadata": {},
   "outputs": [],
   "source": [
    "model.save_model(os.path.join(\n",
    "    \"/home/peterr/macocu/taskB/data/models\",\n",
    "    \"ftmodel_3.bin\"\n",
    "))"
   ]
  },
  {
   "cell_type": "code",
   "execution_count": 69,
   "metadata": {},
   "outputs": [
    {
     "data": {
      "text/plain": [
       "['__label__hr', '__label__sr', '__label__bs']"
      ]
     },
     "execution_count": 69,
     "metadata": {},
     "output_type": "execute_result"
    }
   ],
   "source": [
    "model.labels"
   ]
  },
  {
   "cell_type": "code",
   "execution_count": 70,
   "metadata": {},
   "outputs": [
    {
     "data": {
      "text/plain": [
       "[['__label__sr'], ['__label__sr'], ['__label__hr']]"
      ]
     },
     "execution_count": 70,
     "metadata": {},
     "output_type": "execute_result"
    }
   ],
   "source": [
    "model.predict([\"Hriste Bože raspeti i sveti\", \"Pa da Miljacka mostove odnese\", \"Lijepa naša\"])[0]"
   ]
  },
  {
   "cell_type": "code",
   "execution_count": 71,
   "metadata": {},
   "outputs": [
    {
     "data": {
      "text/plain": [
       "([['__label__hr']], [array([0.6540654], dtype=float32)])"
      ]
     },
     "execution_count": 71,
     "metadata": {},
     "output_type": "execute_result"
    }
   ],
   "source": [
    "model.predict([\"Lijepa naša\"],)"
   ]
  },
  {
   "cell_type": "code",
   "execution_count": 40,
   "metadata": {},
   "outputs": [],
   "source": []
  },
  {
   "cell_type": "code",
   "execution_count": null,
   "metadata": {},
   "outputs": [],
   "source": []
  }
 ],
 "metadata": {
  "interpreter": {
   "hash": "7f6f5766036ee03d059e365a942add07f79c17033585e9357ee8157d52fe6bb9"
  },
  "kernelspec": {
   "display_name": "Python 3.8.3 64-bit ('base': conda)",
   "name": "python3"
  },
  "language_info": {
   "codemirror_mode": {
    "name": "ipython",
    "version": 3
   },
   "file_extension": ".py",
   "mimetype": "text/x-python",
   "name": "python",
   "nbconvert_exporter": "python",
   "pygments_lexer": "ipython3",
   "version": "3.8.3"
  },
  "orig_nbformat": 4
 },
 "nbformat": 4,
 "nbformat_minor": 2
}
