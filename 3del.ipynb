{
 "cells": [
  {
   "cell_type": "code",
   "execution_count": 3,
   "metadata": {},
   "outputs": [],
   "source": [
    "import os\n",
    "import pandas as pd\n",
    "import parse\n",
    "from transliterate import translit\n",
    "\n",
    "labels = \"/home/peterr/macocu/Varieties/BCMS/Denis_hrsrTweets.txt\"\n",
    "additional_labels =  \"/home/peterr/macocu/Varieties/BCMS/Denis_hrsrTweets_additional.txt\"\n"
   ]
  },
  {
   "cell_type": "code",
   "execution_count": 19,
   "metadata": {},
   "outputs": [],
   "source": [
    "p = parse.compile(\"users/{username}{whitespace:s}{language}\\n\")\n",
    "userdict = dict()\n",
    "with open(labels, \"r\") as labelfile:\n",
    "    for line in labelfile.readlines():\n",
    "        line = translit(line, \"sr\", reversed=True)\n",
    "        found = p.parse(line)\n",
    "        userdict[found[\"username\"]] = found[\"language\"]\n",
    "with open(additional_labels, \"r\") as labelfile:\n",
    "    for line in labelfile.readlines():\n",
    "        #line = translit(line, \"sr\", reversed=True)\n",
    "        found = p.parse(line)\n",
    "        userdict[found[\"username\"]] = found[\"language\"]\n",
    "\n"
   ]
  },
  {
   "cell_type": "code",
   "execution_count": 20,
   "metadata": {},
   "outputs": [
    {
     "data": {
      "text/plain": [
       "{'bs', 'hr', 'me', 'sr'}"
      ]
     },
     "execution_count": 20,
     "metadata": {},
     "output_type": "execute_result"
    }
   ],
   "source": [
    "set([value for key, value in userdict.items()])"
   ]
  },
  {
   "cell_type": "code",
   "execution_count": 21,
   "metadata": {},
   "outputs": [
    {
     "data": {
      "text/plain": [
       "386"
      ]
     },
     "execution_count": 21,
     "metadata": {},
     "output_type": "execute_result"
    }
   ],
   "source": [
    "twitter_data_dir = \"/home/peterr/macocu/Varieties/BCMS/users\"\n",
    "datafiles = os.listdir(twitter_data_dir)\n",
    "\n",
    "missing = [filename for filename in datafiles if filename not in userdict.keys()]\n",
    "len(missing)"
   ]
  },
  {
   "cell_type": "code",
   "execution_count": 22,
   "metadata": {},
   "outputs": [
    {
     "data": {
      "text/plain": [
       "1000"
      ]
     },
     "execution_count": 22,
     "metadata": {},
     "output_type": "execute_result"
    }
   ],
   "source": [
    "len(datafiles)"
   ]
  },
  {
   "cell_type": "code",
   "execution_count": 23,
   "metadata": {},
   "outputs": [
    {
     "data": {
      "text/plain": [
       "614"
      ]
     },
     "execution_count": 23,
     "metadata": {},
     "output_type": "execute_result"
    }
   ],
   "source": [
    "len(userdict.keys())"
   ]
  },
  {
   "cell_type": "code",
   "execution_count": 24,
   "metadata": {},
   "outputs": [
    {
     "name": "stdout",
     "output_type": "stream",
     "text": [
      "  490 /home/peterr/macocu/Varieties/BCMS/Denis_hrsrTweets.txt\n",
      "  124 /home/peterr/macocu/Varieties/BCMS/Denis_hrsrTweets_additional.txt\n",
      "  614 total\n"
     ]
    }
   ],
   "source": [
    "!wc -l /home/peterr/macocu/Varieties/BCMS/Denis*"
   ]
  },
  {
   "cell_type": "code",
   "execution_count": 25,
   "metadata": {},
   "outputs": [
    {
     "data": {
      "text/plain": [
       "{None, 'bs', 'hr', 'me', 'sr'}"
      ]
     },
     "execution_count": 25,
     "metadata": {},
     "output_type": "execute_result"
    }
   ],
   "source": [
    "present_languages = set([userdict.get(user, None) for user in datafiles])\n",
    "present_languages"
   ]
  },
  {
   "cell_type": "markdown",
   "metadata": {},
   "source": [
    "# Constructing a dataset"
   ]
  },
  {
   "cell_type": "code",
   "execution_count": 117,
   "metadata": {},
   "outputs": [],
   "source": [
    "from bs4 import BeautifulSoup\n",
    "from typing import List\n",
    "def read_user_tweets(filename: str) -> List[str]:\n",
    "    with open(filename, \"r\") as f:\n",
    "        content = \"<data>\"+f.read()+\"<\\data>\"\n",
    "    data = BeautifulSoup(content, \"xml\")\n",
    "    tweets = data.findAll(\"tweet\")\n",
    "    return [tweet.find(\"text\").text for tweet in tweets]\n",
    "import re\n",
    "def remove_mentions(tweet: str) -> str:\n",
    "    re_pattern = r\"(^|[^@\\w])@(\\w{1,15})\\b\"\n",
    "    return re.sub(re_pattern, \" \", tweet)\n",
    "def remove_URL(tweet: str) -> str:\n",
    "    re_pattern = r\"(https?:\\/\\/|\\b)(www\\.)?[-a-zA-Z0-9@:%._\\+~#=]{1,256}\\.[a-z]{2,4}\\b([-a-zA-Z0-9@:%_\\+.~#?&//=]*)\"\n",
    "    return re.sub(re_pattern, \" \", tweet)\n",
    "def remove_hashtags(tweet: str) -> str:\n",
    "    re_pattern = r\"#\\w*[a-zA-Z]\\w*\"\n",
    "    return re.sub(re_pattern, \" \", tweet)\n",
    "def remove_retweet_tag(tweet: str) -> str:\n",
    "    re_pattern = r\"^RT @(\\w{1,15}):\"\n",
    "    return re.sub(re_pattern, \"\", tweet)"
   ]
  },
  {
   "cell_type": "code",
   "execution_count": 112,
   "metadata": {},
   "outputs": [],
   "source": [
    "dataset = dict()\n",
    "for user, language in userdict.items():\n",
    "    filename = os.path.join(twitter_data_dir, user)\n",
    "    tweets = read_user_tweets(filename)\n",
    "    preprocess = lambda s: remove_hashtags(remove_URL(remove_mentions(remove_retweet_tag(s))))\n",
    "    corrected_tweets = list(map(preprocess, tweets))\n",
    "    dataset[user] = {\"language\": language, \"tweets\": corrected_tweets }"
   ]
  },
  {
   "cell_type": "code",
   "execution_count": 114,
   "metadata": {},
   "outputs": [],
   "source": [
    "tweets_dataset_filename = \"/home/peterr/macocu/taskB/data/interim/twitter.json\"\n",
    "import json\n",
    "with open(tweets_dataset_filename, \"w\") as f:\n",
    "    json.dump(dataset, f)"
   ]
  },
  {
   "cell_type": "code",
   "execution_count": 119,
   "metadata": {},
   "outputs": [
    {
     "data": {
      "text/plain": [
       "' i nije bitno gde ja idem, nego da li želiš da pođeš sa mnom'"
      ]
     },
     "execution_count": 119,
     "metadata": {},
     "output_type": "execute_result"
    }
   ],
   "source": [
    "s = \"RT @BegsDemijan: i nije bitno gde ja idem, nego da li želiš da pođeš sa mnom\"\n",
    "remove_retweet_tag(s)"
   ]
  },
  {
   "cell_type": "code",
   "execution_count": null,
   "metadata": {},
   "outputs": [],
   "source": []
  }
 ],
 "metadata": {
  "interpreter": {
   "hash": "7f6f5766036ee03d059e365a942add07f79c17033585e9357ee8157d52fe6bb9"
  },
  "kernelspec": {
   "display_name": "Python 3.8.3 64-bit ('base': conda)",
   "name": "python3"
  },
  "language_info": {
   "codemirror_mode": {
    "name": "ipython",
    "version": 3
   },
   "file_extension": ".py",
   "mimetype": "text/x-python",
   "name": "python",
   "nbconvert_exporter": "python",
   "pygments_lexer": "ipython3",
   "version": "3.8.3"
  },
  "orig_nbformat": 4
 },
 "nbformat": 4,
 "nbformat_minor": 2
}
