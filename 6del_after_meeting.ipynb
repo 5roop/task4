{
 "cells": [
  {
   "cell_type": "code",
   "execution_count": 21,
   "metadata": {},
   "outputs": [
    {
     "name": "stdout",
     "output_type": "stream",
     "text": [
      "setimes.bs-hr.hr.txt 138402 \n",
      "\tsplit 1: 110721, split 2: 124561\n",
      "setimes.bs-sr.sr.txt 135945 \n",
      "\tsplit 1: 108756, split 2: 122350\n",
      "setimes.bs-sr.bs.txt 135945 \n",
      "\tsplit 1: 108756, split 2: 122350\n"
     ]
    }
   ],
   "source": [
    "raw_data_dir = \"/home/peterr/macocu/Varieties/BCMS\"\n",
    "import os\n",
    "import parse\n",
    "\n",
    "all_files = os.listdir(raw_data_dir)\n",
    "p = parse.compile(\"setimes.{lang1}-{lang2}.{lang}.txt\")\n",
    "\n",
    "all_relevant_files = sorted([i for i in all_files if p.parse(i) is not None])\n",
    "\n",
    "\n",
    "hr = 'setimes.bs-hr.hr.txt'\n",
    "sr = 'setimes.bs-sr.sr.txt'\n",
    "bs = 'setimes.bs-sr.bs.txt'\n",
    "\n",
    "for file in [hr, sr, bs]:\n",
    "    fullpath = os.path.join(raw_data_dir, file)\n",
    "    wc = int(os.popen(f\"wc -l <{fullpath}\").read())\n",
    "\n",
    "    print(file, wc, f\"\\n\\tsplit 1: {int(wc*0.8)}, split 2: {int(wc*0.9)}\")"
   ]
  },
  {
   "cell_type": "code",
   "execution_count": null,
   "metadata": {},
   "outputs": [],
   "source": []
  }
 ],
 "metadata": {
  "interpreter": {
   "hash": "7f6f5766036ee03d059e365a942add07f79c17033585e9357ee8157d52fe6bb9"
  },
  "kernelspec": {
   "display_name": "Python 3.8.3 64-bit ('base': conda)",
   "name": "python3"
  },
  "language_info": {
   "codemirror_mode": {
    "name": "ipython",
    "version": 3
   },
   "file_extension": ".py",
   "mimetype": "text/x-python",
   "name": "python",
   "nbconvert_exporter": "python",
   "pygments_lexer": "ipython3",
   "version": "3.8.3"
  },
  "orig_nbformat": 4
 },
 "nbformat": 4,
 "nbformat_minor": 2
}
