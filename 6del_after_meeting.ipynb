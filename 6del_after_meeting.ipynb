{
 "cells": [
  {
   "cell_type": "code",
   "execution_count": 1,
   "metadata": {},
   "outputs": [
    {
     "name": "stdout",
     "output_type": "stream",
     "text": [
      "setimes.bs-hr.hr.txt 138402 \n",
      "\tsplit 1: 110721, split 2: 124561\n",
      "setimes.bs-sr.sr.txt 135945 \n",
      "\tsplit 1: 108756, split 2: 122350\n",
      "setimes.bs-sr.bs.txt 135945 \n",
      "\tsplit 1: 108756, split 2: 122350\n"
     ]
    }
   ],
   "source": [
    "raw_data_dir = \"/home/peterr/macocu/Varieties/BCMS\"\n",
    "import os\n",
    "import parse\n",
    "\n",
    "all_files = os.listdir(raw_data_dir)\n",
    "p = parse.compile(\"setimes.{lang1}-{lang2}.{lang}.txt\")\n",
    "\n",
    "all_relevant_files = sorted([i for i in all_files if p.parse(i) is not None])\n",
    "\n",
    "\n",
    "hr = 'setimes.bs-hr.hr.txt'\n",
    "sr = 'setimes.bs-sr.sr.txt'\n",
    "bs = 'setimes.bs-sr.bs.txt'\n",
    "\n",
    "for file in [hr, sr, bs]:\n",
    "    fullpath = os.path.join(raw_data_dir, file)\n",
    "    wc = int(os.popen(f\"wc -l <{fullpath}\").read())\n",
    "\n",
    "    print(file, wc, f\"\\n\\tsplit 1: {int(wc*0.8)}, split 2: {int(wc*0.9)}\")"
   ]
  },
  {
   "cell_type": "code",
   "execution_count": 13,
   "metadata": {},
   "outputs": [
    {
     "name": "stdout",
     "output_type": "stream",
     "text": [
      "Kada je list The Economist pozvao birače na potporu oporbenoj CHP na nedavno održanim općim izborima u Turskoj, premijer Recep Tayyip Erdogan naznačio je da je za to možda kriv Izrael.\n"
     ]
    }
   ],
   "source": [
    "%%bash\n",
    "sed -n '110721p' < ../../Varieties/BCMS/setimes.bs-hr.hr.txt"
   ]
  },
  {
   "cell_type": "code",
   "execution_count": 16,
   "metadata": {},
   "outputs": [
    {
     "name": "stdout",
     "output_type": "stream",
     "text": [
      "Razgovori su bili usmjereni na energetsku suradnju i jačanje odnosa.\n"
     ]
    }
   ],
   "source": [
    "%%bash\n",
    "sed -n '124561p' < ../../Varieties/BCMS/setimes.bs-hr.hr.txt"
   ]
  },
  {
   "cell_type": "code",
   "execution_count": 19,
   "metadata": {},
   "outputs": [],
   "source": [
    "%%bash\n",
    "HRFILE=/home/peterr/macocu/Varieties/BCMS/setimes.bs-hr.hr.txt\n",
    "SRFILE=/home/peterr/macocu/Varieties/BCMS/setimes.bs-sr.sr.txt\n",
    "BSFILE=/home/peterr/macocu/Varieties/BCMS/setimes.bs-hr.bs.txt\n",
    "\n",
    "INTERIM=/home/peterr/macocu/taskB/data/interim\n",
    "\n",
    "# Croatian: \n",
    "sed -n '1,110715p' $HRFILE > \"$INTERIM/hr_train.txt\"\n",
    "sed -n '110716,124548p' $HRFILE > \"$INTERIM/hr_dev.txt\"\n",
    "sed -n '124549,$p' $HRFILE > \"$INTERIM/hr_test.txt\"\n",
    "\n",
    "# Bosnian: \n",
    "sed -n '1,110715p' $BSFILE > \"$INTERIM/bs_train.txt\"\n",
    "sed -n '110716,124548p' $BSFILE > \"$INTERIM/bs_dev.txt\"\n",
    "sed -n '124549,$p' $BSFILE > \"$INTERIM/bs_test.txt\"\n",
    "\n",
    "# Serbian: \n",
    "sed -n '1,108658p' $SRFILE > \"$INTERIM/sr_train.txt\"\n",
    "sed -n '108659,122301p' $SRFILE > \"$INTERIM/sr_dev.txt\"\n",
    "sed -n '122302,$p' $SRFILE > \"$INTERIM/sr_test.txt\""
   ]
  },
  {
   "cell_type": "code",
   "execution_count": 40,
   "metadata": {},
   "outputs": [
    {
     "name": "stdout",
     "output_type": "stream",
     "text": [
      "Searching for:  {beginning}Southeast European Times{middle}{dd:d}{sep1}{mm:d}{sep2}{yy:d}{end}\n",
      "|filename | count |\n",
      "|---|---|\n",
      "|hr_train.txt| 2557|\n",
      "|bs_train.txt| 2557|\n",
      "|sr_train.txt| 2261|\n",
      "|hr_dev.txt| 326|\n",
      "|bs_dev.txt| 326|\n",
      "|sr_dev.txt| 308|\n",
      "|hr_test.txt| 310|\n",
      "|bs_test.txt| 309|\n",
      "|sr_test.txt| 295|\n"
     ]
    }
   ],
   "source": [
    "interim_path = \"/home/peterr/macocu/taskB/data/interim\"\n",
    "\n",
    "\n",
    "def count_separators(path: str, separator: str) -> int:\n",
    "    ss = parse.compile(separator)\n",
    "    with open(path, \"r\") as f:\n",
    "        counter = 0\n",
    "        for line in f.readlines():\n",
    "            if ss.parse(line) is not None:\n",
    "                counter += 1\n",
    "                #print(line)\n",
    "    return counter\n",
    "\n",
    "separator = \"{beginning}Southeast European Times{middle}{dd:d}{sep1}{mm:d}{sep2}{yy:d}{end}\"\n",
    "\n",
    "print(\"Searching for: \", separator)\n",
    "print(\"\"\"|filename | count |\n",
    "|---|---|\"\"\")\n",
    "for section in \"train,dev,test\".split(\",\"):\n",
    "    for language in \"hr,bs,sr\".split(\",\"):\n",
    "        filename = f\"{language}_{section}.txt\"\n",
    "        input_path = os.path.join(interim_path, filename)\n",
    "        \n",
    "        count = count_separators(input_path, separator)\n",
    "        print(f\"|{filename}| {count}|\")"
   ]
  },
  {
   "cell_type": "markdown",
   "metadata": {},
   "source": [
    "# Segmentation"
   ]
  },
  {
   "cell_type": "code",
   "execution_count": 68,
   "metadata": {},
   "outputs": [
    {
     "name": "stdout",
     "output_type": "stream",
     "text": [
      "Removed /home/peterr/macocu/taskB/data/final/bs_test.fasttxt\n",
      "Removed /home/peterr/macocu/taskB/data/final/sr_test.fasttxt\n",
      "Removed /home/peterr/macocu/taskB/data/final/hr_test.fasttxt\n",
      "Removed /home/peterr/macocu/taskB/data/final/bs_dev.fasttxt\n",
      "Removed /home/peterr/macocu/taskB/data/final/bs_train.fasttxt\n",
      "Removed /home/peterr/macocu/taskB/data/final/hr_train.fasttxt\n",
      "Removed /home/peterr/macocu/taskB/data/final/sr_dev.fasttxt\n",
      "Removed /home/peterr/macocu/taskB/data/final/hr_dev.fasttxt\n",
      "Removed /home/peterr/macocu/taskB/data/final/sr_train.fasttxt\n"
     ]
    }
   ],
   "source": [
    "def segment_and_save(path: str) -> None:\n",
    "    separator = \"{beginning}Southeast European Times{middle}{dd:d}{sep1}{mm:d}{sep2}{yy:d}{end}\"\n",
    "    ss = parse.compile(separator)\n",
    "\n",
    "    final_path = path.replace(\"interim\", \"final\").replace(\".txt\", \".fasttxt\")\n",
    "    \n",
    "    filename = os.path.basename(path)\n",
    "    language_parser = parse.compile(\"{language}_{split}.txt\")\n",
    "    language = language_parser.parse(filename)[\"language\"]\n",
    "    os.remove(final_path)\n",
    "    print(f\"Removed {final_path}\")\n",
    "    label = f\"__label__{language} \"\n",
    "    document = \"\"\n",
    "    with open(path, \"r\") as f:\n",
    "        for line in f.readlines():\n",
    "            if ss.parse(line) is None:\n",
    "                document += line.replace(\"\\n\", \" \")\n",
    "            else:\n",
    "                with open(final_path, \"a\") as ff:\n",
    "                    ff.write(label + document + \"\\n\")\n",
    "                document = \"\"\n",
    "        with open(final_path, \"a\") as ff:\n",
    "            ff.write(label + document + \"\\n\")\n",
    "\n",
    "full_paths_to_be_processed = [os.path.join(interim_path, i) for i in os.listdir(interim_path)]\n",
    "for path in full_paths_to_be_processed:\n",
    "    segment_and_save(path)\n"
   ]
  },
  {
   "cell_type": "code",
   "execution_count": 69,
   "metadata": {},
   "outputs": [
    {
     "name": "stdout",
     "output_type": "stream",
     "text": [
      "dev\n",
      "bs_dev.fasttxt hr_dev.fasttxt sr_dev.fasttxt\n",
      "train\n",
      "bs_train.fasttxt hr_train.fasttxt sr_train.fasttxt\n",
      "test\n",
      "bs_test.fasttxt hr_test.fasttxt sr_test.fasttxt\n"
     ]
    }
   ],
   "source": [
    "%%bash\n",
    "cd /home/peterr/macocu/taskB/data/final\n",
    "for split in \"dev\" \"train\" \"test\"\n",
    "do\n",
    "    echo $split\n",
    "    rm \"$split.fasttxt\"\n",
    "    files=$(ls | grep $split)\n",
    "    echo $files\n",
    "    cat $files > \"$split.fasttxt\"\n",
    "done"
   ]
  },
  {
   "cell_type": "code",
   "execution_count": null,
   "metadata": {},
   "outputs": [],
   "source": []
  }
 ],
 "metadata": {
  "interpreter": {
   "hash": "7f6f5766036ee03d059e365a942add07f79c17033585e9357ee8157d52fe6bb9"
  },
  "kernelspec": {
   "display_name": "Python 3.8.3 64-bit ('base': conda)",
   "name": "python3"
  },
  "language_info": {
   "codemirror_mode": {
    "name": "ipython",
    "version": 3
   },
   "file_extension": ".py",
   "mimetype": "text/x-python",
   "name": "python",
   "nbconvert_exporter": "python",
   "pygments_lexer": "ipython3",
   "version": "3.8.3"
  },
  "orig_nbformat": 4
 },
 "nbformat": 4,
 "nbformat_minor": 2
}
