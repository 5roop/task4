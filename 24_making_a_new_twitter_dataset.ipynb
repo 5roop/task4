{
 "cells": [
  {
   "cell_type": "code",
   "execution_count": 1,
   "metadata": {},
   "outputs": [
    {
     "data": {
      "text/plain": [
       "386"
      ]
     },
     "execution_count": 1,
     "metadata": {},
     "output_type": "execute_result"
    }
   ],
   "source": [
    "import os\n",
    "import pandas as pd\n",
    "import parse\n",
    "from transliterate import translit\n",
    "\n",
    "labels = \"/home/peterr/macocu/Varieties/BCMS/Denis_hrsrTweets.txt\"\n",
    "additional_labels =  \"/home/peterr/macocu/Varieties/BCMS/Denis_hrsrTweets_additional.txt\"\n",
    "\n",
    "p = parse.compile(\"users/{username}{whitespace:s}{language}\\n\")\n",
    "userdict = dict()\n",
    "with open(labels, \"r\") as labelfile:\n",
    "    for line in labelfile.readlines():\n",
    "        line = translit(line, \"sr\", reversed=True)\n",
    "        found = p.parse(line)\n",
    "        userdict[found[\"username\"]] = found[\"language\"]\n",
    "with open(additional_labels, \"r\") as labelfile:\n",
    "    for line in labelfile.readlines():\n",
    "        #line = translit(line, \"sr\", reversed=True)\n",
    "        found = p.parse(line)\n",
    "        userdict[found[\"username\"]] = found[\"language\"]\n",
    "\n",
    "twitter_data_dir = \"/home/peterr/macocu/Varieties/BCMS/users\"\n",
    "datafiles = os.listdir(twitter_data_dir)\n",
    "\n",
    "missing = [filename for filename in datafiles if filename not in userdict.keys()]\n",
    "len(missing)"
   ]
  },
  {
   "cell_type": "code",
   "execution_count": 2,
   "metadata": {},
   "outputs": [],
   "source": [
    "from bs4 import BeautifulSoup\n",
    "from typing import List\n",
    "def read_user_tweets(filename: str) -> List[str]:\n",
    "    with open(filename, \"r\") as f:\n",
    "        content = \"<data>\"+f.read()+\"<\\data>\"\n",
    "    data = BeautifulSoup(content, \"xml\")\n",
    "    tweets = data.findAll(\"tweet\")\n",
    "    return [tweet.find(\"text\").text for tweet in tweets]\n",
    "def to_latin(tweet: str) -> str:\n",
    "    for lang in [\"sr\", \"mk\"]:\n",
    "        tweet = translit(tweet, lang, reversed=True)\n",
    "    return tweet\n",
    "\n",
    "dataset = dict()\n",
    "for user, language in userdict.items():\n",
    "    filename = os.path.join(twitter_data_dir, user)\n",
    "    tweets = read_user_tweets(filename)\n",
    "    corrected_tweets = list(map(to_latin, tweets))\n",
    "    corrected_tweets = [t for t in corrected_tweets if len(t) > 0]\n",
    "    dataset[user] = {\"language\": language, \"tweets\": corrected_tweets}\n"
   ]
  },
  {
   "cell_type": "code",
   "execution_count": 6,
   "metadata": {},
   "outputs": [],
   "source": [
    "import pickle\n",
    "with open(\"/home/peterr/macocu/taskB/data/final/twitter_full_ds_only_transliterated.pickle\", \"wb\") as f:\n",
    "    pickle.dump(dataset, f)"
   ]
  },
  {
   "cell_type": "markdown",
   "metadata": {},
   "source": [
    "# Generating a JSON dataset and aux plots:"
   ]
  },
  {
   "cell_type": "code",
   "execution_count": 13,
   "metadata": {},
   "outputs": [
    {
     "data": {
      "text/html": [
       "<div>\n",
       "<style scoped>\n",
       "    .dataframe tbody tr th:only-of-type {\n",
       "        vertical-align: middle;\n",
       "    }\n",
       "\n",
       "    .dataframe tbody tr th {\n",
       "        vertical-align: top;\n",
       "    }\n",
       "\n",
       "    .dataframe thead th {\n",
       "        text-align: right;\n",
       "    }\n",
       "</style>\n",
       "<table border=\"1\" class=\"dataframe\">\n",
       "  <thead>\n",
       "    <tr style=\"text-align: right;\">\n",
       "      <th></th>\n",
       "      <th>user</th>\n",
       "      <th>language</th>\n",
       "      <th>tweets</th>\n",
       "    </tr>\n",
       "  </thead>\n",
       "  <tbody>\n",
       "    <tr>\n",
       "      <th>0</th>\n",
       "      <td>LeoVinkovic</td>\n",
       "      <td>hr</td>\n",
       "      <td>[RT @_marin: Hahahaha! @leovinkovic i ja iz pe...</td>\n",
       "    </tr>\n",
       "    <tr>\n",
       "      <th>1</th>\n",
       "      <td>Vanjuus</td>\n",
       "      <td>sr</td>\n",
       "      <td>[Like it. RT @Speranca: Jureći ljubav. Novi si...</td>\n",
       "    </tr>\n",
       "    <tr>\n",
       "      <th>2</th>\n",
       "      <td>Mracness</td>\n",
       "      <td>sr</td>\n",
       "      <td>[Ali nije mi ... Hvala http://t.co/QEOV0Je64K,...</td>\n",
       "    </tr>\n",
       "    <tr>\n",
       "      <th>3</th>\n",
       "      <td>MilenaMina1</td>\n",
       "      <td>sr</td>\n",
       "      <td>[Today stats: 36 followers, 2 unfollowers and ...</td>\n",
       "    </tr>\n",
       "    <tr>\n",
       "      <th>4</th>\n",
       "      <td>JeremicJeremic</td>\n",
       "      <td>sr</td>\n",
       "      <td>[4 leka koja treba da koristim za uho,ah, @Evo...</td>\n",
       "    </tr>\n",
       "  </tbody>\n",
       "</table>\n",
       "</div>"
      ],
      "text/plain": [
       "             user language                                             tweets\n",
       "0     LeoVinkovic       hr  [RT @_marin: Hahahaha! @leovinkovic i ja iz pe...\n",
       "1         Vanjuus       sr  [Like it. RT @Speranca: Jureći ljubav. Novi si...\n",
       "2        Mracness       sr  [Ali nije mi ... Hvala http://t.co/QEOV0Je64K,...\n",
       "3     MilenaMina1       sr  [Today stats: 36 followers, 2 unfollowers and ...\n",
       "4  JeremicJeremic       sr  [4 leka koja treba da koristim za uho,ah, @Evo..."
      ]
     },
     "execution_count": 13,
     "metadata": {},
     "output_type": "execute_result"
    }
   ],
   "source": [
    "import pickle\n",
    "import matplotlib.pyplot as plt\n",
    "plt.style.use(\"science,no-latex\".split(\",\"))\n",
    "import pandas as pd\n",
    "with open(\"/home/peterr/macocu/taskB/data/final/twitter_full_ds_only_transliterated.pickle\", \"rb\") as f:\n",
    "    ds = pickle.load(f)\n",
    "\n",
    "data = list()\n",
    "for user in ds.keys():\n",
    "    lang = ds[user][\"language\"]\n",
    "    data.append(\n",
    "        {\n",
    "            \"user\": user,\n",
    "            \"language\": lang,\n",
    "            \"tweets\": [i for i in ds.get(user).get(\"tweets\")]\n",
    "        }\n",
    "    )\n",
    "# import re\n",
    "df = pd.DataFrame(data=data)\n",
    "# df[\"tweets\"] = df.tweets.apply(lambda l: [re.sub('\\s+', ' ', s) for s in l]).apply(lambda l: [s for s in l if s != \" \"])\n",
    "\n",
    "df.head()"
   ]
  },
  {
   "cell_type": "code",
   "execution_count": 14,
   "metadata": {},
   "outputs": [
    {
     "name": "stderr",
     "output_type": "stream",
     "text": [
      "<ipython-input-14-ee9c7f5b1b3d>:7: SettingWithCopyWarning: \n",
      "A value is trying to be set on a copy of a slice from a DataFrame.\n",
      "Try using .loc[row_indexer,col_indexer] = value instead\n",
      "\n",
      "See the caveats in the documentation: https://pandas.pydata.org/pandas-docs/stable/user_guide/indexing.html#returning-a-view-versus-a-copy\n",
      "  subset[\"count\"] = subset.tweets.apply(lambda l: sum([len(i) for i in l]))\n"
     ]
    },
    {
     "data": {
      "image/png": "[encoded data removed]",
      "text/plain": [
       "<Figure size 504x288 with 1 Axes>"
      ]
     },
     "metadata": {
      "needs_background": "light"
     },
     "output_type": "display_data"
    }
   ],
   "source": [
    "from sklearn.model_selection import train_test_split\n",
    "\n",
    "train, devtest = train_test_split(df, stratify = df.language, random_state=42, train_size=0.6)\n",
    "dev, test = train_test_split(devtest, stratify=devtest.language, random_state=42, train_size=0.5)\n",
    "\n",
    "for subset in [dev, train, test, df]:\n",
    "    subset[\"count\"] = subset.tweets.apply(lambda l: sum([len(i) for i in l]))\n",
    "\n",
    "\n",
    "\n",
    "plt.figure(figsize=(7,4))\n",
    "\n",
    "for name, subset in zip([\"train\", \"dev\", \"test\"],[train, dev, test]):\n",
    "    plt.hist(subset[\"count\"],\n",
    "            label=f\"{name}\", histtype=\"step\", density=True)\n",
    "\n",
    "plt.title(\"Distribution of users' total character count\")\n",
    "plt.legend()\n",
    "plt.savefig(\"twitter_dataset/images/users_length_distribution.png\")"
   ]
  },
  {
   "cell_type": "code",
   "execution_count": 15,
   "metadata": {},
   "outputs": [
    {
     "data": {
      "image/png": "[encoded data removed]",
      "text/plain": [
       "<Figure size 504x288 with 1 Axes>"
      ]
     },
     "metadata": {
      "needs_background": "light"
     },
     "output_type": "display_data"
    }
   ],
   "source": [
    "plt.figure(figsize=(7,4))\n",
    "\n",
    "for lang in df.language.unique():\n",
    "    subset = df.loc[df.language==lang, \"count\"]\n",
    "    plt.hist(subset, label=f\"{lang}\", density=True, histtype=\"step\", bins=9)\n",
    "\n",
    "plt.title(\"Distribution of users' character count by language\")\n",
    "plt.legend()\n",
    "plt.savefig(\"twitter_dataset/images/language_length_distribution.png\")"
   ]
  },
  {
   "cell_type": "code",
   "execution_count": 16,
   "metadata": {},
   "outputs": [
    {
     "name": "stderr",
     "output_type": "stream",
     "text": [
      "<ipython-input-16-58645e1fb4f1>:2: SettingWithCopyWarning: \n",
      "A value is trying to be set on a copy of a slice from a DataFrame.\n",
      "Try using .loc[row_indexer,col_indexer] = value instead\n",
      "\n",
      "See the caveats in the documentation: https://pandas.pydata.org/pandas-docs/stable/user_guide/indexing.html#returning-a-view-versus-a-copy\n",
      "  subset[\"split\"] = name\n"
     ]
    }
   ],
   "source": [
    "for name, subset in zip([\"train\", \"dev\", \"test\"],[train, dev, test]):\n",
    "    subset[\"split\"] = name"
   ]
  },
  {
   "cell_type": "code",
   "execution_count": 17,
   "metadata": {},
   "outputs": [
    {
     "data": {
      "text/html": [
       "<div>\n",
       "<style scoped>\n",
       "    .dataframe tbody tr th:only-of-type {\n",
       "        vertical-align: middle;\n",
       "    }\n",
       "\n",
       "    .dataframe tbody tr th {\n",
       "        vertical-align: top;\n",
       "    }\n",
       "\n",
       "    .dataframe thead th {\n",
       "        text-align: right;\n",
       "    }\n",
       "</style>\n",
       "<table border=\"1\" class=\"dataframe\">\n",
       "  <thead>\n",
       "    <tr style=\"text-align: right;\">\n",
       "      <th></th>\n",
       "      <th>user</th>\n",
       "      <th>language</th>\n",
       "      <th>tweets</th>\n",
       "      <th>count</th>\n",
       "      <th>split</th>\n",
       "    </tr>\n",
       "  </thead>\n",
       "  <tbody>\n",
       "    <tr>\n",
       "      <th>0</th>\n",
       "      <td>danijelzv</td>\n",
       "      <td>bs</td>\n",
       "      <td>[RT @BojanSolaja: Isto srce kao '95! #Srbija #...</td>\n",
       "      <td>90667</td>\n",
       "      <td>train</td>\n",
       "    </tr>\n",
       "    <tr>\n",
       "      <th>1</th>\n",
       "      <td>SavkaGazivoda</td>\n",
       "      <td>me</td>\n",
       "      <td>[@Daree14 hahhahahahahahaha mogao si danas i i...</td>\n",
       "      <td>64949</td>\n",
       "      <td>train</td>\n",
       "    </tr>\n",
       "    <tr>\n",
       "      <th>2</th>\n",
       "      <td>psiha_je_cudo</td>\n",
       "      <td>sr</td>\n",
       "      <td>[@radenkovicc moguce i to, @radenkovicc ne zna...</td>\n",
       "      <td>77016</td>\n",
       "      <td>train</td>\n",
       "    </tr>\n",
       "    <tr>\n",
       "      <th>3</th>\n",
       "      <td>ubuntu_hr</td>\n",
       "      <td>hr</td>\n",
       "      <td>[Objavljen je #Ubuntu 13.04 (#Raring Ringtail)...</td>\n",
       "      <td>18308</td>\n",
       "      <td>train</td>\n",
       "    </tr>\n",
       "    <tr>\n",
       "      <th>4</th>\n",
       "      <td>mladisuzakon</td>\n",
       "      <td>sr</td>\n",
       "      <td>[Konkurs za volontera/volonterku | Fondacija A...</td>\n",
       "      <td>37862</td>\n",
       "      <td>train</td>\n",
       "    </tr>\n",
       "  </tbody>\n",
       "</table>\n",
       "</div>"
      ],
      "text/plain": [
       "            user language                                             tweets  \\\n",
       "0      danijelzv       bs  [RT @BojanSolaja: Isto srce kao '95! #Srbija #...   \n",
       "1  SavkaGazivoda       me  [@Daree14 hahhahahahahahaha mogao si danas i i...   \n",
       "2  psiha_je_cudo       sr  [@radenkovicc moguce i to, @radenkovicc ne zna...   \n",
       "3      ubuntu_hr       hr  [Objavljen je #Ubuntu 13.04 (#Raring Ringtail)...   \n",
       "4   mladisuzakon       sr  [Konkurs za volontera/volonterku | Fondacija A...   \n",
       "\n",
       "   count  split  \n",
       "0  90667  train  \n",
       "1  64949  train  \n",
       "2  77016  train  \n",
       "3  18308  train  \n",
       "4  37862  train  "
      ]
     },
     "execution_count": 17,
     "metadata": {},
     "output_type": "execute_result"
    }
   ],
   "source": [
    "df_out = pd.concat([train, dev, test], ignore_index=True)\n",
    "\n",
    "df_out.head()"
   ]
  },
  {
   "cell_type": "code",
   "execution_count": 18,
   "metadata": {},
   "outputs": [],
   "source": [
    "df_out.loc[:, [\"user\", \"language\", \"split\", \"tweets\"]].to_json(\"twitter_dataset/twitter.json\", orient=\"records\", indent=4,)"
   ]
  },
  {
   "cell_type": "code",
   "execution_count": 19,
   "metadata": {},
   "outputs": [
    {
     "data": {
      "text/plain": [
       "sr    394\n",
       "hr     89\n",
       "bs     75\n",
       "me     56\n",
       "Name: language, dtype: int64"
      ]
     },
     "execution_count": 19,
     "metadata": {},
     "output_type": "execute_result"
    }
   ],
   "source": [
    "df_out.language.value_counts()"
   ]
  },
  {
   "cell_type": "code",
   "execution_count": null,
   "metadata": {},
   "outputs": [],
   "source": []
  }
 ],
 "metadata": {
  "interpreter": {
   "hash": "7f6f5766036ee03d059e365a942add07f79c17033585e9357ee8157d52fe6bb9"
  },
  "kernelspec": {
   "display_name": "Python 3.8.3 64-bit ('base': conda)",
   "language": "python",
   "name": "python3"
  },
  "language_info": {
   "codemirror_mode": {
    "name": "ipython",
    "version": 3
   },
   "file_extension": ".py",
   "mimetype": "text/x-python",
   "name": "python",
   "nbconvert_exporter": "python",
   "pygments_lexer": "ipython3",
   "version": "3.8.3"
  },
  "orig_nbformat": 4
 },
 "nbformat": 4,
 "nbformat_minor": 2
}
