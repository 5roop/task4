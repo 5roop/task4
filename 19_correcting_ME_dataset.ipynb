{
 "cells": [
  {
   "cell_type": "markdown",
   "metadata": {},
   "source": [
    "The purpose of this notebook is correcting ME webcrawl dataset so that it is more comparable with the other languages.\n",
    "\n",
    "# Importing the dataset"
   ]
  },
  {
   "cell_type": "code",
   "execution_count": 1,
   "metadata": {},
   "outputs": [],
   "source": [
    "import os\n",
    "import gc\n",
    "import parse\n",
    "import logging\n",
    "import numpy as np\n",
    "import pandas as pd\n",
    "from typing import List\n",
    "import matplotlib.pyplot as plt\n",
    "pd.set_option('max_colwidth', 60)\n",
    "from utils import (get_N_tokens, read_and_split_file, \n",
    "                    raw_dir, interim_dir, final_dir, \n",
    "                    load_SET_dataset, LABELS)\n",
    "\n",
    "logging.basicConfig(format=\"%(asctime)s - %(message)s\", level=logging.INFO)\n"
   ]
  },
  {
   "cell_type": "code",
   "execution_count": 4,
   "metadata": {},
   "outputs": [],
   "source": [
    "texts, labels = list(), list()\n",
    "\n",
    "files = [\"bswac_tail_pp\", \"cnrwac_tail_pp\", \"hrwac_tail_pp\", \"srwac_tail_pp\"]\n",
    "\n",
    "langs = [\"bs\", \"me\", \"hr\", \"sr\"]\n",
    "\n",
    "for file, lang in zip(files, langs):\n",
    "    full_path = os.path.join(interim_dir, file)\n",
    "    current_texts = read_and_split_file(full_path)\n",
    "    len_cur_texts = len(current_texts)\n",
    "    texts.extend(current_texts)\n",
    "    labels.extend([lang] * len_cur_texts)\n",
    "\n",
    "train = pd.DataFrame(data={\"text\": texts, \"labels\": labels})\n",
    "\n",
    "def count_words(instance: str) -> int:\n",
    "    return len(instance.split(\" \"))\n",
    "train[\"wc\"] = train.text.apply(count_words)"
   ]
  },
  {
   "cell_type": "code",
   "execution_count": 5,
   "metadata": {},
   "outputs": [
    {
     "data": {
      "image/png": "[encoded data removed]",
      "text/plain": [
       "<Figure size 432x288 with 1 Axes>"
      ]
     },
     "metadata": {
      "needs_background": "light"
     },
     "output_type": "display_data"
    }
   ],
   "source": [
    "for l in LABELS:\n",
    "    subset = train.loc[train.labels == l, :]\n",
    "    plt.hist(subset.wc, label=l, histtype=\"step\", \n",
    "            bins=np.logspace(1, 4, num=100, dtype=int))\n",
    "plt.legend()\n",
    "plt.semilogx()\n",
    "plt.title(\"Original distribution of instance lengths\")\n",
    "plt.xlabel(\"Instance word count\")\n",
    "plt.savefig(\"images/19_original_word_count_distribution.png\")\n",
    "plt.show()"
   ]
  },
  {
   "cell_type": "markdown",
   "metadata": {},
   "source": [
    "## Joining the orphaned instances"
   ]
  },
  {
   "cell_type": "code",
   "execution_count": 24,
   "metadata": {},
   "outputs": [
    {
     "name": "stdout",
     "output_type": "stream",
     "text": [
      "Original size:  152852 instances.\n",
      "Remove 5928  instances.\n",
      "Number of instances after corrections: 140737\n"
     ]
    }
   ],
   "source": [
    "texts, labels = list(), list()\n",
    "\n",
    "files = [\"cnrwac_tail_pp\"]\n",
    "\n",
    "langs = [\"me\"]\n",
    "\n",
    "for file, lang in zip(files, langs):\n",
    "    full_path = os.path.join(interim_dir, file)\n",
    "    current_texts = read_and_split_file(full_path)\n",
    "    len_cur_texts = len(current_texts)\n",
    "    texts.extend(current_texts)\n",
    "    labels.extend([lang] * len_cur_texts)\n",
    "\n",
    "medf = pd.DataFrame(data={\"text\": texts, \"labels\": labels})\n",
    "print(\"Original size: \", medf.shape[0], \"instances.\")\n",
    "print(\"Remove\",medf.text.str.contains(\"   pogledano   puta   put promjenjen \").sum(), \" instances.\")\n",
    "medf = medf.loc[~medf.text.str.contains(\"   pogledano   puta   put promjenjen \"),:].reset_index(drop=True)\n",
    "def count_words(instance: str) -> int:\n",
    "    return len(instance.split(\" \"))\n",
    "medf[\"wc\"] = medf.text.apply(count_words)\n",
    "\n",
    "\n",
    "c = medf.wc < 20\n",
    "\n",
    "indices_to_correct = medf.loc[c, :].index.values\n",
    "for i in indices_to_correct:\n",
    "    try:\n",
    "        row = medf.iloc[i, :]\n",
    "        short_text = row.text\n",
    "        neighbour_text = medf.iloc[i+1, :].text\n",
    "        medf.iloc[i+1, 0] = neighbour_text + \" \" + short_text\n",
    "    except IndexError:\n",
    "        row = medf.iloc[i, :]\n",
    "        short_text = row.text\n",
    "        neighbour_text = medf.iloc[0, :].text\n",
    "        medf.iloc[0, 0] = neighbour_text + \" \" + short_text\n",
    "\n",
    "medf.drop(indices_to_correct, inplace=True)\n",
    "medf[\"wc\"] = medf.text.apply(count_words)\n",
    "print(f\"Number of instances after corrections: {medf.shape[0]}\")"
   ]
  },
  {
   "cell_type": "code",
   "execution_count": 19,
   "metadata": {},
   "outputs": [
    {
     "data": {
      "image/png": "[encoded data removed]",
      "text/plain": [
       "<Figure size 432x288 with 1 Axes>"
      ]
     },
     "metadata": {
      "needs_background": "light"
     },
     "output_type": "display_data"
    }
   ],
   "source": [
    "plt.hist(medf.wc, histtype=\"step\", \n",
    "            bins=np.logspace(1, 4, num=100, dtype=int),\n",
    "            label=\"me, corrected\")\n",
    "for l in [\"me\", \"hr\", \"sr\", \"bs\"]:\n",
    "    subset = train.loc[train.labels == l, :]\n",
    "    plt.hist(subset.wc, label=l, histtype=\"step\", \n",
    "            bins=np.logspace(1, 4, num=100, dtype=int))\n",
    "plt.legend()\n",
    "plt.semilogx()\n",
    "plt.title(\"Original distribution of instance lengths\")\n",
    "plt.xlabel(\"Instance word count\")\n",
    "plt.savefig(\"images/19_word_count_distribution_comparison_2.png\")\n",
    "plt.show()\n"
   ]
  },
  {
   "cell_type": "code",
   "execution_count": 21,
   "metadata": {},
   "outputs": [],
   "source": [
    "target_file = os.path.join(interim_dir, \"cnrwac_tail_pp_corrected_2\")\n",
    "content = \"\\n\\n\".join(medf.text.tolist())"
   ]
  },
  {
   "cell_type": "code",
   "execution_count": 22,
   "metadata": {},
   "outputs": [],
   "source": [
    "with open(target_file, \"w\") as f:\n",
    "    f.write(content)"
   ]
  },
  {
   "cell_type": "code",
   "execution_count": 23,
   "metadata": {},
   "outputs": [
    {
     "data": {
      "text/plain": [
       "(140737, 3)"
      ]
     },
     "execution_count": 23,
     "metadata": {},
     "output_type": "execute_result"
    }
   ],
   "source": [
    "medf.shape"
   ]
  },
  {
   "cell_type": "code",
   "execution_count": null,
   "metadata": {},
   "outputs": [],
   "source": []
  }
 ],
 "metadata": {
  "interpreter": {
   "hash": "7f6f5766036ee03d059e365a942add07f79c17033585e9357ee8157d52fe6bb9"
  },
  "kernelspec": {
   "display_name": "Python 3.8.3 64-bit ('base': conda)",
   "language": "python",
   "name": "python3"
  },
  "language_info": {
   "codemirror_mode": {
    "name": "ipython",
    "version": 3
   },
   "file_extension": ".py",
   "mimetype": "text/x-python",
   "name": "python",
   "nbconvert_exporter": "python",
   "pygments_lexer": "ipython3",
   "version": "3.8.3"
  },
  "orig_nbformat": 4
 },
 "nbformat": 4,
 "nbformat_minor": 2
}
