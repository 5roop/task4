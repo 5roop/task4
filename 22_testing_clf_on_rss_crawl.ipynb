{
 "cells": [
  {
   "cell_type": "code",
   "execution_count": 3,
   "metadata": {},
   "outputs": [],
   "source": [
    "import os\n",
    "import gc\n",
    "import parse\n",
    "import logging\n",
    "import numpy as np\n",
    "import pandas as pd\n",
    "from utils import get_N_tokens, read_and_split_file, raw_dir, interim_dir, final_dir, load_SET_dataset, LABELS, load_rss_dataset\n",
    "\n",
    "logging.basicConfig(format=\"%(asctime)s - %(message)s\", level=logging.INFO)"
   ]
  },
  {
   "cell_type": "markdown",
   "metadata": {},
   "source": [
    "# Reading the training dataset (WebCrawl):"
   ]
  },
  {
   "cell_type": "code",
   "execution_count": 4,
   "metadata": {},
   "outputs": [],
   "source": [
    "texts, labels = list(), list()\n",
    "\n",
    "files = [\"bswac_tail_pp\", \"cnrwac_tail_pp_corrected_2\", \"hrwac_tail_pp\", \"srwac_tail_pp\"]\n",
    "\n",
    "langs = [\"bs\", \"me\", \"hr\", \"sr\"]\n",
    "\n",
    "for file, lang in zip(files, langs):\n",
    "    full_path = os.path.join(interim_dir, file)\n",
    "    current_texts = read_and_split_file(full_path)\n",
    "    len_cur_texts = len(current_texts)\n",
    "    texts.extend(current_texts)\n",
    "    labels.extend([lang] * len_cur_texts)\n",
    "\n",
    "train = pd.DataFrame(data={\"text\": texts, \"labels\": labels})"
   ]
  },
  {
   "cell_type": "markdown",
   "metadata": {},
   "source": [
    "# Loading the eval df:"
   ]
  },
  {
   "cell_type": "code",
   "execution_count": 5,
   "metadata": {},
   "outputs": [],
   "source": [
    "eval_df = load_rss_dataset()"
   ]
  },
  {
   "cell_type": "markdown",
   "metadata": {},
   "source": [
    "# Defining the eval functions and clf:"
   ]
  },
  {
   "cell_type": "code",
   "execution_count": 6,
   "metadata": {},
   "outputs": [],
   "source": [
    "from sklearn.svm import LinearSVC\n",
    "clf_lin_svc = LinearSVC(dual=False)\n",
    "\n",
    "def get_stats(N: int, train=train, eval_df=eval_df, clf=clf_lin_svc, labels=LABELS):\n",
    "    import gc\n",
    "    from sklearn.feature_extraction.text import CountVectorizer\n",
    "    from sklearn.metrics import (\n",
    "        f1_score,\n",
    "        ConfusionMatrixDisplay,\n",
    "        confusion_matrix,\n",
    "        accuracy_score,\n",
    "    )\n",
    "\n",
    "    gc.collect()\n",
    "    vocabulary = get_N_tokens(N)\n",
    "\n",
    "    def get_coverage(s:str) -> int:\n",
    "        \"\"\"Calculates how many vocabulary tokens are in the string.\n",
    "\n",
    "        Args:\n",
    "            s (str): input string\n",
    "\n",
    "        Returns:\n",
    "            int: number of DISTINCT vocabulary tokens in input string.\n",
    "        \"\"\"        \n",
    "        word_set = set(s.split(\" \"))\n",
    "        return len(word_set.intersection(vocabulary))\n",
    "    vectorizer = CountVectorizer(vocabulary=vocabulary, lowercase=True, binary=True)\n",
    "    \n",
    "    eval_df[\"coverage\"] = eval_df.text.apply(get_coverage)\n",
    "    average_coverage = eval_df.coverage.mean()\n",
    "\n",
    "\n",
    "    train_vectors = vectorizer.fit_transform(train.text)\n",
    "    train_labels = train.labels\n",
    "    test_vectors = vectorizer.fit_transform(eval_df.text)\n",
    "    y_true = eval_df.labels\n",
    "\n",
    "\n",
    "    clf.fit(train_vectors.toarray(), train_labels)\n",
    "    y_pred = clf.predict(test_vectors.toarray())\n",
    "    LABELS = labels\n",
    "    macro = f1_score(y_true, y_pred, labels=LABELS, average=\"macro\")\n",
    "    micro = f1_score(y_true, y_pred, labels=LABELS, average=\"micro\")\n",
    "    acc = accuracy_score(y_true, y_pred)\n",
    "    cm = confusion_matrix(y_true, y_pred, labels=LABELS)\n",
    "    bool_coverage = eval_df.coverage.value_counts()[0]\n",
    "    returndict = {\"N\": N, \"microF1\": micro, \"macroF1\": macro, \"accuracy\": acc, \"cm\": cm,\n",
    "    \"coverage\": average_coverage, \"clf\": clf.__str__(), \"bool_coverage\": bool_coverage,\n",
    "    \"bool_coverage_ratio\": bool_coverage/len(y_true)}\n",
    "    for lang in LABELS:\n",
    "        idx = eval_df.labels == lang\n",
    "        M = idx.sum()\n",
    "        returndict[f\"bool_coverage_ratio_{lang}\"] = eval_df.loc[idx, \"coverage\"].value_counts().get(0, 0) / M\n",
    "    return returndict"
   ]
  },
  {
   "cell_type": "markdown",
   "metadata": {},
   "source": [
    "# Defining the clf and running the eval loop:"
   ]
  },
  {
   "cell_type": "code",
   "execution_count": 7,
   "metadata": {},
   "outputs": [
    {
     "name": "stderr",
     "output_type": "stream",
     "text": [
      "2022-01-25 10:23:41,579 - N=10\n",
      "2022-01-25 10:23:43,291 - NumExpr defaulting to 8 threads.\n",
      "2022-01-25 10:24:36,592 - N=14\n",
      "2022-01-25 10:25:32,517 - N=20\n",
      "2022-01-25 10:26:29,268 - N=29\n",
      "2022-01-25 10:27:28,423 - N=42\n",
      "2022-01-25 10:28:27,949 - N=61\n",
      "2022-01-25 10:29:29,947 - N=88\n",
      "2022-01-25 10:30:31,885 - N=127\n",
      "2022-01-25 10:31:38,817 - N=183\n",
      "2022-01-25 10:32:45,843 - N=263\n",
      "2022-01-25 10:33:59,807 - N=379\n",
      "2022-01-25 10:35:17,291 - N=545\n",
      "2022-01-25 10:36:41,002 - N=784\n",
      "2022-01-25 10:38:09,343 - N=1128\n",
      "2022-01-25 10:39:45,260 - N=1623\n",
      "2022-01-25 10:41:32,070 - N=2335\n",
      "2022-01-25 10:43:35,562 - N=3359\n",
      "2022-01-25 10:46:09,241 - N=4832\n",
      "2022-01-25 10:49:10,328 - N=6951\n",
      "2022-01-25 10:54:12,575 - N=10000\n"
     ]
    }
   ],
   "source": [
    "Ns = np.logspace(1, 4, 20, dtype=np.int)\n",
    "results = list()\n",
    "for N in Ns:\n",
    "    try:\n",
    "        logging.info(f\"{N=}\")\n",
    "        rezdict = get_stats(N, train=train, eval_df=eval_df, clf=clf_lin_svc, labels=LABELS)\n",
    "        rezdict[\"eval_df\"] = \"RSS\"\n",
    "        results.append(rezdict)\n",
    "    except MemoryError:\n",
    "        break"
   ]
  },
  {
   "cell_type": "code",
   "execution_count": 8,
   "metadata": {},
   "outputs": [],
   "source": [
    "rezdf = pd.DataFrame(data=results)\n",
    "rezdf.index = rezdf.N\n",
    "rezdf = rezdf.drop(columns=[\"N\"])\n",
    "rezdf = rezdf.sort_index()\n",
    "rezdf.to_csv(\"22_results_LinSVC_on_RSS_crawl.csv\")\n"
   ]
  },
  {
   "cell_type": "code",
   "execution_count": 9,
   "metadata": {},
   "outputs": [
    {
     "data": {
      "image/png": "[encoded data removed]",
      "text/plain": [
       "<Figure size 504x288 with 1 Axes>"
      ]
     },
     "metadata": {
      "needs_background": "light"
     },
     "output_type": "display_data"
    }
   ],
   "source": [
    "import matplotlib.pyplot as plt\n",
    "plt.style.use([\"science\", \"no-latex\"])\n",
    "\n",
    "plt.figure(figsize=(7, 4))\n",
    "plt.scatter(rezdf.index, rezdf[\"microF1\"],label=\"micro F1\")\n",
    "\n",
    "plt.scatter(rezdf.index, rezdf[\"macroF1\"],label=\"macro F1\")\n",
    "\n",
    "plt.plot(rezdf.index, rezdf[\"accuracy\"],label=\"accuracy\")\n",
    "plt.scatter(rezdf.index, rezdf[\"bool_coverage_ratio\"],label=\"bool_coverage\")\n",
    "plt.xlabel(\"Number of top features per language\")\n",
    "\n",
    "for lang in LABELS:\n",
    "    plt.plot(rezdf.index, rezdf[f\"bool_coverage_ratio_{lang}\"], label=f\"{lang}\")\n",
    "plt.legend()\n",
    "plt.title(\"Metrics vs. #features\")\n",
    "plt.semilogx()\n",
    "plt.savefig(\"images/22_LinSVC_on_RSS.png\")\n",
    "plt.show()"
   ]
  },
  {
   "cell_type": "code",
   "execution_count": null,
   "metadata": {},
   "outputs": [],
   "source": []
  }
 ],
 "metadata": {
  "interpreter": {
   "hash": "7f6f5766036ee03d059e365a942add07f79c17033585e9357ee8157d52fe6bb9"
  },
  "kernelspec": {
   "display_name": "Python 3.8.3 64-bit ('base': conda)",
   "language": "python",
   "name": "python3"
  },
  "language_info": {
   "codemirror_mode": {
    "name": "ipython",
    "version": 3
   },
   "file_extension": ".py",
   "mimetype": "text/x-python",
   "name": "python",
   "nbconvert_exporter": "python",
   "pygments_lexer": "ipython3",
   "version": "3.8.3"
  },
  "orig_nbformat": 4
 },
 "nbformat": 4,
 "nbformat_minor": 2
}
